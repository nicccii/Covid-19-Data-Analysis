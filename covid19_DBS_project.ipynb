{
 "cells": [
  {
   "cell_type": "markdown",
   "metadata": {},
   "source": [
    "# Structure of the Notebook\n",
    "\n",
    "1. Problem Statement\n",
    "2. Data Loading and Preprocessing\n",
    "3. Feature extraction and exploration\n",
    "4. Data Split into Training, Validation and Test data\n",
    "5. Time Series Forecasting models\n",
    "6. Machine Learning models"
   ]
  },
  {
   "cell_type": "markdown",
   "metadata": {},
   "source": [
    "# 1. Problem Statement"
   ]
  },
  {
   "cell_type": "markdown",
   "metadata": {},
   "source": [
    "The focus is to forecast the trend of Covid19 confirmed cases in Ireland. JHU CSSE provided confirmed cases data for the last 1 and eight months and I want to predict confirmed cases for Ireland for next 3 months."
   ]
  },
  {
   "cell_type": "markdown",
   "metadata": {},
   "source": [
    "# 2. Data Loading and Preprocessing"
   ]
  },
  {
   "cell_type": "code",
   "execution_count": 343,
   "metadata": {},
   "outputs": [],
   "source": [
    "#!pip install wget"
   ]
  },
  {
   "cell_type": "code",
   "execution_count": 1,
   "metadata": {},
   "outputs": [],
   "source": [
    "import pandas as pd\n",
    "import numpy as np\n",
    "import wget"
   ]
  },
  {
   "cell_type": "code",
   "execution_count": 2,
   "metadata": {},
   "outputs": [],
   "source": [
    "#1. Download raw dataset"
   ]
  },
  {
   "cell_type": "code",
   "execution_count": 4,
   "metadata": {},
   "outputs": [
    {
     "data": {
      "text/plain": [
       "['time_series_covid19_confirmed_global.csv',\n",
       " 'time_series_covid19_deaths_global.csv',\n",
       " 'time_series_covid19_recovered_global.csv',\n",
       " 'time_series_covid19_vaccine_global.csv',\n",
       " 'WHO-COVID-19-global-data.csv']"
      ]
     },
     "execution_count": 4,
     "metadata": {},
     "output_type": "execute_result"
    }
   ],
   "source": [
    "# url of the raw csv dataset\n",
    "urls = [\n",
    "    'https://raw.githubusercontent.com/CSSEGISandData/COVID-19/master/csse_covid_19_data/csse_covid_19_time_series/time_series_covid19_confirmed_global.csv',\n",
    "    'https://raw.githubusercontent.com/CSSEGISandData/COVID-19/master/csse_covid_19_data/csse_covid_19_time_series/time_series_covid19_deaths_global.csv',\n",
    "    'https://raw.githubusercontent.com/CSSEGISandData/COVID-19/master/csse_covid_19_data/csse_covid_19_time_series/time_series_covid19_recovered_global.csv',\n",
    "    'https://raw.githubusercontent.com/govex/COVID-19/master/data_tables/vaccine_data/global_data/time_series_covid19_vaccine_global.csv',\n",
    "    'https://covid19.who.int/WHO-COVID-19-global-data.csv'\n",
    "]\n",
    "[wget.download(url) for url in urls]\n"
   ]
  },
  {
   "cell_type": "code",
   "execution_count": 3,
   "metadata": {},
   "outputs": [],
   "source": [
    "#2. Uploading datasets"
   ]
  },
  {
   "cell_type": "code",
   "execution_count": 3,
   "metadata": {},
   "outputs": [],
   "source": [
    "df_confirmed = pd.read_csv('time_series_covid19_confirmed_global.csv')\n",
    "    \n",
    "df_deaths = pd.read_csv('time_series_covid19_deaths_global.csv')\n",
    "    \n",
    "df_recoveries = pd.read_csv('time_series_covid19_recovered_global.csv')\n",
    "\n",
    "df_population = pd.read_csv('Countries_Population_Data.csv')\n",
    "\n",
    "df_who = pd.read_csv('WHO-COVID-19-global-data.csv')"
   ]
  },
  {
   "cell_type": "code",
   "execution_count": 4,
   "metadata": {},
   "outputs": [
    {
     "data": {
      "text/html": [
       "<div>\n",
       "<style scoped>\n",
       "    .dataframe tbody tr th:only-of-type {\n",
       "        vertical-align: middle;\n",
       "    }\n",
       "\n",
       "    .dataframe tbody tr th {\n",
       "        vertical-align: top;\n",
       "    }\n",
       "\n",
       "    .dataframe thead th {\n",
       "        text-align: right;\n",
       "    }\n",
       "</style>\n",
       "<table border=\"1\" class=\"dataframe\">\n",
       "  <thead>\n",
       "    <tr style=\"text-align: right;\">\n",
       "      <th></th>\n",
       "      <th>Province/State</th>\n",
       "      <th>Country/Region</th>\n",
       "      <th>Lat</th>\n",
       "      <th>Long</th>\n",
       "      <th>1/22/20</th>\n",
       "      <th>1/23/20</th>\n",
       "      <th>1/24/20</th>\n",
       "      <th>1/25/20</th>\n",
       "      <th>1/26/20</th>\n",
       "      <th>1/27/20</th>\n",
       "      <th>...</th>\n",
       "      <th>8/20/21</th>\n",
       "      <th>8/21/21</th>\n",
       "      <th>8/22/21</th>\n",
       "      <th>8/23/21</th>\n",
       "      <th>8/24/21</th>\n",
       "      <th>8/25/21</th>\n",
       "      <th>8/26/21</th>\n",
       "      <th>8/27/21</th>\n",
       "      <th>8/28/21</th>\n",
       "      <th>8/29/21</th>\n",
       "    </tr>\n",
       "  </thead>\n",
       "  <tbody>\n",
       "    <tr>\n",
       "      <th>0</th>\n",
       "      <td>NaN</td>\n",
       "      <td>Afghanistan</td>\n",
       "      <td>33.93911</td>\n",
       "      <td>67.709953</td>\n",
       "      <td>0</td>\n",
       "      <td>0</td>\n",
       "      <td>0</td>\n",
       "      <td>0</td>\n",
       "      <td>0</td>\n",
       "      <td>0</td>\n",
       "      <td>...</td>\n",
       "      <td>152448</td>\n",
       "      <td>152448</td>\n",
       "      <td>152448</td>\n",
       "      <td>152583</td>\n",
       "      <td>152660</td>\n",
       "      <td>152722</td>\n",
       "      <td>152822</td>\n",
       "      <td>152960</td>\n",
       "      <td>152960</td>\n",
       "      <td>152960</td>\n",
       "    </tr>\n",
       "    <tr>\n",
       "      <th>1</th>\n",
       "      <td>NaN</td>\n",
       "      <td>Albania</td>\n",
       "      <td>41.15330</td>\n",
       "      <td>20.168300</td>\n",
       "      <td>0</td>\n",
       "      <td>0</td>\n",
       "      <td>0</td>\n",
       "      <td>0</td>\n",
       "      <td>0</td>\n",
       "      <td>0</td>\n",
       "      <td>...</td>\n",
       "      <td>138132</td>\n",
       "      <td>138790</td>\n",
       "      <td>139324</td>\n",
       "      <td>139721</td>\n",
       "      <td>140521</td>\n",
       "      <td>141365</td>\n",
       "      <td>142253</td>\n",
       "      <td>143174</td>\n",
       "      <td>144079</td>\n",
       "      <td>144847</td>\n",
       "    </tr>\n",
       "    <tr>\n",
       "      <th>2</th>\n",
       "      <td>NaN</td>\n",
       "      <td>Algeria</td>\n",
       "      <td>28.03390</td>\n",
       "      <td>1.659600</td>\n",
       "      <td>0</td>\n",
       "      <td>0</td>\n",
       "      <td>0</td>\n",
       "      <td>0</td>\n",
       "      <td>0</td>\n",
       "      <td>0</td>\n",
       "      <td>...</td>\n",
       "      <td>190656</td>\n",
       "      <td>191171</td>\n",
       "      <td>191583</td>\n",
       "      <td>192089</td>\n",
       "      <td>192626</td>\n",
       "      <td>193171</td>\n",
       "      <td>193674</td>\n",
       "      <td>194186</td>\n",
       "      <td>194671</td>\n",
       "      <td>195162</td>\n",
       "    </tr>\n",
       "    <tr>\n",
       "      <th>3</th>\n",
       "      <td>NaN</td>\n",
       "      <td>Andorra</td>\n",
       "      <td>42.50630</td>\n",
       "      <td>1.521800</td>\n",
       "      <td>0</td>\n",
       "      <td>0</td>\n",
       "      <td>0</td>\n",
       "      <td>0</td>\n",
       "      <td>0</td>\n",
       "      <td>0</td>\n",
       "      <td>...</td>\n",
       "      <td>14988</td>\n",
       "      <td>14988</td>\n",
       "      <td>14988</td>\n",
       "      <td>15002</td>\n",
       "      <td>15003</td>\n",
       "      <td>15014</td>\n",
       "      <td>15016</td>\n",
       "      <td>15025</td>\n",
       "      <td>15025</td>\n",
       "      <td>15025</td>\n",
       "    </tr>\n",
       "    <tr>\n",
       "      <th>4</th>\n",
       "      <td>NaN</td>\n",
       "      <td>Angola</td>\n",
       "      <td>-11.20270</td>\n",
       "      <td>17.873900</td>\n",
       "      <td>0</td>\n",
       "      <td>0</td>\n",
       "      <td>0</td>\n",
       "      <td>0</td>\n",
       "      <td>0</td>\n",
       "      <td>0</td>\n",
       "      <td>...</td>\n",
       "      <td>45583</td>\n",
       "      <td>45817</td>\n",
       "      <td>45945</td>\n",
       "      <td>46076</td>\n",
       "      <td>46340</td>\n",
       "      <td>46539</td>\n",
       "      <td>46726</td>\n",
       "      <td>46929</td>\n",
       "      <td>47079</td>\n",
       "      <td>47168</td>\n",
       "    </tr>\n",
       "  </tbody>\n",
       "</table>\n",
       "<p>5 rows × 590 columns</p>\n",
       "</div>"
      ],
      "text/plain": [
       "  Province/State Country/Region       Lat       Long  1/22/20  1/23/20  \\\n",
       "0            NaN    Afghanistan  33.93911  67.709953        0        0   \n",
       "1            NaN        Albania  41.15330  20.168300        0        0   \n",
       "2            NaN        Algeria  28.03390   1.659600        0        0   \n",
       "3            NaN        Andorra  42.50630   1.521800        0        0   \n",
       "4            NaN         Angola -11.20270  17.873900        0        0   \n",
       "\n",
       "   1/24/20  1/25/20  1/26/20  1/27/20  ...  8/20/21  8/21/21  8/22/21  \\\n",
       "0        0        0        0        0  ...   152448   152448   152448   \n",
       "1        0        0        0        0  ...   138132   138790   139324   \n",
       "2        0        0        0        0  ...   190656   191171   191583   \n",
       "3        0        0        0        0  ...    14988    14988    14988   \n",
       "4        0        0        0        0  ...    45583    45817    45945   \n",
       "\n",
       "   8/23/21  8/24/21  8/25/21  8/26/21  8/27/21  8/28/21  8/29/21  \n",
       "0   152583   152660   152722   152822   152960   152960   152960  \n",
       "1   139721   140521   141365   142253   143174   144079   144847  \n",
       "2   192089   192626   193171   193674   194186   194671   195162  \n",
       "3    15002    15003    15014    15016    15025    15025    15025  \n",
       "4    46076    46340    46539    46726    46929    47079    47168  \n",
       "\n",
       "[5 rows x 590 columns]"
      ]
     },
     "execution_count": 4,
     "metadata": {},
     "output_type": "execute_result"
    }
   ],
   "source": [
    "df_confirmed.head()"
   ]
  },
  {
   "cell_type": "code",
   "execution_count": 5,
   "metadata": {},
   "outputs": [
    {
     "data": {
      "text/html": [
       "<div>\n",
       "<style scoped>\n",
       "    .dataframe tbody tr th:only-of-type {\n",
       "        vertical-align: middle;\n",
       "    }\n",
       "\n",
       "    .dataframe tbody tr th {\n",
       "        vertical-align: top;\n",
       "    }\n",
       "\n",
       "    .dataframe thead th {\n",
       "        text-align: right;\n",
       "    }\n",
       "</style>\n",
       "<table border=\"1\" class=\"dataframe\">\n",
       "  <thead>\n",
       "    <tr style=\"text-align: right;\">\n",
       "      <th></th>\n",
       "      <th>Province/State</th>\n",
       "      <th>Country/Region</th>\n",
       "      <th>Lat</th>\n",
       "      <th>Long</th>\n",
       "      <th>1/22/20</th>\n",
       "      <th>1/23/20</th>\n",
       "      <th>1/24/20</th>\n",
       "      <th>1/25/20</th>\n",
       "      <th>1/26/20</th>\n",
       "      <th>1/27/20</th>\n",
       "      <th>...</th>\n",
       "      <th>8/20/21</th>\n",
       "      <th>8/21/21</th>\n",
       "      <th>8/22/21</th>\n",
       "      <th>8/23/21</th>\n",
       "      <th>8/24/21</th>\n",
       "      <th>8/25/21</th>\n",
       "      <th>8/26/21</th>\n",
       "      <th>8/27/21</th>\n",
       "      <th>8/28/21</th>\n",
       "      <th>8/29/21</th>\n",
       "    </tr>\n",
       "  </thead>\n",
       "  <tbody>\n",
       "    <tr>\n",
       "      <th>0</th>\n",
       "      <td>NaN</td>\n",
       "      <td>Afghanistan</td>\n",
       "      <td>33.93911</td>\n",
       "      <td>67.709953</td>\n",
       "      <td>0</td>\n",
       "      <td>0</td>\n",
       "      <td>0</td>\n",
       "      <td>0</td>\n",
       "      <td>0</td>\n",
       "      <td>0</td>\n",
       "      <td>...</td>\n",
       "      <td>7054</td>\n",
       "      <td>7054</td>\n",
       "      <td>7054</td>\n",
       "      <td>7076</td>\n",
       "      <td>7083</td>\n",
       "      <td>7090</td>\n",
       "      <td>7093</td>\n",
       "      <td>7101</td>\n",
       "      <td>7101</td>\n",
       "      <td>7101</td>\n",
       "    </tr>\n",
       "    <tr>\n",
       "      <th>1</th>\n",
       "      <td>NaN</td>\n",
       "      <td>Albania</td>\n",
       "      <td>41.15330</td>\n",
       "      <td>20.168300</td>\n",
       "      <td>0</td>\n",
       "      <td>0</td>\n",
       "      <td>0</td>\n",
       "      <td>0</td>\n",
       "      <td>0</td>\n",
       "      <td>0</td>\n",
       "      <td>...</td>\n",
       "      <td>2475</td>\n",
       "      <td>2477</td>\n",
       "      <td>2478</td>\n",
       "      <td>2478</td>\n",
       "      <td>2480</td>\n",
       "      <td>2483</td>\n",
       "      <td>2486</td>\n",
       "      <td>2487</td>\n",
       "      <td>2490</td>\n",
       "      <td>2492</td>\n",
       "    </tr>\n",
       "    <tr>\n",
       "      <th>2</th>\n",
       "      <td>NaN</td>\n",
       "      <td>Algeria</td>\n",
       "      <td>28.03390</td>\n",
       "      <td>1.659600</td>\n",
       "      <td>0</td>\n",
       "      <td>0</td>\n",
       "      <td>0</td>\n",
       "      <td>0</td>\n",
       "      <td>0</td>\n",
       "      <td>0</td>\n",
       "      <td>...</td>\n",
       "      <td>4957</td>\n",
       "      <td>4984</td>\n",
       "      <td>5004</td>\n",
       "      <td>5034</td>\n",
       "      <td>5063</td>\n",
       "      <td>5096</td>\n",
       "      <td>5121</td>\n",
       "      <td>5148</td>\n",
       "      <td>5179</td>\n",
       "      <td>5209</td>\n",
       "    </tr>\n",
       "    <tr>\n",
       "      <th>3</th>\n",
       "      <td>NaN</td>\n",
       "      <td>Andorra</td>\n",
       "      <td>42.50630</td>\n",
       "      <td>1.521800</td>\n",
       "      <td>0</td>\n",
       "      <td>0</td>\n",
       "      <td>0</td>\n",
       "      <td>0</td>\n",
       "      <td>0</td>\n",
       "      <td>0</td>\n",
       "      <td>...</td>\n",
       "      <td>129</td>\n",
       "      <td>129</td>\n",
       "      <td>129</td>\n",
       "      <td>130</td>\n",
       "      <td>130</td>\n",
       "      <td>130</td>\n",
       "      <td>130</td>\n",
       "      <td>130</td>\n",
       "      <td>130</td>\n",
       "      <td>130</td>\n",
       "    </tr>\n",
       "    <tr>\n",
       "      <th>4</th>\n",
       "      <td>NaN</td>\n",
       "      <td>Angola</td>\n",
       "      <td>-11.20270</td>\n",
       "      <td>17.873900</td>\n",
       "      <td>0</td>\n",
       "      <td>0</td>\n",
       "      <td>0</td>\n",
       "      <td>0</td>\n",
       "      <td>0</td>\n",
       "      <td>0</td>\n",
       "      <td>...</td>\n",
       "      <td>1138</td>\n",
       "      <td>1140</td>\n",
       "      <td>1153</td>\n",
       "      <td>1163</td>\n",
       "      <td>1166</td>\n",
       "      <td>1176</td>\n",
       "      <td>1182</td>\n",
       "      <td>1186</td>\n",
       "      <td>1192</td>\n",
       "      <td>1201</td>\n",
       "    </tr>\n",
       "  </tbody>\n",
       "</table>\n",
       "<p>5 rows × 590 columns</p>\n",
       "</div>"
      ],
      "text/plain": [
       "  Province/State Country/Region       Lat       Long  1/22/20  1/23/20  \\\n",
       "0            NaN    Afghanistan  33.93911  67.709953        0        0   \n",
       "1            NaN        Albania  41.15330  20.168300        0        0   \n",
       "2            NaN        Algeria  28.03390   1.659600        0        0   \n",
       "3            NaN        Andorra  42.50630   1.521800        0        0   \n",
       "4            NaN         Angola -11.20270  17.873900        0        0   \n",
       "\n",
       "   1/24/20  1/25/20  1/26/20  1/27/20  ...  8/20/21  8/21/21  8/22/21  \\\n",
       "0        0        0        0        0  ...     7054     7054     7054   \n",
       "1        0        0        0        0  ...     2475     2477     2478   \n",
       "2        0        0        0        0  ...     4957     4984     5004   \n",
       "3        0        0        0        0  ...      129      129      129   \n",
       "4        0        0        0        0  ...     1138     1140     1153   \n",
       "\n",
       "   8/23/21  8/24/21  8/25/21  8/26/21  8/27/21  8/28/21  8/29/21  \n",
       "0     7076     7083     7090     7093     7101     7101     7101  \n",
       "1     2478     2480     2483     2486     2487     2490     2492  \n",
       "2     5034     5063     5096     5121     5148     5179     5209  \n",
       "3      130      130      130      130      130      130      130  \n",
       "4     1163     1166     1176     1182     1186     1192     1201  \n",
       "\n",
       "[5 rows x 590 columns]"
      ]
     },
     "execution_count": 5,
     "metadata": {},
     "output_type": "execute_result"
    }
   ],
   "source": [
    "df_deaths.head()"
   ]
  },
  {
   "cell_type": "code",
   "execution_count": 6,
   "metadata": {},
   "outputs": [
    {
     "data": {
      "text/html": [
       "<div>\n",
       "<style scoped>\n",
       "    .dataframe tbody tr th:only-of-type {\n",
       "        vertical-align: middle;\n",
       "    }\n",
       "\n",
       "    .dataframe tbody tr th {\n",
       "        vertical-align: top;\n",
       "    }\n",
       "\n",
       "    .dataframe thead th {\n",
       "        text-align: right;\n",
       "    }\n",
       "</style>\n",
       "<table border=\"1\" class=\"dataframe\">\n",
       "  <thead>\n",
       "    <tr style=\"text-align: right;\">\n",
       "      <th></th>\n",
       "      <th>Province/State</th>\n",
       "      <th>Country/Region</th>\n",
       "      <th>Lat</th>\n",
       "      <th>Long</th>\n",
       "      <th>1/22/20</th>\n",
       "      <th>1/23/20</th>\n",
       "      <th>1/24/20</th>\n",
       "      <th>1/25/20</th>\n",
       "      <th>1/26/20</th>\n",
       "      <th>1/27/20</th>\n",
       "      <th>...</th>\n",
       "      <th>8/20/21</th>\n",
       "      <th>8/21/21</th>\n",
       "      <th>8/22/21</th>\n",
       "      <th>8/23/21</th>\n",
       "      <th>8/24/21</th>\n",
       "      <th>8/25/21</th>\n",
       "      <th>8/26/21</th>\n",
       "      <th>8/27/21</th>\n",
       "      <th>8/28/21</th>\n",
       "      <th>8/29/21</th>\n",
       "    </tr>\n",
       "  </thead>\n",
       "  <tbody>\n",
       "    <tr>\n",
       "      <th>0</th>\n",
       "      <td>NaN</td>\n",
       "      <td>Afghanistan</td>\n",
       "      <td>33.93911</td>\n",
       "      <td>67.709953</td>\n",
       "      <td>0</td>\n",
       "      <td>0</td>\n",
       "      <td>0</td>\n",
       "      <td>0</td>\n",
       "      <td>0</td>\n",
       "      <td>0</td>\n",
       "      <td>...</td>\n",
       "      <td>0</td>\n",
       "      <td>0</td>\n",
       "      <td>0</td>\n",
       "      <td>0</td>\n",
       "      <td>0</td>\n",
       "      <td>0</td>\n",
       "      <td>0</td>\n",
       "      <td>0</td>\n",
       "      <td>0</td>\n",
       "      <td>0</td>\n",
       "    </tr>\n",
       "    <tr>\n",
       "      <th>1</th>\n",
       "      <td>NaN</td>\n",
       "      <td>Albania</td>\n",
       "      <td>41.15330</td>\n",
       "      <td>20.168300</td>\n",
       "      <td>0</td>\n",
       "      <td>0</td>\n",
       "      <td>0</td>\n",
       "      <td>0</td>\n",
       "      <td>0</td>\n",
       "      <td>0</td>\n",
       "      <td>...</td>\n",
       "      <td>0</td>\n",
       "      <td>0</td>\n",
       "      <td>0</td>\n",
       "      <td>0</td>\n",
       "      <td>0</td>\n",
       "      <td>0</td>\n",
       "      <td>0</td>\n",
       "      <td>0</td>\n",
       "      <td>0</td>\n",
       "      <td>0</td>\n",
       "    </tr>\n",
       "    <tr>\n",
       "      <th>2</th>\n",
       "      <td>NaN</td>\n",
       "      <td>Algeria</td>\n",
       "      <td>28.03390</td>\n",
       "      <td>1.659600</td>\n",
       "      <td>0</td>\n",
       "      <td>0</td>\n",
       "      <td>0</td>\n",
       "      <td>0</td>\n",
       "      <td>0</td>\n",
       "      <td>0</td>\n",
       "      <td>...</td>\n",
       "      <td>0</td>\n",
       "      <td>0</td>\n",
       "      <td>0</td>\n",
       "      <td>0</td>\n",
       "      <td>0</td>\n",
       "      <td>0</td>\n",
       "      <td>0</td>\n",
       "      <td>0</td>\n",
       "      <td>0</td>\n",
       "      <td>0</td>\n",
       "    </tr>\n",
       "    <tr>\n",
       "      <th>3</th>\n",
       "      <td>NaN</td>\n",
       "      <td>Andorra</td>\n",
       "      <td>42.50630</td>\n",
       "      <td>1.521800</td>\n",
       "      <td>0</td>\n",
       "      <td>0</td>\n",
       "      <td>0</td>\n",
       "      <td>0</td>\n",
       "      <td>0</td>\n",
       "      <td>0</td>\n",
       "      <td>...</td>\n",
       "      <td>0</td>\n",
       "      <td>0</td>\n",
       "      <td>0</td>\n",
       "      <td>0</td>\n",
       "      <td>0</td>\n",
       "      <td>0</td>\n",
       "      <td>0</td>\n",
       "      <td>0</td>\n",
       "      <td>0</td>\n",
       "      <td>0</td>\n",
       "    </tr>\n",
       "    <tr>\n",
       "      <th>4</th>\n",
       "      <td>NaN</td>\n",
       "      <td>Angola</td>\n",
       "      <td>-11.20270</td>\n",
       "      <td>17.873900</td>\n",
       "      <td>0</td>\n",
       "      <td>0</td>\n",
       "      <td>0</td>\n",
       "      <td>0</td>\n",
       "      <td>0</td>\n",
       "      <td>0</td>\n",
       "      <td>...</td>\n",
       "      <td>0</td>\n",
       "      <td>0</td>\n",
       "      <td>0</td>\n",
       "      <td>0</td>\n",
       "      <td>0</td>\n",
       "      <td>0</td>\n",
       "      <td>0</td>\n",
       "      <td>0</td>\n",
       "      <td>0</td>\n",
       "      <td>0</td>\n",
       "    </tr>\n",
       "  </tbody>\n",
       "</table>\n",
       "<p>5 rows × 590 columns</p>\n",
       "</div>"
      ],
      "text/plain": [
       "  Province/State Country/Region       Lat       Long  1/22/20  1/23/20  \\\n",
       "0            NaN    Afghanistan  33.93911  67.709953        0        0   \n",
       "1            NaN        Albania  41.15330  20.168300        0        0   \n",
       "2            NaN        Algeria  28.03390   1.659600        0        0   \n",
       "3            NaN        Andorra  42.50630   1.521800        0        0   \n",
       "4            NaN         Angola -11.20270  17.873900        0        0   \n",
       "\n",
       "   1/24/20  1/25/20  1/26/20  1/27/20  ...  8/20/21  8/21/21  8/22/21  \\\n",
       "0        0        0        0        0  ...        0        0        0   \n",
       "1        0        0        0        0  ...        0        0        0   \n",
       "2        0        0        0        0  ...        0        0        0   \n",
       "3        0        0        0        0  ...        0        0        0   \n",
       "4        0        0        0        0  ...        0        0        0   \n",
       "\n",
       "   8/23/21  8/24/21  8/25/21  8/26/21  8/27/21  8/28/21  8/29/21  \n",
       "0        0        0        0        0        0        0        0  \n",
       "1        0        0        0        0        0        0        0  \n",
       "2        0        0        0        0        0        0        0  \n",
       "3        0        0        0        0        0        0        0  \n",
       "4        0        0        0        0        0        0        0  \n",
       "\n",
       "[5 rows x 590 columns]"
      ]
     },
     "execution_count": 6,
     "metadata": {},
     "output_type": "execute_result"
    }
   ],
   "source": [
    "df_recoveries.head()"
   ]
  },
  {
   "cell_type": "code",
   "execution_count": 7,
   "metadata": {},
   "outputs": [
    {
     "data": {
      "text/plain": [
       "Index(['1/22/20', '1/23/20', '1/24/20', '1/25/20', '1/26/20', '1/27/20',\n",
       "       '1/28/20', '1/29/20', '1/30/20', '1/31/20',\n",
       "       ...\n",
       "       '8/20/21', '8/21/21', '8/22/21', '8/23/21', '8/24/21', '8/25/21',\n",
       "       '8/26/21', '8/27/21', '8/28/21', '8/29/21'],\n",
       "      dtype='object', length=586)"
      ]
     },
     "execution_count": 7,
     "metadata": {},
     "output_type": "execute_result"
    }
   ],
   "source": [
    "df_confirmed.columns[4:]"
   ]
  },
  {
   "cell_type": "code",
   "execution_count": 8,
   "metadata": {},
   "outputs": [
    {
     "data": {
      "text/plain": [
       "Index(['1/22/20', '1/23/20', '1/24/20', '1/25/20', '1/26/20', '1/27/20',\n",
       "       '1/28/20', '1/29/20', '1/30/20', '1/31/20',\n",
       "       ...\n",
       "       '8/20/21', '8/21/21', '8/22/21', '8/23/21', '8/24/21', '8/25/21',\n",
       "       '8/26/21', '8/27/21', '8/28/21', '8/29/21'],\n",
       "      dtype='object', length=586)"
      ]
     },
     "execution_count": 8,
     "metadata": {},
     "output_type": "execute_result"
    }
   ],
   "source": [
    "df_deaths.columns[4:]"
   ]
  },
  {
   "cell_type": "code",
   "execution_count": 9,
   "metadata": {},
   "outputs": [
    {
     "data": {
      "text/plain": [
       "Index(['1/22/20', '1/23/20', '1/24/20', '1/25/20', '1/26/20', '1/27/20',\n",
       "       '1/28/20', '1/29/20', '1/30/20', '1/31/20',\n",
       "       ...\n",
       "       '8/20/21', '8/21/21', '8/22/21', '8/23/21', '8/24/21', '8/25/21',\n",
       "       '8/26/21', '8/27/21', '8/28/21', '8/29/21'],\n",
       "      dtype='object', length=586)"
      ]
     },
     "execution_count": 9,
     "metadata": {},
     "output_type": "execute_result"
    }
   ],
   "source": [
    "df_recoveries.columns[4:]"
   ]
  },
  {
   "cell_type": "code",
   "execution_count": 10,
   "metadata": {},
   "outputs": [],
   "source": [
    "#3. Transforming the tables from wide format to long format"
   ]
  },
  {
   "cell_type": "code",
   "execution_count": 11,
   "metadata": {},
   "outputs": [],
   "source": [
    "dates = df_recoveries.columns[4:] #the three dataframes(df_confirmed,df_deaths,df_recoveries)\n",
    "#have same sets of date columns\n",
    "\n",
    "\n",
    "df_confirmed = df_confirmed.melt(\n",
    "    id_vars=['Province/State', 'Country/Region', 'Lat', 'Long'], \n",
    "    value_vars=dates, \n",
    "    var_name='date', \n",
    "    value_name='confirmed'\n",
    ")\n",
    "\n",
    "\n",
    "df_deaths = df_deaths.melt(\n",
    "    id_vars=['Province/State', 'Country/Region', 'Lat', 'Long'], \n",
    "    value_vars=dates, \n",
    "    var_name='date', \n",
    "    value_name='deaths'\n",
    ")\n",
    "\n",
    "\n",
    "df_recoveries = df_recoveries.melt(\n",
    "    id_vars=['Province/State', 'Country/Region', 'Lat', 'Long'], \n",
    "    value_vars=dates, \n",
    "    var_name='date', \n",
    "    value_name='recoveries'\n",
    ")\n",
    "\n",
    "\n",
    "\n"
   ]
  },
  {
   "cell_type": "code",
   "execution_count": 12,
   "metadata": {},
   "outputs": [
    {
     "data": {
      "text/html": [
       "<div>\n",
       "<style scoped>\n",
       "    .dataframe tbody tr th:only-of-type {\n",
       "        vertical-align: middle;\n",
       "    }\n",
       "\n",
       "    .dataframe tbody tr th {\n",
       "        vertical-align: top;\n",
       "    }\n",
       "\n",
       "    .dataframe thead th {\n",
       "        text-align: right;\n",
       "    }\n",
       "</style>\n",
       "<table border=\"1\" class=\"dataframe\">\n",
       "  <thead>\n",
       "    <tr style=\"text-align: right;\">\n",
       "      <th></th>\n",
       "      <th>Province/State</th>\n",
       "      <th>Country/Region</th>\n",
       "      <th>Lat</th>\n",
       "      <th>Long</th>\n",
       "      <th>date</th>\n",
       "      <th>confirmed</th>\n",
       "    </tr>\n",
       "  </thead>\n",
       "  <tbody>\n",
       "    <tr>\n",
       "      <th>0</th>\n",
       "      <td>NaN</td>\n",
       "      <td>Afghanistan</td>\n",
       "      <td>33.93911</td>\n",
       "      <td>67.709953</td>\n",
       "      <td>1/22/20</td>\n",
       "      <td>0</td>\n",
       "    </tr>\n",
       "    <tr>\n",
       "      <th>1</th>\n",
       "      <td>NaN</td>\n",
       "      <td>Albania</td>\n",
       "      <td>41.15330</td>\n",
       "      <td>20.168300</td>\n",
       "      <td>1/22/20</td>\n",
       "      <td>0</td>\n",
       "    </tr>\n",
       "    <tr>\n",
       "      <th>2</th>\n",
       "      <td>NaN</td>\n",
       "      <td>Algeria</td>\n",
       "      <td>28.03390</td>\n",
       "      <td>1.659600</td>\n",
       "      <td>1/22/20</td>\n",
       "      <td>0</td>\n",
       "    </tr>\n",
       "    <tr>\n",
       "      <th>3</th>\n",
       "      <td>NaN</td>\n",
       "      <td>Andorra</td>\n",
       "      <td>42.50630</td>\n",
       "      <td>1.521800</td>\n",
       "      <td>1/22/20</td>\n",
       "      <td>0</td>\n",
       "    </tr>\n",
       "    <tr>\n",
       "      <th>4</th>\n",
       "      <td>NaN</td>\n",
       "      <td>Angola</td>\n",
       "      <td>-11.20270</td>\n",
       "      <td>17.873900</td>\n",
       "      <td>1/22/20</td>\n",
       "      <td>0</td>\n",
       "    </tr>\n",
       "  </tbody>\n",
       "</table>\n",
       "</div>"
      ],
      "text/plain": [
       "  Province/State Country/Region       Lat       Long     date  confirmed\n",
       "0            NaN    Afghanistan  33.93911  67.709953  1/22/20          0\n",
       "1            NaN        Albania  41.15330  20.168300  1/22/20          0\n",
       "2            NaN        Algeria  28.03390   1.659600  1/22/20          0\n",
       "3            NaN        Andorra  42.50630   1.521800  1/22/20          0\n",
       "4            NaN         Angola -11.20270  17.873900  1/22/20          0"
      ]
     },
     "execution_count": 12,
     "metadata": {},
     "output_type": "execute_result"
    }
   ],
   "source": [
    "df_confirmed.head()"
   ]
  },
  {
   "cell_type": "code",
   "execution_count": 13,
   "metadata": {},
   "outputs": [
    {
     "data": {
      "text/html": [
       "<div>\n",
       "<style scoped>\n",
       "    .dataframe tbody tr th:only-of-type {\n",
       "        vertical-align: middle;\n",
       "    }\n",
       "\n",
       "    .dataframe tbody tr th {\n",
       "        vertical-align: top;\n",
       "    }\n",
       "\n",
       "    .dataframe thead th {\n",
       "        text-align: right;\n",
       "    }\n",
       "</style>\n",
       "<table border=\"1\" class=\"dataframe\">\n",
       "  <thead>\n",
       "    <tr style=\"text-align: right;\">\n",
       "      <th></th>\n",
       "      <th>Province/State</th>\n",
       "      <th>Country/Region</th>\n",
       "      <th>Lat</th>\n",
       "      <th>Long</th>\n",
       "      <th>date</th>\n",
       "      <th>deaths</th>\n",
       "    </tr>\n",
       "  </thead>\n",
       "  <tbody>\n",
       "    <tr>\n",
       "      <th>0</th>\n",
       "      <td>NaN</td>\n",
       "      <td>Afghanistan</td>\n",
       "      <td>33.93911</td>\n",
       "      <td>67.709953</td>\n",
       "      <td>1/22/20</td>\n",
       "      <td>0</td>\n",
       "    </tr>\n",
       "    <tr>\n",
       "      <th>1</th>\n",
       "      <td>NaN</td>\n",
       "      <td>Albania</td>\n",
       "      <td>41.15330</td>\n",
       "      <td>20.168300</td>\n",
       "      <td>1/22/20</td>\n",
       "      <td>0</td>\n",
       "    </tr>\n",
       "    <tr>\n",
       "      <th>2</th>\n",
       "      <td>NaN</td>\n",
       "      <td>Algeria</td>\n",
       "      <td>28.03390</td>\n",
       "      <td>1.659600</td>\n",
       "      <td>1/22/20</td>\n",
       "      <td>0</td>\n",
       "    </tr>\n",
       "    <tr>\n",
       "      <th>3</th>\n",
       "      <td>NaN</td>\n",
       "      <td>Andorra</td>\n",
       "      <td>42.50630</td>\n",
       "      <td>1.521800</td>\n",
       "      <td>1/22/20</td>\n",
       "      <td>0</td>\n",
       "    </tr>\n",
       "    <tr>\n",
       "      <th>4</th>\n",
       "      <td>NaN</td>\n",
       "      <td>Angola</td>\n",
       "      <td>-11.20270</td>\n",
       "      <td>17.873900</td>\n",
       "      <td>1/22/20</td>\n",
       "      <td>0</td>\n",
       "    </tr>\n",
       "  </tbody>\n",
       "</table>\n",
       "</div>"
      ],
      "text/plain": [
       "  Province/State Country/Region       Lat       Long     date  deaths\n",
       "0            NaN    Afghanistan  33.93911  67.709953  1/22/20       0\n",
       "1            NaN        Albania  41.15330  20.168300  1/22/20       0\n",
       "2            NaN        Algeria  28.03390   1.659600  1/22/20       0\n",
       "3            NaN        Andorra  42.50630   1.521800  1/22/20       0\n",
       "4            NaN         Angola -11.20270  17.873900  1/22/20       0"
      ]
     },
     "execution_count": 13,
     "metadata": {},
     "output_type": "execute_result"
    }
   ],
   "source": [
    "df_deaths.head()"
   ]
  },
  {
   "cell_type": "code",
   "execution_count": 14,
   "metadata": {},
   "outputs": [
    {
     "data": {
      "text/html": [
       "<div>\n",
       "<style scoped>\n",
       "    .dataframe tbody tr th:only-of-type {\n",
       "        vertical-align: middle;\n",
       "    }\n",
       "\n",
       "    .dataframe tbody tr th {\n",
       "        vertical-align: top;\n",
       "    }\n",
       "\n",
       "    .dataframe thead th {\n",
       "        text-align: right;\n",
       "    }\n",
       "</style>\n",
       "<table border=\"1\" class=\"dataframe\">\n",
       "  <thead>\n",
       "    <tr style=\"text-align: right;\">\n",
       "      <th></th>\n",
       "      <th>Province/State</th>\n",
       "      <th>Country/Region</th>\n",
       "      <th>Lat</th>\n",
       "      <th>Long</th>\n",
       "      <th>date</th>\n",
       "      <th>recoveries</th>\n",
       "    </tr>\n",
       "  </thead>\n",
       "  <tbody>\n",
       "    <tr>\n",
       "      <th>0</th>\n",
       "      <td>NaN</td>\n",
       "      <td>Afghanistan</td>\n",
       "      <td>33.93911</td>\n",
       "      <td>67.709953</td>\n",
       "      <td>1/22/20</td>\n",
       "      <td>0</td>\n",
       "    </tr>\n",
       "    <tr>\n",
       "      <th>1</th>\n",
       "      <td>NaN</td>\n",
       "      <td>Albania</td>\n",
       "      <td>41.15330</td>\n",
       "      <td>20.168300</td>\n",
       "      <td>1/22/20</td>\n",
       "      <td>0</td>\n",
       "    </tr>\n",
       "    <tr>\n",
       "      <th>2</th>\n",
       "      <td>NaN</td>\n",
       "      <td>Algeria</td>\n",
       "      <td>28.03390</td>\n",
       "      <td>1.659600</td>\n",
       "      <td>1/22/20</td>\n",
       "      <td>0</td>\n",
       "    </tr>\n",
       "    <tr>\n",
       "      <th>3</th>\n",
       "      <td>NaN</td>\n",
       "      <td>Andorra</td>\n",
       "      <td>42.50630</td>\n",
       "      <td>1.521800</td>\n",
       "      <td>1/22/20</td>\n",
       "      <td>0</td>\n",
       "    </tr>\n",
       "    <tr>\n",
       "      <th>4</th>\n",
       "      <td>NaN</td>\n",
       "      <td>Angola</td>\n",
       "      <td>-11.20270</td>\n",
       "      <td>17.873900</td>\n",
       "      <td>1/22/20</td>\n",
       "      <td>0</td>\n",
       "    </tr>\n",
       "  </tbody>\n",
       "</table>\n",
       "</div>"
      ],
      "text/plain": [
       "  Province/State Country/Region       Lat       Long     date  recoveries\n",
       "0            NaN    Afghanistan  33.93911  67.709953  1/22/20           0\n",
       "1            NaN        Albania  41.15330  20.168300  1/22/20           0\n",
       "2            NaN        Algeria  28.03390   1.659600  1/22/20           0\n",
       "3            NaN        Andorra  42.50630   1.521800  1/22/20           0\n",
       "4            NaN         Angola -11.20270  17.873900  1/22/20           0"
      ]
     },
     "execution_count": 14,
     "metadata": {},
     "output_type": "execute_result"
    }
   ],
   "source": [
    "df_recoveries.head()"
   ]
  },
  {
   "cell_type": "code",
   "execution_count": 15,
   "metadata": {},
   "outputs": [],
   "source": [
    "# grouping confirmed and deaths data by date\n",
    "canada_confirmed = df_confirmed[df_confirmed['Country/Region'] == 'Canada'].groupby('date').sum()[['confirmed']]\n",
    "canada_deaths = df_deaths[df_deaths['Country/Region'] == 'Canada'].groupby('date').sum()[['deaths']]"
   ]
  },
  {
   "cell_type": "code",
   "execution_count": 16,
   "metadata": {},
   "outputs": [],
   "source": [
    "# extracting the columns in recoveries table\n",
    "canada_recoveries = df_recoveries[df_recoveries['Country/Region'] == 'Canada']\n",
    "canada_columns = canada_recoveries[canada_recoveries.columns[:-1]].reset_index(drop=True)"
   ]
  },
  {
   "cell_type": "code",
   "execution_count": 17,
   "metadata": {},
   "outputs": [],
   "source": [
    "# Joining the aggregated confirmed and deaths data with extracted columns\n",
    "canada_confirmed = canada_columns.merge(canada_confirmed, how='inner', left_on='date', right_index=True)\n",
    "canada_deaths = canada_columns.merge(canada_deaths, how='inner', left_on='date', right_index=True)"
   ]
  },
  {
   "cell_type": "code",
   "execution_count": 18,
   "metadata": {},
   "outputs": [],
   "source": [
    "# the aggregated data for Canada added back to confirmed and deaths table\n",
    "df_confirmed = df_confirmed[df_confirmed['Country/Region'] != 'Canada'].append(canada_confirmed)\n",
    "df_deaths = df_deaths[df_deaths['Country/Region'] != 'Canada'].append(canada_deaths)"
   ]
  },
  {
   "cell_type": "code",
   "execution_count": 19,
   "metadata": {},
   "outputs": [],
   "source": [
    "# confirmed, deaths and recoveries data joined together\n",
    "data1 = df_confirmed.merge(df_deaths, how='inner',on=['Country/Region','Province/State','date'])\\\n",
    ".merge(df_recoveries, how='inner',on=['Country/Region','Province/State','date'])"
   ]
  },
  {
   "cell_type": "code",
   "execution_count": 20,
   "metadata": {},
   "outputs": [
    {
     "data": {
      "text/html": [
       "<div>\n",
       "<style scoped>\n",
       "    .dataframe tbody tr th:only-of-type {\n",
       "        vertical-align: middle;\n",
       "    }\n",
       "\n",
       "    .dataframe tbody tr th {\n",
       "        vertical-align: top;\n",
       "    }\n",
       "\n",
       "    .dataframe thead th {\n",
       "        text-align: right;\n",
       "    }\n",
       "</style>\n",
       "<table border=\"1\" class=\"dataframe\">\n",
       "  <thead>\n",
       "    <tr style=\"text-align: right;\">\n",
       "      <th></th>\n",
       "      <th>Province/State</th>\n",
       "      <th>Country/Region</th>\n",
       "      <th>Lat_x</th>\n",
       "      <th>Long_x</th>\n",
       "      <th>date</th>\n",
       "      <th>confirmed</th>\n",
       "      <th>Lat_y</th>\n",
       "      <th>Long_y</th>\n",
       "      <th>deaths</th>\n",
       "      <th>Lat</th>\n",
       "      <th>Long</th>\n",
       "      <th>recoveries</th>\n",
       "    </tr>\n",
       "  </thead>\n",
       "  <tbody>\n",
       "    <tr>\n",
       "      <th>6738</th>\n",
       "      <td>NaN</td>\n",
       "      <td>Malta</td>\n",
       "      <td>35.9375</td>\n",
       "      <td>14.3754</td>\n",
       "      <td>2/16/20</td>\n",
       "      <td>0</td>\n",
       "      <td>35.9375</td>\n",
       "      <td>14.3754</td>\n",
       "      <td>0</td>\n",
       "      <td>35.9375</td>\n",
       "      <td>14.3754</td>\n",
       "      <td>0</td>\n",
       "    </tr>\n",
       "    <tr>\n",
       "      <th>72537</th>\n",
       "      <td>NaN</td>\n",
       "      <td>Seychelles</td>\n",
       "      <td>-4.6796</td>\n",
       "      <td>55.4920</td>\n",
       "      <td>10/23/20</td>\n",
       "      <td>153</td>\n",
       "      <td>-4.6796</td>\n",
       "      <td>55.4920</td>\n",
       "      <td>0</td>\n",
       "      <td>-4.6796</td>\n",
       "      <td>55.4920</td>\n",
       "      <td>149</td>\n",
       "    </tr>\n",
       "    <tr>\n",
       "      <th>59186</th>\n",
       "      <td>Queensland</td>\n",
       "      <td>Australia</td>\n",
       "      <td>-27.4698</td>\n",
       "      <td>153.0251</td>\n",
       "      <td>9/3/20</td>\n",
       "      <td>1128</td>\n",
       "      <td>-27.4698</td>\n",
       "      <td>153.0251</td>\n",
       "      <td>6</td>\n",
       "      <td>-27.4698</td>\n",
       "      <td>153.0251</td>\n",
       "      <td>1088</td>\n",
       "    </tr>\n",
       "    <tr>\n",
       "      <th>29905</th>\n",
       "      <td>NaN</td>\n",
       "      <td>Nigeria</td>\n",
       "      <td>9.0820</td>\n",
       "      <td>8.6753</td>\n",
       "      <td>5/14/20</td>\n",
       "      <td>5162</td>\n",
       "      <td>9.0820</td>\n",
       "      <td>8.6753</td>\n",
       "      <td>167</td>\n",
       "      <td>9.0820</td>\n",
       "      <td>8.6753</td>\n",
       "      <td>1180</td>\n",
       "    </tr>\n",
       "    <tr>\n",
       "      <th>83476</th>\n",
       "      <td>Guadeloupe</td>\n",
       "      <td>France</td>\n",
       "      <td>16.2650</td>\n",
       "      <td>-61.5510</td>\n",
       "      <td>12/4/20</td>\n",
       "      <td>8427</td>\n",
       "      <td>16.2650</td>\n",
       "      <td>-61.5510</td>\n",
       "      <td>149</td>\n",
       "      <td>16.2650</td>\n",
       "      <td>-61.5510</td>\n",
       "      <td>2242</td>\n",
       "    </tr>\n",
       "  </tbody>\n",
       "</table>\n",
       "</div>"
      ],
      "text/plain": [
       "      Province/State Country/Region    Lat_x    Long_x      date  confirmed  \\\n",
       "6738             NaN          Malta  35.9375   14.3754   2/16/20          0   \n",
       "72537            NaN     Seychelles  -4.6796   55.4920  10/23/20        153   \n",
       "59186     Queensland      Australia -27.4698  153.0251    9/3/20       1128   \n",
       "29905            NaN        Nigeria   9.0820    8.6753   5/14/20       5162   \n",
       "83476     Guadeloupe         France  16.2650  -61.5510   12/4/20       8427   \n",
       "\n",
       "         Lat_y    Long_y  deaths      Lat      Long  recoveries  \n",
       "6738   35.9375   14.3754       0  35.9375   14.3754           0  \n",
       "72537  -4.6796   55.4920       0  -4.6796   55.4920         149  \n",
       "59186 -27.4698  153.0251       6 -27.4698  153.0251        1088  \n",
       "29905   9.0820    8.6753     167   9.0820    8.6753        1180  \n",
       "83476  16.2650  -61.5510     149  16.2650  -61.5510        2242  "
      ]
     },
     "execution_count": 20,
     "metadata": {},
     "output_type": "execute_result"
    }
   ],
   "source": [
    "data1.sample(5)"
   ]
  },
  {
   "cell_type": "code",
   "execution_count": 21,
   "metadata": {},
   "outputs": [],
   "source": [
    "data1['recoveries'] = data1['recoveries'].astype(\"int\")"
   ]
  },
  {
   "cell_type": "code",
   "execution_count": 22,
   "metadata": {},
   "outputs": [],
   "source": [
    "# data1 = data1[['Province/State','Country/Region','Date','Lat','Long','Confirmed','Deaths','Recovered']]\n",
    "data1 = data1[['Country/Region','date','Lat','Long','confirmed','deaths','recoveries']]"
   ]
  },
  {
   "cell_type": "code",
   "execution_count": 23,
   "metadata": {},
   "outputs": [
    {
     "data": {
      "text/html": [
       "<div>\n",
       "<style scoped>\n",
       "    .dataframe tbody tr th:only-of-type {\n",
       "        vertical-align: middle;\n",
       "    }\n",
       "\n",
       "    .dataframe tbody tr th {\n",
       "        vertical-align: top;\n",
       "    }\n",
       "\n",
       "    .dataframe thead th {\n",
       "        text-align: right;\n",
       "    }\n",
       "</style>\n",
       "<table border=\"1\" class=\"dataframe\">\n",
       "  <thead>\n",
       "    <tr style=\"text-align: right;\">\n",
       "      <th></th>\n",
       "      <th>Country/Region</th>\n",
       "      <th>date</th>\n",
       "      <th>Lat</th>\n",
       "      <th>Long</th>\n",
       "      <th>confirmed</th>\n",
       "      <th>deaths</th>\n",
       "      <th>recoveries</th>\n",
       "    </tr>\n",
       "  </thead>\n",
       "  <tbody>\n",
       "    <tr>\n",
       "      <th>46428</th>\n",
       "      <td>Jordan</td>\n",
       "      <td>7/16/20</td>\n",
       "      <td>31.2400</td>\n",
       "      <td>36.5100</td>\n",
       "      <td>1206</td>\n",
       "      <td>10</td>\n",
       "      <td>1019</td>\n",
       "    </tr>\n",
       "    <tr>\n",
       "      <th>5614</th>\n",
       "      <td>Dominica</td>\n",
       "      <td>2/12/20</td>\n",
       "      <td>15.4150</td>\n",
       "      <td>-61.3710</td>\n",
       "      <td>0</td>\n",
       "      <td>0</td>\n",
       "      <td>0</td>\n",
       "    </tr>\n",
       "    <tr>\n",
       "      <th>121708</th>\n",
       "      <td>Rwanda</td>\n",
       "      <td>4/28/21</td>\n",
       "      <td>-1.9403</td>\n",
       "      <td>29.8739</td>\n",
       "      <td>24888</td>\n",
       "      <td>332</td>\n",
       "      <td>23175</td>\n",
       "    </tr>\n",
       "    <tr>\n",
       "      <th>74356</th>\n",
       "      <td>Pakistan</td>\n",
       "      <td>10/30/20</td>\n",
       "      <td>30.3753</td>\n",
       "      <td>69.3451</td>\n",
       "      <td>332993</td>\n",
       "      <td>6806</td>\n",
       "      <td>314066</td>\n",
       "    </tr>\n",
       "    <tr>\n",
       "      <th>85602</th>\n",
       "      <td>Holy See</td>\n",
       "      <td>12/12/20</td>\n",
       "      <td>41.9029</td>\n",
       "      <td>12.4534</td>\n",
       "      <td>27</td>\n",
       "      <td>0</td>\n",
       "      <td>15</td>\n",
       "    </tr>\n",
       "  </tbody>\n",
       "</table>\n",
       "</div>"
      ],
      "text/plain": [
       "       Country/Region      date      Lat     Long  confirmed  deaths  \\\n",
       "46428          Jordan   7/16/20  31.2400  36.5100       1206      10   \n",
       "5614         Dominica   2/12/20  15.4150 -61.3710          0       0   \n",
       "121708         Rwanda   4/28/21  -1.9403  29.8739      24888     332   \n",
       "74356        Pakistan  10/30/20  30.3753  69.3451     332993    6806   \n",
       "85602        Holy See  12/12/20  41.9029  12.4534         27       0   \n",
       "\n",
       "        recoveries  \n",
       "46428         1019  \n",
       "5614             0  \n",
       "121708       23175  \n",
       "74356       314066  \n",
       "85602           15  "
      ]
     },
     "execution_count": 23,
     "metadata": {},
     "output_type": "execute_result"
    }
   ],
   "source": [
    "data1.sample(5)"
   ]
  },
  {
   "cell_type": "code",
   "execution_count": 24,
   "metadata": {},
   "outputs": [],
   "source": [
    "#Population Data"
   ]
  },
  {
   "cell_type": "code",
   "execution_count": 25,
   "metadata": {},
   "outputs": [
    {
     "data": {
      "text/html": [
       "<div>\n",
       "<style scoped>\n",
       "    .dataframe tbody tr th:only-of-type {\n",
       "        vertical-align: middle;\n",
       "    }\n",
       "\n",
       "    .dataframe tbody tr th {\n",
       "        vertical-align: top;\n",
       "    }\n",
       "\n",
       "    .dataframe thead th {\n",
       "        text-align: right;\n",
       "    }\n",
       "</style>\n",
       "<table border=\"1\" class=\"dataframe\">\n",
       "  <thead>\n",
       "    <tr style=\"text-align: right;\">\n",
       "      <th></th>\n",
       "      <th>Series Name</th>\n",
       "      <th>Series Code</th>\n",
       "      <th>Country Name</th>\n",
       "      <th>Country Code</th>\n",
       "      <th>2020 [YR2020]</th>\n",
       "    </tr>\n",
       "  </thead>\n",
       "  <tbody>\n",
       "    <tr>\n",
       "      <th>199</th>\n",
       "      <td>Population, total</td>\n",
       "      <td>SP.POP.TOTL</td>\n",
       "      <td>Puerto Rico</td>\n",
       "      <td>PRI</td>\n",
       "      <td>3194034</td>\n",
       "    </tr>\n",
       "    <tr>\n",
       "      <th>75</th>\n",
       "      <td>Population, total</td>\n",
       "      <td>SP.POP.TOTL</td>\n",
       "      <td>Europe &amp; Central Asia</td>\n",
       "      <td>ECS</td>\n",
       "      <td>923489941</td>\n",
       "    </tr>\n",
       "    <tr>\n",
       "      <th>64</th>\n",
       "      <td>Population, total</td>\n",
       "      <td>SP.POP.TOTL</td>\n",
       "      <td>East Asia &amp; Pacific (excluding high income)</td>\n",
       "      <td>EAP</td>\n",
       "      <td>2105003391</td>\n",
       "    </tr>\n",
       "    <tr>\n",
       "      <th>113</th>\n",
       "      <td>Population, total</td>\n",
       "      <td>SP.POP.TOTL</td>\n",
       "      <td>Iran, Islamic Rep.</td>\n",
       "      <td>IRN</td>\n",
       "      <td>83992953</td>\n",
       "    </tr>\n",
       "    <tr>\n",
       "      <th>207</th>\n",
       "      <td>Population, total</td>\n",
       "      <td>SP.POP.TOTL</td>\n",
       "      <td>Saudi Arabia</td>\n",
       "      <td>SAU</td>\n",
       "      <td>34813867</td>\n",
       "    </tr>\n",
       "  </tbody>\n",
       "</table>\n",
       "</div>"
      ],
      "text/plain": [
       "           Series Name  Series Code  \\\n",
       "199  Population, total  SP.POP.TOTL   \n",
       "75   Population, total  SP.POP.TOTL   \n",
       "64   Population, total  SP.POP.TOTL   \n",
       "113  Population, total  SP.POP.TOTL   \n",
       "207  Population, total  SP.POP.TOTL   \n",
       "\n",
       "                                    Country Name Country Code 2020 [YR2020]  \n",
       "199                                  Puerto Rico          PRI       3194034  \n",
       "75                         Europe & Central Asia          ECS     923489941  \n",
       "64   East Asia & Pacific (excluding high income)          EAP    2105003391  \n",
       "113                           Iran, Islamic Rep.          IRN      83992953  \n",
       "207                                 Saudi Arabia          SAU      34813867  "
      ]
     },
     "execution_count": 25,
     "metadata": {},
     "output_type": "execute_result"
    }
   ],
   "source": [
    "df_population.sample(5)\n",
    "# population_df[population_df['Country Name']=='West Bank and Gaza']"
   ]
  },
  {
   "cell_type": "code",
   "execution_count": 26,
   "metadata": {},
   "outputs": [
    {
     "name": "stdout",
     "output_type": "stream",
     "text": [
      "Bahamas\n",
      "Brunei\n",
      "Burma\n",
      "Congo (Brazzaville)\n",
      "Congo (Kinshasa)\n",
      "Czechia\n",
      "Diamond Princess\n",
      "Egypt\n",
      "Gambia\n",
      "Holy See\n",
      "Iran\n",
      "Korea, South\n",
      "Kyrgyzstan\n",
      "Laos\n",
      "MS Zaandam\n",
      "Micronesia\n",
      "Russia\n",
      "Saint Kitts and Nevis\n",
      "Saint Lucia\n",
      "Saint Vincent and the Grenadines\n",
      "Slovakia\n",
      "Summer Olympics 2020\n",
      "Syria\n",
      "Taiwan*\n",
      "US\n",
      "Venezuela\n",
      "Yemen\n"
     ]
    }
   ],
   "source": [
    "for each in data1['Country/Region'].unique():\n",
    "  if each not in df_population['Country Name'].unique():\n",
    "    print(each)"
   ]
  },
  {
   "cell_type": "code",
   "execution_count": 27,
   "metadata": {},
   "outputs": [
    {
     "data": {
      "text/plain": [
       "['Taiwan*',\n",
       " 'Summer Olympics 2020',\n",
       " 'MS Zaandam',\n",
       " 'Holy See',\n",
       " 'Diamond Princess']"
      ]
     },
     "execution_count": 27,
     "metadata": {},
     "output_type": "execute_result"
    }
   ],
   "source": [
    "#to remove countries not in population table\n",
    "not_in_population_data=['Taiwan*','Summer Olympics 2020','MS Zaandam','Holy See','Diamond Princess']\n",
    "not_in_population_data"
   ]
  },
  {
   "cell_type": "code",
   "execution_count": 28,
   "metadata": {},
   "outputs": [
    {
     "name": "stdout",
     "output_type": "stream",
     "text": [
      "Taiwan*\n",
      "Summer Olympics 2020\n",
      "MS Zaandam\n",
      "Holy See\n",
      "Diamond Princess\n"
     ]
    }
   ],
   "source": [
    "#removes countries not in population but in full_table\n",
    "for n in not_in_population_data:\n",
    "    data1 = data1[data1['Country/Region'] != n]\n",
    "    print(n)"
   ]
  },
  {
   "cell_type": "code",
   "execution_count": 29,
   "metadata": {},
   "outputs": [],
   "source": [
    "#Matching country names. \n",
    "\n",
    "\n",
    "mapping_countries1 = {\n",
    "    'Bahamas': 'Bahamas, The',\n",
    "    'Brunei': 'Brunei Darussalam',\n",
    "    'Burma': 'Myanmar',\n",
    "    'Congo (Brazzaville)': 'Congo',\n",
    "    'Congo (Kinshasa)': 'Congo',\n",
    "    'Czechia': 'Czech Republic',\n",
    "    'Egypt': 'Egypt, Arab Rep.',\n",
    "    'Gambia': 'Gambia, The',\n",
    "    'Iran': 'Iran, Islamic Rep.',\n",
    "    'Korea, South': 'Korea, Rep.',\n",
    "    'Kyrgyzstan': 'Kyrgyz Republic',\n",
    "    'Laos': 'Lao PDR',\n",
    "    'Micronesia, South': 'Micronesia, Fed. Sts.',\n",
    "    'Russia': 'Russian Federation',\n",
    "    'Saint Kitts and Nevis': 'St. Kitts and Nevis',\n",
    "    'Saint Lucia': 'St. Lucia',\n",
    "    'Saint Vincent and the Grenadines': 'St. Vincent and the Grenadines',\n",
    "    'Slovakia': 'Slovak Republic',\n",
    "    'Syria': 'Syrian Arab Republic',\n",
    "    'US': 'United States',\n",
    "    'Venezuela': 'Venezuela, RB',\n",
    "    'Yemen': 'Yemen, Rep.'\n",
    "}"
   ]
  },
  {
   "cell_type": "code",
   "execution_count": 30,
   "metadata": {},
   "outputs": [
    {
     "data": {
      "text/plain": [
       "{'Bahamas': 'Bahamas, The',\n",
       " 'Brunei': 'Brunei Darussalam',\n",
       " 'Burma': 'Myanmar',\n",
       " 'Congo (Brazzaville)': 'Congo',\n",
       " 'Congo (Kinshasa)': 'Congo',\n",
       " 'Czechia': 'Czech Republic',\n",
       " 'Egypt': 'Egypt, Arab Rep.',\n",
       " 'Gambia': 'Gambia, The',\n",
       " 'Iran': 'Iran, Islamic Rep.',\n",
       " 'Korea, South': 'Korea, Rep.',\n",
       " 'Kyrgyzstan': 'Kyrgyz Republic',\n",
       " 'Laos': 'Lao PDR',\n",
       " 'Micronesia, South': 'Micronesia, Fed. Sts.',\n",
       " 'Russia': 'Russian Federation',\n",
       " 'Saint Kitts and Nevis': 'St. Kitts and Nevis',\n",
       " 'Saint Lucia': 'St. Lucia',\n",
       " 'Saint Vincent and the Grenadines': 'St. Vincent and the Grenadines',\n",
       " 'Slovakia': 'Slovak Republic',\n",
       " 'Syria': 'Syrian Arab Republic',\n",
       " 'US': 'United States',\n",
       " 'Venezuela': 'Venezuela, RB',\n",
       " 'Yemen': 'Yemen, Rep.'}"
      ]
     },
     "execution_count": 30,
     "metadata": {},
     "output_type": "execute_result"
    }
   ],
   "source": [
    "mapping_countries1"
   ]
  },
  {
   "cell_type": "code",
   "execution_count": 31,
   "metadata": {},
   "outputs": [],
   "source": [
    "#replacing the country names in full_table with population table\n",
    "data1['Country/Region'] = data1['Country/Region'].replace(mapping_countries1)"
   ]
  },
  {
   "cell_type": "code",
   "execution_count": 32,
   "metadata": {},
   "outputs": [
    {
     "data": {
      "text/html": [
       "<div>\n",
       "<style scoped>\n",
       "    .dataframe tbody tr th:only-of-type {\n",
       "        vertical-align: middle;\n",
       "    }\n",
       "\n",
       "    .dataframe tbody tr th {\n",
       "        vertical-align: top;\n",
       "    }\n",
       "\n",
       "    .dataframe thead th {\n",
       "        text-align: right;\n",
       "    }\n",
       "</style>\n",
       "<table border=\"1\" class=\"dataframe\">\n",
       "  <thead>\n",
       "    <tr style=\"text-align: right;\">\n",
       "      <th></th>\n",
       "      <th>Country/Region</th>\n",
       "      <th>date</th>\n",
       "      <th>Lat</th>\n",
       "      <th>Long</th>\n",
       "      <th>confirmed</th>\n",
       "      <th>deaths</th>\n",
       "      <th>recoveries</th>\n",
       "    </tr>\n",
       "  </thead>\n",
       "  <tbody>\n",
       "    <tr>\n",
       "      <th>85328</th>\n",
       "      <td>Gambia, The</td>\n",
       "      <td>12/11/20</td>\n",
       "      <td>13.443200</td>\n",
       "      <td>-15.310100</td>\n",
       "      <td>3779</td>\n",
       "      <td>123</td>\n",
       "      <td>3645</td>\n",
       "    </tr>\n",
       "    <tr>\n",
       "      <th>122439</th>\n",
       "      <td>Korea, Rep.</td>\n",
       "      <td>5/1/21</td>\n",
       "      <td>35.907757</td>\n",
       "      <td>127.766922</td>\n",
       "      <td>123240</td>\n",
       "      <td>1833</td>\n",
       "      <td>112865</td>\n",
       "    </tr>\n",
       "    <tr>\n",
       "      <th>128461</th>\n",
       "      <td>Georgia</td>\n",
       "      <td>5/24/21</td>\n",
       "      <td>42.315400</td>\n",
       "      <td>43.356900</td>\n",
       "      <td>337961</td>\n",
       "      <td>4639</td>\n",
       "      <td>319956</td>\n",
       "    </tr>\n",
       "    <tr>\n",
       "      <th>45232</th>\n",
       "      <td>West Bank and Gaza</td>\n",
       "      <td>7/11/20</td>\n",
       "      <td>31.952200</td>\n",
       "      <td>35.233200</td>\n",
       "      <td>5931</td>\n",
       "      <td>33</td>\n",
       "      <td>536</td>\n",
       "    </tr>\n",
       "    <tr>\n",
       "      <th>55766</th>\n",
       "      <td>Australia</td>\n",
       "      <td>8/21/20</td>\n",
       "      <td>-12.463400</td>\n",
       "      <td>130.845600</td>\n",
       "      <td>33</td>\n",
       "      <td>0</td>\n",
       "      <td>33</td>\n",
       "    </tr>\n",
       "  </tbody>\n",
       "</table>\n",
       "</div>"
      ],
      "text/plain": [
       "            Country/Region      date        Lat        Long  confirmed  \\\n",
       "85328          Gambia, The  12/11/20  13.443200  -15.310100       3779   \n",
       "122439         Korea, Rep.    5/1/21  35.907757  127.766922     123240   \n",
       "128461             Georgia   5/24/21  42.315400   43.356900     337961   \n",
       "45232   West Bank and Gaza   7/11/20  31.952200   35.233200       5931   \n",
       "55766            Australia   8/21/20 -12.463400  130.845600         33   \n",
       "\n",
       "        deaths  recoveries  \n",
       "85328      123        3645  \n",
       "122439    1833      112865  \n",
       "128461    4639      319956  \n",
       "45232       33         536  \n",
       "55766        0          33  "
      ]
     },
     "execution_count": 32,
     "metadata": {},
     "output_type": "execute_result"
    }
   ],
   "source": [
    "data1.sample(5)"
   ]
  },
  {
   "cell_type": "code",
   "execution_count": 33,
   "metadata": {},
   "outputs": [],
   "source": [
    "data1['active'] = data1['confirmed'] - data1['deaths'] - data1['recoveries']"
   ]
  },
  {
   "cell_type": "code",
   "execution_count": 34,
   "metadata": {},
   "outputs": [
    {
     "data": {
      "text/html": [
       "<div>\n",
       "<style scoped>\n",
       "    .dataframe tbody tr th:only-of-type {\n",
       "        vertical-align: middle;\n",
       "    }\n",
       "\n",
       "    .dataframe tbody tr th {\n",
       "        vertical-align: top;\n",
       "    }\n",
       "\n",
       "    .dataframe thead th {\n",
       "        text-align: right;\n",
       "    }\n",
       "</style>\n",
       "<table border=\"1\" class=\"dataframe\">\n",
       "  <thead>\n",
       "    <tr style=\"text-align: right;\">\n",
       "      <th></th>\n",
       "      <th>Country/Region</th>\n",
       "      <th>date</th>\n",
       "      <th>Lat</th>\n",
       "      <th>Long</th>\n",
       "      <th>confirmed</th>\n",
       "      <th>deaths</th>\n",
       "      <th>recoveries</th>\n",
       "      <th>active</th>\n",
       "    </tr>\n",
       "  </thead>\n",
       "  <tbody>\n",
       "    <tr>\n",
       "      <th>43307</th>\n",
       "      <td>Namibia</td>\n",
       "      <td>7/4/20</td>\n",
       "      <td>-22.957600</td>\n",
       "      <td>18.490400</td>\n",
       "      <td>375</td>\n",
       "      <td>0</td>\n",
       "      <td>25</td>\n",
       "      <td>350</td>\n",
       "    </tr>\n",
       "    <tr>\n",
       "      <th>64920</th>\n",
       "      <td>Sri Lanka</td>\n",
       "      <td>9/24/20</td>\n",
       "      <td>7.873054</td>\n",
       "      <td>80.771797</td>\n",
       "      <td>3333</td>\n",
       "      <td>13</td>\n",
       "      <td>3142</td>\n",
       "      <td>178</td>\n",
       "    </tr>\n",
       "    <tr>\n",
       "      <th>105417</th>\n",
       "      <td>Solomon Islands</td>\n",
       "      <td>2/25/21</td>\n",
       "      <td>-9.645700</td>\n",
       "      <td>160.156200</td>\n",
       "      <td>18</td>\n",
       "      <td>0</td>\n",
       "      <td>14</td>\n",
       "      <td>4</td>\n",
       "    </tr>\n",
       "    <tr>\n",
       "      <th>122507</th>\n",
       "      <td>Seychelles</td>\n",
       "      <td>5/1/21</td>\n",
       "      <td>-4.679600</td>\n",
       "      <td>55.492000</td>\n",
       "      <td>5873</td>\n",
       "      <td>28</td>\n",
       "      <td>5101</td>\n",
       "      <td>744</td>\n",
       "    </tr>\n",
       "    <tr>\n",
       "      <th>61379</th>\n",
       "      <td>Ethiopia</td>\n",
       "      <td>9/11/20</td>\n",
       "      <td>9.145000</td>\n",
       "      <td>40.489700</td>\n",
       "      <td>63367</td>\n",
       "      <td>986</td>\n",
       "      <td>24024</td>\n",
       "      <td>38357</td>\n",
       "    </tr>\n",
       "  </tbody>\n",
       "</table>\n",
       "</div>"
      ],
      "text/plain": [
       "         Country/Region     date        Lat        Long  confirmed  deaths  \\\n",
       "43307           Namibia   7/4/20 -22.957600   18.490400        375       0   \n",
       "64920         Sri Lanka  9/24/20   7.873054   80.771797       3333      13   \n",
       "105417  Solomon Islands  2/25/21  -9.645700  160.156200         18       0   \n",
       "122507       Seychelles   5/1/21  -4.679600   55.492000       5873      28   \n",
       "61379          Ethiopia  9/11/20   9.145000   40.489700      63367     986   \n",
       "\n",
       "        recoveries  active  \n",
       "43307           25     350  \n",
       "64920         3142     178  \n",
       "105417          14       4  \n",
       "122507        5101     744  \n",
       "61379        24024   38357  "
      ]
     },
     "execution_count": 34,
     "metadata": {},
     "output_type": "execute_result"
    }
   ],
   "source": [
    "data1.sample(5)"
   ]
  },
  {
   "cell_type": "code",
   "execution_count": 35,
   "metadata": {},
   "outputs": [],
   "source": [
    "# renaming columns\n",
    "data1.columns = ['country', 'date', 'Lat', 'Long', 'confirmed', 'deaths', 'recoveries','active']"
   ]
  },
  {
   "cell_type": "code",
   "execution_count": 36,
   "metadata": {},
   "outputs": [
    {
     "data": {
      "text/html": [
       "<div>\n",
       "<style scoped>\n",
       "    .dataframe tbody tr th:only-of-type {\n",
       "        vertical-align: middle;\n",
       "    }\n",
       "\n",
       "    .dataframe tbody tr th {\n",
       "        vertical-align: top;\n",
       "    }\n",
       "\n",
       "    .dataframe thead th {\n",
       "        text-align: right;\n",
       "    }\n",
       "</style>\n",
       "<table border=\"1\" class=\"dataframe\">\n",
       "  <thead>\n",
       "    <tr style=\"text-align: right;\">\n",
       "      <th></th>\n",
       "      <th>country</th>\n",
       "      <th>date</th>\n",
       "      <th>Lat</th>\n",
       "      <th>Long</th>\n",
       "      <th>confirmed</th>\n",
       "      <th>deaths</th>\n",
       "      <th>recoveries</th>\n",
       "      <th>active</th>\n",
       "    </tr>\n",
       "  </thead>\n",
       "  <tbody>\n",
       "    <tr>\n",
       "      <th>42239</th>\n",
       "      <td>Malawi</td>\n",
       "      <td>6/30/20</td>\n",
       "      <td>-13.2543</td>\n",
       "      <td>34.3015</td>\n",
       "      <td>1224</td>\n",
       "      <td>14</td>\n",
       "      <td>260</td>\n",
       "      <td>950</td>\n",
       "    </tr>\n",
       "    <tr>\n",
       "      <th>69482</th>\n",
       "      <td>China</td>\n",
       "      <td>10/12/20</td>\n",
       "      <td>19.1959</td>\n",
       "      <td>109.7453</td>\n",
       "      <td>171</td>\n",
       "      <td>6</td>\n",
       "      <td>165</td>\n",
       "      <td>0</td>\n",
       "    </tr>\n",
       "    <tr>\n",
       "      <th>124415</th>\n",
       "      <td>Austria</td>\n",
       "      <td>5/9/21</td>\n",
       "      <td>47.5162</td>\n",
       "      <td>14.5501</td>\n",
       "      <td>631076</td>\n",
       "      <td>10382</td>\n",
       "      <td>603901</td>\n",
       "      <td>16793</td>\n",
       "    </tr>\n",
       "    <tr>\n",
       "      <th>75027</th>\n",
       "      <td>China</td>\n",
       "      <td>11/2/20</td>\n",
       "      <td>NaN</td>\n",
       "      <td>NaN</td>\n",
       "      <td>0</td>\n",
       "      <td>0</td>\n",
       "      <td>0</td>\n",
       "      <td>0</td>\n",
       "    </tr>\n",
       "    <tr>\n",
       "      <th>88413</th>\n",
       "      <td>China</td>\n",
       "      <td>12/23/20</td>\n",
       "      <td>26.0789</td>\n",
       "      <td>117.9874</td>\n",
       "      <td>507</td>\n",
       "      <td>1</td>\n",
       "      <td>485</td>\n",
       "      <td>21</td>\n",
       "    </tr>\n",
       "  </tbody>\n",
       "</table>\n",
       "</div>"
      ],
      "text/plain": [
       "        country      date      Lat      Long  confirmed  deaths  recoveries  \\\n",
       "42239    Malawi   6/30/20 -13.2543   34.3015       1224      14         260   \n",
       "69482     China  10/12/20  19.1959  109.7453        171       6         165   \n",
       "124415  Austria    5/9/21  47.5162   14.5501     631076   10382      603901   \n",
       "75027     China   11/2/20      NaN       NaN          0       0           0   \n",
       "88413     China  12/23/20  26.0789  117.9874        507       1         485   \n",
       "\n",
       "        active  \n",
       "42239      950  \n",
       "69482        0  \n",
       "124415   16793  \n",
       "75027        0  \n",
       "88413       21  "
      ]
     },
     "execution_count": 36,
     "metadata": {},
     "output_type": "execute_result"
    }
   ],
   "source": [
    "\n",
    "data1.sample(5)"
   ]
  },
  {
   "cell_type": "code",
   "execution_count": 37,
   "metadata": {},
   "outputs": [],
   "source": [
    "data1['date']=data1.date.astype('datetime64[ns]')"
   ]
  },
  {
   "cell_type": "code",
   "execution_count": 38,
   "metadata": {},
   "outputs": [
    {
     "data": {
      "text/html": [
       "<div>\n",
       "<style scoped>\n",
       "    .dataframe tbody tr th:only-of-type {\n",
       "        vertical-align: middle;\n",
       "    }\n",
       "\n",
       "    .dataframe tbody tr th {\n",
       "        vertical-align: top;\n",
       "    }\n",
       "\n",
       "    .dataframe thead th {\n",
       "        text-align: right;\n",
       "    }\n",
       "</style>\n",
       "<table border=\"1\" class=\"dataframe\">\n",
       "  <thead>\n",
       "    <tr style=\"text-align: right;\">\n",
       "      <th></th>\n",
       "      <th>country</th>\n",
       "      <th>date</th>\n",
       "      <th>Lat</th>\n",
       "      <th>Long</th>\n",
       "      <th>confirmed</th>\n",
       "      <th>deaths</th>\n",
       "      <th>recoveries</th>\n",
       "      <th>active</th>\n",
       "    </tr>\n",
       "  </thead>\n",
       "  <tbody>\n",
       "    <tr>\n",
       "      <th>154699</th>\n",
       "      <td>Canada</td>\n",
       "      <td>2021-08-25</td>\n",
       "      <td>56.1304</td>\n",
       "      <td>-106.3468</td>\n",
       "      <td>1487197</td>\n",
       "      <td>26919</td>\n",
       "      <td>0</td>\n",
       "      <td>1460278</td>\n",
       "    </tr>\n",
       "    <tr>\n",
       "      <th>154700</th>\n",
       "      <td>Canada</td>\n",
       "      <td>2021-08-26</td>\n",
       "      <td>56.1304</td>\n",
       "      <td>-106.3468</td>\n",
       "      <td>1490617</td>\n",
       "      <td>26929</td>\n",
       "      <td>0</td>\n",
       "      <td>1463688</td>\n",
       "    </tr>\n",
       "    <tr>\n",
       "      <th>154701</th>\n",
       "      <td>Canada</td>\n",
       "      <td>2021-08-27</td>\n",
       "      <td>56.1304</td>\n",
       "      <td>-106.3468</td>\n",
       "      <td>1494397</td>\n",
       "      <td>26946</td>\n",
       "      <td>0</td>\n",
       "      <td>1467451</td>\n",
       "    </tr>\n",
       "    <tr>\n",
       "      <th>154702</th>\n",
       "      <td>Canada</td>\n",
       "      <td>2021-08-28</td>\n",
       "      <td>56.1304</td>\n",
       "      <td>-106.3468</td>\n",
       "      <td>1495859</td>\n",
       "      <td>26953</td>\n",
       "      <td>0</td>\n",
       "      <td>1468906</td>\n",
       "    </tr>\n",
       "    <tr>\n",
       "      <th>154703</th>\n",
       "      <td>Canada</td>\n",
       "      <td>2021-08-29</td>\n",
       "      <td>56.1304</td>\n",
       "      <td>-106.3468</td>\n",
       "      <td>1497283</td>\n",
       "      <td>26954</td>\n",
       "      <td>0</td>\n",
       "      <td>1470329</td>\n",
       "    </tr>\n",
       "  </tbody>\n",
       "</table>\n",
       "</div>"
      ],
      "text/plain": [
       "       country       date      Lat      Long  confirmed  deaths  recoveries  \\\n",
       "154699  Canada 2021-08-25  56.1304 -106.3468    1487197   26919           0   \n",
       "154700  Canada 2021-08-26  56.1304 -106.3468    1490617   26929           0   \n",
       "154701  Canada 2021-08-27  56.1304 -106.3468    1494397   26946           0   \n",
       "154702  Canada 2021-08-28  56.1304 -106.3468    1495859   26953           0   \n",
       "154703  Canada 2021-08-29  56.1304 -106.3468    1497283   26954           0   \n",
       "\n",
       "         active  \n",
       "154699  1460278  \n",
       "154700  1463688  \n",
       "154701  1467451  \n",
       "154702  1468906  \n",
       "154703  1470329  "
      ]
     },
     "execution_count": 38,
     "metadata": {},
     "output_type": "execute_result"
    }
   ],
   "source": [
    "data1.tail()"
   ]
  },
  {
   "cell_type": "code",
   "execution_count": 39,
   "metadata": {},
   "outputs": [
    {
     "name": "stderr",
     "output_type": "stream",
     "text": [
      "<ipython-input-39-be20f7255471>:2: FutureWarning: Indexing with multiple keys (implicitly converted to a tuple of keys) will be deprecated, use a list instead.\n",
      "  data1_grp=data1.groupby(['country','date'])['confirmed','deaths','recoveries','active'].sum().reset_index()\n"
     ]
    }
   ],
   "source": [
    "#new cases, new deaths, new recoveries\n",
    "data1_grp=data1.groupby(['country','date'])['confirmed','deaths','recoveries','active'].sum().reset_index()\n",
    "\n",
    "# data1_grp=data1.groupby(['country','date'])['recoveries'].sum().reset_index()"
   ]
  },
  {
   "cell_type": "code",
   "execution_count": 40,
   "metadata": {},
   "outputs": [
    {
     "data": {
      "text/html": [
       "<div>\n",
       "<style scoped>\n",
       "    .dataframe tbody tr th:only-of-type {\n",
       "        vertical-align: middle;\n",
       "    }\n",
       "\n",
       "    .dataframe tbody tr th {\n",
       "        vertical-align: top;\n",
       "    }\n",
       "\n",
       "    .dataframe thead th {\n",
       "        text-align: right;\n",
       "    }\n",
       "</style>\n",
       "<table border=\"1\" class=\"dataframe\">\n",
       "  <thead>\n",
       "    <tr style=\"text-align: right;\">\n",
       "      <th></th>\n",
       "      <th>country</th>\n",
       "      <th>date</th>\n",
       "      <th>confirmed</th>\n",
       "      <th>deaths</th>\n",
       "      <th>recoveries</th>\n",
       "      <th>active</th>\n",
       "    </tr>\n",
       "  </thead>\n",
       "  <tbody>\n",
       "    <tr>\n",
       "      <th>18747</th>\n",
       "      <td>Canada</td>\n",
       "      <td>2021-08-25</td>\n",
       "      <td>1487197</td>\n",
       "      <td>26919</td>\n",
       "      <td>0</td>\n",
       "      <td>1460278</td>\n",
       "    </tr>\n",
       "    <tr>\n",
       "      <th>18748</th>\n",
       "      <td>Canada</td>\n",
       "      <td>2021-08-26</td>\n",
       "      <td>1490617</td>\n",
       "      <td>26929</td>\n",
       "      <td>0</td>\n",
       "      <td>1463688</td>\n",
       "    </tr>\n",
       "    <tr>\n",
       "      <th>18749</th>\n",
       "      <td>Canada</td>\n",
       "      <td>2021-08-27</td>\n",
       "      <td>1494397</td>\n",
       "      <td>26946</td>\n",
       "      <td>0</td>\n",
       "      <td>1467451</td>\n",
       "    </tr>\n",
       "    <tr>\n",
       "      <th>18750</th>\n",
       "      <td>Canada</td>\n",
       "      <td>2021-08-28</td>\n",
       "      <td>1495859</td>\n",
       "      <td>26953</td>\n",
       "      <td>0</td>\n",
       "      <td>1468906</td>\n",
       "    </tr>\n",
       "    <tr>\n",
       "      <th>18751</th>\n",
       "      <td>Canada</td>\n",
       "      <td>2021-08-29</td>\n",
       "      <td>1497283</td>\n",
       "      <td>26954</td>\n",
       "      <td>0</td>\n",
       "      <td>1470329</td>\n",
       "    </tr>\n",
       "  </tbody>\n",
       "</table>\n",
       "</div>"
      ],
      "text/plain": [
       "      country       date  confirmed  deaths  recoveries   active\n",
       "18747  Canada 2021-08-25    1487197   26919           0  1460278\n",
       "18748  Canada 2021-08-26    1490617   26929           0  1463688\n",
       "18749  Canada 2021-08-27    1494397   26946           0  1467451\n",
       "18750  Canada 2021-08-28    1495859   26953           0  1468906\n",
       "18751  Canada 2021-08-29    1497283   26954           0  1470329"
      ]
     },
     "execution_count": 40,
     "metadata": {},
     "output_type": "execute_result"
    }
   ],
   "source": [
    "data1_grp[data1_grp['country'] == 'Canada'].tail()"
   ]
  },
  {
   "cell_type": "code",
   "execution_count": 41,
   "metadata": {},
   "outputs": [
    {
     "name": "stderr",
     "output_type": "stream",
     "text": [
      "<ipython-input-41-6d567e7ddd60>:1: FutureWarning: Indexing with multiple keys (implicitly converted to a tuple of keys) will be deprecated, use a list instead.\n",
      "  tmp=data1_grp.groupby(['country','date'])['confirmed','deaths','recoveries'].sum().diff().reset_index()\n"
     ]
    }
   ],
   "source": [
    "tmp=data1_grp.groupby(['country','date'])['confirmed','deaths','recoveries'].sum().diff().reset_index()"
   ]
  },
  {
   "cell_type": "code",
   "execution_count": 42,
   "metadata": {},
   "outputs": [],
   "source": [
    "mask=tmp['country']!=tmp['country'].shift(1)"
   ]
  },
  {
   "cell_type": "code",
   "execution_count": 43,
   "metadata": {},
   "outputs": [],
   "source": [
    "tmp.loc[mask,'confirmed']=np.nan\n",
    "tmp.loc[mask,'deaths']=np.nan\n",
    "tmp.loc[mask,'recoveries']=np.nan"
   ]
  },
  {
   "cell_type": "code",
   "execution_count": 44,
   "metadata": {},
   "outputs": [],
   "source": [
    "#renaming columns\n",
    "tmp.columns=['country','date','new_cases','new_deaths','new_recoveries']"
   ]
  },
  {
   "cell_type": "code",
   "execution_count": 45,
   "metadata": {},
   "outputs": [],
   "source": [
    "#merging new values\n",
    "data1_grp=pd.merge(data1_grp,tmp, on=['country','date'])"
   ]
  },
  {
   "cell_type": "code",
   "execution_count": 46,
   "metadata": {},
   "outputs": [],
   "source": [
    "#filling na with 0\n",
    "data1_grp=data1_grp.fillna(0)"
   ]
  },
  {
   "cell_type": "code",
   "execution_count": 47,
   "metadata": {},
   "outputs": [],
   "source": [
    "#fixing data types\n",
    "data1_grp['new_cases']=data1_grp['new_cases'].astype('int')\n",
    "data1_grp['new_deaths']=data1_grp['new_deaths'].astype('int')\n",
    "data1_grp['new_recoveries']=data1_grp['new_recoveries'].astype('int')"
   ]
  },
  {
   "cell_type": "code",
   "execution_count": 48,
   "metadata": {},
   "outputs": [],
   "source": [
    "data1_grp['new_cases']=data1_grp['new_cases'].apply(lambda x: 0 if x<0 else x)\n",
    "data1_grp['new_deaths']=data1_grp['new_deaths'].apply(lambda x: 0 if x<0 else x)\n",
    "data1_grp['new_recoveries']=data1_grp['new_recoveries'].apply(lambda x: 0 if x<0 else x)"
   ]
  },
  {
   "cell_type": "code",
   "execution_count": 49,
   "metadata": {},
   "outputs": [
    {
     "data": {
      "text/html": [
       "<div>\n",
       "<style scoped>\n",
       "    .dataframe tbody tr th:only-of-type {\n",
       "        vertical-align: middle;\n",
       "    }\n",
       "\n",
       "    .dataframe tbody tr th {\n",
       "        vertical-align: top;\n",
       "    }\n",
       "\n",
       "    .dataframe thead th {\n",
       "        text-align: right;\n",
       "    }\n",
       "</style>\n",
       "<table border=\"1\" class=\"dataframe\">\n",
       "  <thead>\n",
       "    <tr style=\"text-align: right;\">\n",
       "      <th></th>\n",
       "      <th>country</th>\n",
       "      <th>date</th>\n",
       "      <th>confirmed</th>\n",
       "      <th>deaths</th>\n",
       "      <th>recoveries</th>\n",
       "      <th>active</th>\n",
       "      <th>new_cases</th>\n",
       "      <th>new_deaths</th>\n",
       "      <th>new_recoveries</th>\n",
       "    </tr>\n",
       "  </thead>\n",
       "  <tbody>\n",
       "    <tr>\n",
       "      <th>62030</th>\n",
       "      <td>Mali</td>\n",
       "      <td>2021-06-05</td>\n",
       "      <td>14296</td>\n",
       "      <td>518</td>\n",
       "      <td>9844</td>\n",
       "      <td>3934</td>\n",
       "      <td>9</td>\n",
       "      <td>1</td>\n",
       "      <td>77</td>\n",
       "    </tr>\n",
       "    <tr>\n",
       "      <th>47127</th>\n",
       "      <td>Israel</td>\n",
       "      <td>2020-09-25</td>\n",
       "      <td>222887</td>\n",
       "      <td>1446</td>\n",
       "      <td>155979</td>\n",
       "      <td>65462</td>\n",
       "      <td>8390</td>\n",
       "      <td>30</td>\n",
       "      <td>4251</td>\n",
       "    </tr>\n",
       "    <tr>\n",
       "      <th>99858</th>\n",
       "      <td>Timor-Leste</td>\n",
       "      <td>2020-09-16</td>\n",
       "      <td>27</td>\n",
       "      <td>0</td>\n",
       "      <td>26</td>\n",
       "      <td>1</td>\n",
       "      <td>0</td>\n",
       "      <td>0</td>\n",
       "      <td>0</td>\n",
       "    </tr>\n",
       "    <tr>\n",
       "      <th>23053</th>\n",
       "      <td>Costa Rica</td>\n",
       "      <td>2020-08-08</td>\n",
       "      <td>22802</td>\n",
       "      <td>228</td>\n",
       "      <td>7589</td>\n",
       "      <td>14985</td>\n",
       "      <td>721</td>\n",
       "      <td>10</td>\n",
       "      <td>323</td>\n",
       "    </tr>\n",
       "    <tr>\n",
       "      <th>19998</th>\n",
       "      <td>Chile</td>\n",
       "      <td>2020-04-05</td>\n",
       "      <td>4665</td>\n",
       "      <td>34</td>\n",
       "      <td>618</td>\n",
       "      <td>4013</td>\n",
       "      <td>310</td>\n",
       "      <td>7</td>\n",
       "      <td>90</td>\n",
       "    </tr>\n",
       "  </tbody>\n",
       "</table>\n",
       "</div>"
      ],
      "text/plain": [
       "           country       date  confirmed  deaths  recoveries  active  \\\n",
       "62030         Mali 2021-06-05      14296     518        9844    3934   \n",
       "47127       Israel 2020-09-25     222887    1446      155979   65462   \n",
       "99858  Timor-Leste 2020-09-16         27       0          26       1   \n",
       "23053   Costa Rica 2020-08-08      22802     228        7589   14985   \n",
       "19998        Chile 2020-04-05       4665      34         618    4013   \n",
       "\n",
       "       new_cases  new_deaths  new_recoveries  \n",
       "62030          9           1              77  \n",
       "47127       8390          30            4251  \n",
       "99858          0           0               0  \n",
       "23053        721          10             323  \n",
       "19998        310           7              90  "
      ]
     },
     "execution_count": 49,
     "metadata": {},
     "output_type": "execute_result"
    }
   ],
   "source": [
    "data1_grp.sample(5)"
   ]
  },
  {
   "cell_type": "code",
   "execution_count": 50,
   "metadata": {},
   "outputs": [],
   "source": [
    "data1_grp = data1_grp.drop(['confirmed','deaths','recoveries','active'], axis=1)"
   ]
  },
  {
   "cell_type": "code",
   "execution_count": 51,
   "metadata": {},
   "outputs": [
    {
     "data": {
      "text/html": [
       "<div>\n",
       "<style scoped>\n",
       "    .dataframe tbody tr th:only-of-type {\n",
       "        vertical-align: middle;\n",
       "    }\n",
       "\n",
       "    .dataframe tbody tr th {\n",
       "        vertical-align: top;\n",
       "    }\n",
       "\n",
       "    .dataframe thead th {\n",
       "        text-align: right;\n",
       "    }\n",
       "</style>\n",
       "<table border=\"1\" class=\"dataframe\">\n",
       "  <thead>\n",
       "    <tr style=\"text-align: right;\">\n",
       "      <th></th>\n",
       "      <th>country</th>\n",
       "      <th>date</th>\n",
       "      <th>new_cases</th>\n",
       "      <th>new_deaths</th>\n",
       "      <th>new_recoveries</th>\n",
       "    </tr>\n",
       "  </thead>\n",
       "  <tbody>\n",
       "    <tr>\n",
       "      <th>24506</th>\n",
       "      <td>Croatia</td>\n",
       "      <td>2021-05-16</td>\n",
       "      <td>480</td>\n",
       "      <td>21</td>\n",
       "      <td>1113</td>\n",
       "    </tr>\n",
       "    <tr>\n",
       "      <th>48625</th>\n",
       "      <td>Jamaica</td>\n",
       "      <td>2021-08-17</td>\n",
       "      <td>630</td>\n",
       "      <td>9</td>\n",
       "      <td>0</td>\n",
       "    </tr>\n",
       "    <tr>\n",
       "      <th>80241</th>\n",
       "      <td>Poland</td>\n",
       "      <td>2021-07-20</td>\n",
       "      <td>103</td>\n",
       "      <td>4</td>\n",
       "      <td>0</td>\n",
       "    </tr>\n",
       "    <tr>\n",
       "      <th>79141</th>\n",
       "      <td>Philippines</td>\n",
       "      <td>2020-02-22</td>\n",
       "      <td>0</td>\n",
       "      <td>0</td>\n",
       "      <td>0</td>\n",
       "    </tr>\n",
       "    <tr>\n",
       "      <th>109818</th>\n",
       "      <td>Zambia</td>\n",
       "      <td>2020-09-14</td>\n",
       "      <td>181</td>\n",
       "      <td>8</td>\n",
       "      <td>120</td>\n",
       "    </tr>\n",
       "  </tbody>\n",
       "</table>\n",
       "</div>"
      ],
      "text/plain": [
       "            country       date  new_cases  new_deaths  new_recoveries\n",
       "24506       Croatia 2021-05-16        480          21            1113\n",
       "48625       Jamaica 2021-08-17        630           9               0\n",
       "80241        Poland 2021-07-20        103           4               0\n",
       "79141   Philippines 2020-02-22          0           0               0\n",
       "109818       Zambia 2020-09-14        181           8             120"
      ]
     },
     "execution_count": 51,
     "metadata": {},
     "output_type": "execute_result"
    }
   ],
   "source": [
    "data1_grp.sample(5)"
   ]
  },
  {
   "cell_type": "code",
   "execution_count": 52,
   "metadata": {},
   "outputs": [],
   "source": [
    "#merging new_recoveries to data2\n",
    "data1a=pd.merge(data1,data1_grp, on=['country','date'])"
   ]
  },
  {
   "cell_type": "code",
   "execution_count": 53,
   "metadata": {},
   "outputs": [
    {
     "data": {
      "text/html": [
       "<div>\n",
       "<style scoped>\n",
       "    .dataframe tbody tr th:only-of-type {\n",
       "        vertical-align: middle;\n",
       "    }\n",
       "\n",
       "    .dataframe tbody tr th {\n",
       "        vertical-align: top;\n",
       "    }\n",
       "\n",
       "    .dataframe thead th {\n",
       "        text-align: right;\n",
       "    }\n",
       "</style>\n",
       "<table border=\"1\" class=\"dataframe\">\n",
       "  <thead>\n",
       "    <tr style=\"text-align: right;\">\n",
       "      <th></th>\n",
       "      <th>country</th>\n",
       "      <th>date</th>\n",
       "      <th>Lat</th>\n",
       "      <th>Long</th>\n",
       "      <th>confirmed</th>\n",
       "      <th>deaths</th>\n",
       "      <th>recoveries</th>\n",
       "      <th>active</th>\n",
       "      <th>new_cases</th>\n",
       "      <th>new_deaths</th>\n",
       "      <th>new_recoveries</th>\n",
       "    </tr>\n",
       "  </thead>\n",
       "  <tbody>\n",
       "    <tr>\n",
       "      <th>55</th>\n",
       "      <td>China</td>\n",
       "      <td>2020-01-22</td>\n",
       "      <td>30.975600</td>\n",
       "      <td>112.270700</td>\n",
       "      <td>444</td>\n",
       "      <td>17</td>\n",
       "      <td>28</td>\n",
       "      <td>399</td>\n",
       "      <td>0</td>\n",
       "      <td>0</td>\n",
       "      <td>0</td>\n",
       "    </tr>\n",
       "    <tr>\n",
       "      <th>227</th>\n",
       "      <td>Thailand</td>\n",
       "      <td>2020-01-22</td>\n",
       "      <td>15.870032</td>\n",
       "      <td>100.992541</td>\n",
       "      <td>4</td>\n",
       "      <td>0</td>\n",
       "      <td>2</td>\n",
       "      <td>2</td>\n",
       "      <td>0</td>\n",
       "      <td>0</td>\n",
       "      <td>0</td>\n",
       "    </tr>\n",
       "    <tr>\n",
       "      <th>305</th>\n",
       "      <td>China</td>\n",
       "      <td>2020-01-23</td>\n",
       "      <td>23.341700</td>\n",
       "      <td>113.424400</td>\n",
       "      <td>32</td>\n",
       "      <td>0</td>\n",
       "      <td>2</td>\n",
       "      <td>30</td>\n",
       "      <td>95</td>\n",
       "      <td>1</td>\n",
       "      <td>2</td>\n",
       "    </tr>\n",
       "    <tr>\n",
       "      <th>313</th>\n",
       "      <td>China</td>\n",
       "      <td>2020-01-23</td>\n",
       "      <td>30.975600</td>\n",
       "      <td>112.270700</td>\n",
       "      <td>444</td>\n",
       "      <td>17</td>\n",
       "      <td>28</td>\n",
       "      <td>399</td>\n",
       "      <td>95</td>\n",
       "      <td>1</td>\n",
       "      <td>2</td>\n",
       "    </tr>\n",
       "    <tr>\n",
       "      <th>485</th>\n",
       "      <td>Thailand</td>\n",
       "      <td>2020-01-23</td>\n",
       "      <td>15.870032</td>\n",
       "      <td>100.992541</td>\n",
       "      <td>4</td>\n",
       "      <td>0</td>\n",
       "      <td>2</td>\n",
       "      <td>2</td>\n",
       "      <td>0</td>\n",
       "      <td>0</td>\n",
       "      <td>0</td>\n",
       "    </tr>\n",
       "  </tbody>\n",
       "</table>\n",
       "</div>"
      ],
      "text/plain": [
       "      country       date        Lat        Long  confirmed  deaths  \\\n",
       "55      China 2020-01-22  30.975600  112.270700        444      17   \n",
       "227  Thailand 2020-01-22  15.870032  100.992541          4       0   \n",
       "305     China 2020-01-23  23.341700  113.424400         32       0   \n",
       "313     China 2020-01-23  30.975600  112.270700        444      17   \n",
       "485  Thailand 2020-01-23  15.870032  100.992541          4       0   \n",
       "\n",
       "     recoveries  active  new_cases  new_deaths  new_recoveries  \n",
       "55           28     399          0           0               0  \n",
       "227           2       2          0           0               0  \n",
       "305           2      30         95           1               2  \n",
       "313          28     399         95           1               2  \n",
       "485           2       2          0           0               0  "
      ]
     },
     "execution_count": 53,
     "metadata": {},
     "output_type": "execute_result"
    }
   ],
   "source": [
    "\n",
    "data1a[data1a['recoveries'] >0].head()"
   ]
  },
  {
   "cell_type": "code",
   "execution_count": 54,
   "metadata": {},
   "outputs": [
    {
     "data": {
      "text/html": [
       "<div>\n",
       "<style scoped>\n",
       "    .dataframe tbody tr th:only-of-type {\n",
       "        vertical-align: middle;\n",
       "    }\n",
       "\n",
       "    .dataframe tbody tr th {\n",
       "        vertical-align: top;\n",
       "    }\n",
       "\n",
       "    .dataframe thead th {\n",
       "        text-align: right;\n",
       "    }\n",
       "</style>\n",
       "<table border=\"1\" class=\"dataframe\">\n",
       "  <thead>\n",
       "    <tr style=\"text-align: right;\">\n",
       "      <th></th>\n",
       "      <th>country</th>\n",
       "      <th>date</th>\n",
       "      <th>Lat</th>\n",
       "      <th>Long</th>\n",
       "      <th>confirmed</th>\n",
       "      <th>deaths</th>\n",
       "      <th>recoveries</th>\n",
       "      <th>active</th>\n",
       "    </tr>\n",
       "  </thead>\n",
       "  <tbody>\n",
       "    <tr>\n",
       "      <th>55</th>\n",
       "      <td>China</td>\n",
       "      <td>2020-01-22</td>\n",
       "      <td>30.975600</td>\n",
       "      <td>112.270700</td>\n",
       "      <td>444</td>\n",
       "      <td>17</td>\n",
       "      <td>28</td>\n",
       "      <td>399</td>\n",
       "    </tr>\n",
       "    <tr>\n",
       "      <th>232</th>\n",
       "      <td>Thailand</td>\n",
       "      <td>2020-01-22</td>\n",
       "      <td>15.870032</td>\n",
       "      <td>100.992541</td>\n",
       "      <td>4</td>\n",
       "      <td>0</td>\n",
       "      <td>2</td>\n",
       "      <td>2</td>\n",
       "    </tr>\n",
       "    <tr>\n",
       "      <th>310</th>\n",
       "      <td>China</td>\n",
       "      <td>2020-01-23</td>\n",
       "      <td>23.341700</td>\n",
       "      <td>113.424400</td>\n",
       "      <td>32</td>\n",
       "      <td>0</td>\n",
       "      <td>2</td>\n",
       "      <td>30</td>\n",
       "    </tr>\n",
       "    <tr>\n",
       "      <th>318</th>\n",
       "      <td>China</td>\n",
       "      <td>2020-01-23</td>\n",
       "      <td>30.975600</td>\n",
       "      <td>112.270700</td>\n",
       "      <td>444</td>\n",
       "      <td>17</td>\n",
       "      <td>28</td>\n",
       "      <td>399</td>\n",
       "    </tr>\n",
       "    <tr>\n",
       "      <th>495</th>\n",
       "      <td>Thailand</td>\n",
       "      <td>2020-01-23</td>\n",
       "      <td>15.870032</td>\n",
       "      <td>100.992541</td>\n",
       "      <td>4</td>\n",
       "      <td>0</td>\n",
       "      <td>2</td>\n",
       "      <td>2</td>\n",
       "    </tr>\n",
       "  </tbody>\n",
       "</table>\n",
       "</div>"
      ],
      "text/plain": [
       "      country       date        Lat        Long  confirmed  deaths  \\\n",
       "55      China 2020-01-22  30.975600  112.270700        444      17   \n",
       "232  Thailand 2020-01-22  15.870032  100.992541          4       0   \n",
       "310     China 2020-01-23  23.341700  113.424400         32       0   \n",
       "318     China 2020-01-23  30.975600  112.270700        444      17   \n",
       "495  Thailand 2020-01-23  15.870032  100.992541          4       0   \n",
       "\n",
       "     recoveries  active  \n",
       "55           28     399  \n",
       "232           2       2  \n",
       "310           2      30  \n",
       "318          28     399  \n",
       "495           2       2  "
      ]
     },
     "execution_count": 54,
     "metadata": {},
     "output_type": "execute_result"
    }
   ],
   "source": [
    "data1[data1['recoveries'] >0].head()"
   ]
  },
  {
   "cell_type": "code",
   "execution_count": 55,
   "metadata": {},
   "outputs": [
    {
     "data": {
      "text/plain": [
       "((151774, 8), (151774, 11))"
      ]
     },
     "execution_count": 55,
     "metadata": {},
     "output_type": "execute_result"
    }
   ],
   "source": [
    "data1.shape,data1a.shape"
   ]
  },
  {
   "cell_type": "code",
   "execution_count": 56,
   "metadata": {},
   "outputs": [],
   "source": [
    "data1a.to_csv('COVID-19-time-series-clean-data.csv',index=False)"
   ]
  },
  {
   "cell_type": "code",
   "execution_count": null,
   "metadata": {},
   "outputs": [],
   "source": []
  },
  {
   "cell_type": "code",
   "execution_count": null,
   "metadata": {},
   "outputs": [],
   "source": []
  },
  {
   "cell_type": "code",
   "execution_count": null,
   "metadata": {},
   "outputs": [],
   "source": []
  },
  {
   "cell_type": "markdown",
   "metadata": {},
   "source": [
    "### Extracting confirmed cases for Ireland"
   ]
  },
  {
   "cell_type": "markdown",
   "metadata": {},
   "source": [
    "#### Loading the Libraries and the Data"
   ]
  },
  {
   "cell_type": "code",
   "execution_count": 57,
   "metadata": {},
   "outputs": [],
   "source": [
    "#importing required libraries\n",
    "import pandas as pd\n",
    "import numpy as np \n",
    "import seaborn as sns\n",
    "import matplotlib.pyplot as plt \n",
    "%matplotlib inline\n",
    "\n",
    "from sklearn.metrics import mean_squared_log_error\n",
    "from math import sqrt\n",
    "from statistics import mean, stdev\n",
    "\n",
    "import warnings\n",
    "warnings.filterwarnings(\"ignore\")"
   ]
  },
  {
   "cell_type": "code",
   "execution_count": 58,
   "metadata": {},
   "outputs": [],
   "source": [
    "# loading the data\n",
    "data3=pd.read_csv('COVID-19-time-series-clean-data.csv')"
   ]
  },
  {
   "cell_type": "code",
   "execution_count": 59,
   "metadata": {},
   "outputs": [
    {
     "data": {
      "text/plain": [
       "(151774, 11)"
      ]
     },
     "execution_count": 59,
     "metadata": {},
     "output_type": "execute_result"
    }
   ],
   "source": [
    "data3.shape"
   ]
  },
  {
   "cell_type": "code",
   "execution_count": 60,
   "metadata": {},
   "outputs": [
    {
     "data": {
      "text/html": [
       "<div>\n",
       "<style scoped>\n",
       "    .dataframe tbody tr th:only-of-type {\n",
       "        vertical-align: middle;\n",
       "    }\n",
       "\n",
       "    .dataframe tbody tr th {\n",
       "        vertical-align: top;\n",
       "    }\n",
       "\n",
       "    .dataframe thead th {\n",
       "        text-align: right;\n",
       "    }\n",
       "</style>\n",
       "<table border=\"1\" class=\"dataframe\">\n",
       "  <thead>\n",
       "    <tr style=\"text-align: right;\">\n",
       "      <th></th>\n",
       "      <th>country</th>\n",
       "      <th>date</th>\n",
       "      <th>Lat</th>\n",
       "      <th>Long</th>\n",
       "      <th>confirmed</th>\n",
       "      <th>deaths</th>\n",
       "      <th>recoveries</th>\n",
       "      <th>active</th>\n",
       "      <th>new_cases</th>\n",
       "      <th>new_deaths</th>\n",
       "      <th>new_recoveries</th>\n",
       "    </tr>\n",
       "  </thead>\n",
       "  <tbody>\n",
       "    <tr>\n",
       "      <th>0</th>\n",
       "      <td>Afghanistan</td>\n",
       "      <td>2020-01-22</td>\n",
       "      <td>33.93911</td>\n",
       "      <td>67.709953</td>\n",
       "      <td>0</td>\n",
       "      <td>0</td>\n",
       "      <td>0</td>\n",
       "      <td>0</td>\n",
       "      <td>0</td>\n",
       "      <td>0</td>\n",
       "      <td>0</td>\n",
       "    </tr>\n",
       "    <tr>\n",
       "      <th>1</th>\n",
       "      <td>Albania</td>\n",
       "      <td>2020-01-22</td>\n",
       "      <td>41.15330</td>\n",
       "      <td>20.168300</td>\n",
       "      <td>0</td>\n",
       "      <td>0</td>\n",
       "      <td>0</td>\n",
       "      <td>0</td>\n",
       "      <td>0</td>\n",
       "      <td>0</td>\n",
       "      <td>0</td>\n",
       "    </tr>\n",
       "    <tr>\n",
       "      <th>2</th>\n",
       "      <td>Algeria</td>\n",
       "      <td>2020-01-22</td>\n",
       "      <td>28.03390</td>\n",
       "      <td>1.659600</td>\n",
       "      <td>0</td>\n",
       "      <td>0</td>\n",
       "      <td>0</td>\n",
       "      <td>0</td>\n",
       "      <td>0</td>\n",
       "      <td>0</td>\n",
       "      <td>0</td>\n",
       "    </tr>\n",
       "    <tr>\n",
       "      <th>3</th>\n",
       "      <td>Andorra</td>\n",
       "      <td>2020-01-22</td>\n",
       "      <td>42.50630</td>\n",
       "      <td>1.521800</td>\n",
       "      <td>0</td>\n",
       "      <td>0</td>\n",
       "      <td>0</td>\n",
       "      <td>0</td>\n",
       "      <td>0</td>\n",
       "      <td>0</td>\n",
       "      <td>0</td>\n",
       "    </tr>\n",
       "    <tr>\n",
       "      <th>4</th>\n",
       "      <td>Angola</td>\n",
       "      <td>2020-01-22</td>\n",
       "      <td>-11.20270</td>\n",
       "      <td>17.873900</td>\n",
       "      <td>0</td>\n",
       "      <td>0</td>\n",
       "      <td>0</td>\n",
       "      <td>0</td>\n",
       "      <td>0</td>\n",
       "      <td>0</td>\n",
       "      <td>0</td>\n",
       "    </tr>\n",
       "  </tbody>\n",
       "</table>\n",
       "</div>"
      ],
      "text/plain": [
       "       country        date       Lat       Long  confirmed  deaths  \\\n",
       "0  Afghanistan  2020-01-22  33.93911  67.709953          0       0   \n",
       "1      Albania  2020-01-22  41.15330  20.168300          0       0   \n",
       "2      Algeria  2020-01-22  28.03390   1.659600          0       0   \n",
       "3      Andorra  2020-01-22  42.50630   1.521800          0       0   \n",
       "4       Angola  2020-01-22 -11.20270  17.873900          0       0   \n",
       "\n",
       "   recoveries  active  new_cases  new_deaths  new_recoveries  \n",
       "0           0       0          0           0               0  \n",
       "1           0       0          0           0               0  \n",
       "2           0       0          0           0               0  \n",
       "3           0       0          0           0               0  \n",
       "4           0       0          0           0               0  "
      ]
     },
     "execution_count": 60,
     "metadata": {},
     "output_type": "execute_result"
    }
   ],
   "source": [
    "data3.head()"
   ]
  },
  {
   "cell_type": "code",
   "execution_count": 61,
   "metadata": {},
   "outputs": [
    {
     "data": {
      "text/html": [
       "<div>\n",
       "<style scoped>\n",
       "    .dataframe tbody tr th:only-of-type {\n",
       "        vertical-align: middle;\n",
       "    }\n",
       "\n",
       "    .dataframe tbody tr th {\n",
       "        vertical-align: top;\n",
       "    }\n",
       "\n",
       "    .dataframe thead th {\n",
       "        text-align: right;\n",
       "    }\n",
       "</style>\n",
       "<table border=\"1\" class=\"dataframe\">\n",
       "  <thead>\n",
       "    <tr style=\"text-align: right;\">\n",
       "      <th></th>\n",
       "      <th>country</th>\n",
       "      <th>date</th>\n",
       "      <th>Lat</th>\n",
       "      <th>Long</th>\n",
       "      <th>confirmed</th>\n",
       "      <th>deaths</th>\n",
       "      <th>recoveries</th>\n",
       "      <th>active</th>\n",
       "      <th>new_cases</th>\n",
       "      <th>new_deaths</th>\n",
       "      <th>new_recoveries</th>\n",
       "    </tr>\n",
       "  </thead>\n",
       "  <tbody>\n",
       "    <tr>\n",
       "      <th>151769</th>\n",
       "      <td>Canada</td>\n",
       "      <td>2021-08-25</td>\n",
       "      <td>56.1304</td>\n",
       "      <td>-106.3468</td>\n",
       "      <td>1487197</td>\n",
       "      <td>26919</td>\n",
       "      <td>0</td>\n",
       "      <td>1460278</td>\n",
       "      <td>3537</td>\n",
       "      <td>70</td>\n",
       "      <td>0</td>\n",
       "    </tr>\n",
       "    <tr>\n",
       "      <th>151770</th>\n",
       "      <td>Canada</td>\n",
       "      <td>2021-08-26</td>\n",
       "      <td>56.1304</td>\n",
       "      <td>-106.3468</td>\n",
       "      <td>1490617</td>\n",
       "      <td>26929</td>\n",
       "      <td>0</td>\n",
       "      <td>1463688</td>\n",
       "      <td>3420</td>\n",
       "      <td>10</td>\n",
       "      <td>0</td>\n",
       "    </tr>\n",
       "    <tr>\n",
       "      <th>151771</th>\n",
       "      <td>Canada</td>\n",
       "      <td>2021-08-27</td>\n",
       "      <td>56.1304</td>\n",
       "      <td>-106.3468</td>\n",
       "      <td>1494397</td>\n",
       "      <td>26946</td>\n",
       "      <td>0</td>\n",
       "      <td>1467451</td>\n",
       "      <td>3780</td>\n",
       "      <td>17</td>\n",
       "      <td>0</td>\n",
       "    </tr>\n",
       "    <tr>\n",
       "      <th>151772</th>\n",
       "      <td>Canada</td>\n",
       "      <td>2021-08-28</td>\n",
       "      <td>56.1304</td>\n",
       "      <td>-106.3468</td>\n",
       "      <td>1495859</td>\n",
       "      <td>26953</td>\n",
       "      <td>0</td>\n",
       "      <td>1468906</td>\n",
       "      <td>1462</td>\n",
       "      <td>7</td>\n",
       "      <td>0</td>\n",
       "    </tr>\n",
       "    <tr>\n",
       "      <th>151773</th>\n",
       "      <td>Canada</td>\n",
       "      <td>2021-08-29</td>\n",
       "      <td>56.1304</td>\n",
       "      <td>-106.3468</td>\n",
       "      <td>1497283</td>\n",
       "      <td>26954</td>\n",
       "      <td>0</td>\n",
       "      <td>1470329</td>\n",
       "      <td>1424</td>\n",
       "      <td>1</td>\n",
       "      <td>0</td>\n",
       "    </tr>\n",
       "  </tbody>\n",
       "</table>\n",
       "</div>"
      ],
      "text/plain": [
       "       country        date      Lat      Long  confirmed  deaths  recoveries  \\\n",
       "151769  Canada  2021-08-25  56.1304 -106.3468    1487197   26919           0   \n",
       "151770  Canada  2021-08-26  56.1304 -106.3468    1490617   26929           0   \n",
       "151771  Canada  2021-08-27  56.1304 -106.3468    1494397   26946           0   \n",
       "151772  Canada  2021-08-28  56.1304 -106.3468    1495859   26953           0   \n",
       "151773  Canada  2021-08-29  56.1304 -106.3468    1497283   26954           0   \n",
       "\n",
       "         active  new_cases  new_deaths  new_recoveries  \n",
       "151769  1460278       3537          70               0  \n",
       "151770  1463688       3420          10               0  \n",
       "151771  1467451       3780          17               0  \n",
       "151772  1468906       1462           7               0  \n",
       "151773  1470329       1424           1               0  "
      ]
     },
     "execution_count": 61,
     "metadata": {},
     "output_type": "execute_result"
    }
   ],
   "source": [
    "data3.tail()"
   ]
  },
  {
   "cell_type": "code",
   "execution_count": 62,
   "metadata": {},
   "outputs": [
    {
     "data": {
      "text/plain": [
       "('2020-01-22', '2021-08-29')"
      ]
     },
     "execution_count": 62,
     "metadata": {},
     "output_type": "execute_result"
    }
   ],
   "source": [
    "#to confirm minimum and maximum dates of the data\n",
    "data3.date.min(), data3.date.max()"
   ]
  },
  {
   "cell_type": "code",
   "execution_count": 63,
   "metadata": {},
   "outputs": [],
   "source": [
    "# data['date'].min(), data['date'].max() #another method to find min and max values"
   ]
  },
  {
   "cell_type": "markdown",
   "metadata": {},
   "source": [
    "- I have daily covid data for a year and eight months, starting from 22-jan-20 to 29-aug-21.\n",
    "- Using this historical data, I intend to forecast confirmed cases expected for next 3 months. \n",
    "\n",
    "I will need to do some basic exploration and find out if the given data has any trend or seasonal patterns."
   ]
  },
  {
   "cell_type": "code",
   "execution_count": null,
   "metadata": {},
   "outputs": [],
   "source": []
  },
  {
   "cell_type": "code",
   "execution_count": 64,
   "metadata": {},
   "outputs": [],
   "source": [
    "# Focusing on Ireland, below extracts confirmed cases for Ireland\n",
    "data4 = data3[data3['country'] == 'Ireland']"
   ]
  },
  {
   "cell_type": "code",
   "execution_count": 65,
   "metadata": {},
   "outputs": [
    {
     "data": {
      "text/html": [
       "<div>\n",
       "<style scoped>\n",
       "    .dataframe tbody tr th:only-of-type {\n",
       "        vertical-align: middle;\n",
       "    }\n",
       "\n",
       "    .dataframe tbody tr th {\n",
       "        vertical-align: top;\n",
       "    }\n",
       "\n",
       "    .dataframe thead th {\n",
       "        text-align: right;\n",
       "    }\n",
       "</style>\n",
       "<table border=\"1\" class=\"dataframe\">\n",
       "  <thead>\n",
       "    <tr style=\"text-align: right;\">\n",
       "      <th></th>\n",
       "      <th>country</th>\n",
       "      <th>date</th>\n",
       "      <th>Lat</th>\n",
       "      <th>Long</th>\n",
       "      <th>confirmed</th>\n",
       "      <th>deaths</th>\n",
       "      <th>recoveries</th>\n",
       "      <th>active</th>\n",
       "      <th>new_cases</th>\n",
       "      <th>new_deaths</th>\n",
       "      <th>new_recoveries</th>\n",
       "    </tr>\n",
       "  </thead>\n",
       "  <tbody>\n",
       "    <tr>\n",
       "      <th>133</th>\n",
       "      <td>Ireland</td>\n",
       "      <td>2020-01-22</td>\n",
       "      <td>53.1424</td>\n",
       "      <td>-7.6921</td>\n",
       "      <td>0</td>\n",
       "      <td>0</td>\n",
       "      <td>0</td>\n",
       "      <td>0</td>\n",
       "      <td>0</td>\n",
       "      <td>0</td>\n",
       "      <td>0</td>\n",
       "    </tr>\n",
       "    <tr>\n",
       "      <th>391</th>\n",
       "      <td>Ireland</td>\n",
       "      <td>2020-01-23</td>\n",
       "      <td>53.1424</td>\n",
       "      <td>-7.6921</td>\n",
       "      <td>0</td>\n",
       "      <td>0</td>\n",
       "      <td>0</td>\n",
       "      <td>0</td>\n",
       "      <td>0</td>\n",
       "      <td>0</td>\n",
       "      <td>0</td>\n",
       "    </tr>\n",
       "    <tr>\n",
       "      <th>649</th>\n",
       "      <td>Ireland</td>\n",
       "      <td>2020-01-24</td>\n",
       "      <td>53.1424</td>\n",
       "      <td>-7.6921</td>\n",
       "      <td>0</td>\n",
       "      <td>0</td>\n",
       "      <td>0</td>\n",
       "      <td>0</td>\n",
       "      <td>0</td>\n",
       "      <td>0</td>\n",
       "      <td>0</td>\n",
       "    </tr>\n",
       "    <tr>\n",
       "      <th>907</th>\n",
       "      <td>Ireland</td>\n",
       "      <td>2020-01-25</td>\n",
       "      <td>53.1424</td>\n",
       "      <td>-7.6921</td>\n",
       "      <td>0</td>\n",
       "      <td>0</td>\n",
       "      <td>0</td>\n",
       "      <td>0</td>\n",
       "      <td>0</td>\n",
       "      <td>0</td>\n",
       "      <td>0</td>\n",
       "    </tr>\n",
       "    <tr>\n",
       "      <th>1165</th>\n",
       "      <td>Ireland</td>\n",
       "      <td>2020-01-26</td>\n",
       "      <td>53.1424</td>\n",
       "      <td>-7.6921</td>\n",
       "      <td>0</td>\n",
       "      <td>0</td>\n",
       "      <td>0</td>\n",
       "      <td>0</td>\n",
       "      <td>0</td>\n",
       "      <td>0</td>\n",
       "      <td>0</td>\n",
       "    </tr>\n",
       "  </tbody>\n",
       "</table>\n",
       "</div>"
      ],
      "text/plain": [
       "      country        date      Lat    Long  confirmed  deaths  recoveries  \\\n",
       "133   Ireland  2020-01-22  53.1424 -7.6921          0       0           0   \n",
       "391   Ireland  2020-01-23  53.1424 -7.6921          0       0           0   \n",
       "649   Ireland  2020-01-24  53.1424 -7.6921          0       0           0   \n",
       "907   Ireland  2020-01-25  53.1424 -7.6921          0       0           0   \n",
       "1165  Ireland  2020-01-26  53.1424 -7.6921          0       0           0   \n",
       "\n",
       "      active  new_cases  new_deaths  new_recoveries  \n",
       "133        0          0           0               0  \n",
       "391        0          0           0               0  \n",
       "649        0          0           0               0  \n",
       "907        0          0           0               0  \n",
       "1165       0          0           0               0  "
      ]
     },
     "execution_count": 65,
     "metadata": {},
     "output_type": "execute_result"
    }
   ],
   "source": [
    "data4.head()"
   ]
  },
  {
   "cell_type": "code",
   "execution_count": 66,
   "metadata": {},
   "outputs": [
    {
     "data": {
      "text/html": [
       "<div>\n",
       "<style scoped>\n",
       "    .dataframe tbody tr th:only-of-type {\n",
       "        vertical-align: middle;\n",
       "    }\n",
       "\n",
       "    .dataframe tbody tr th {\n",
       "        vertical-align: top;\n",
       "    }\n",
       "\n",
       "    .dataframe thead th {\n",
       "        text-align: right;\n",
       "    }\n",
       "</style>\n",
       "<table border=\"1\" class=\"dataframe\">\n",
       "  <thead>\n",
       "    <tr style=\"text-align: right;\">\n",
       "      <th></th>\n",
       "      <th>country</th>\n",
       "      <th>date</th>\n",
       "      <th>Lat</th>\n",
       "      <th>Long</th>\n",
       "      <th>confirmed</th>\n",
       "      <th>deaths</th>\n",
       "      <th>recoveries</th>\n",
       "      <th>active</th>\n",
       "      <th>new_cases</th>\n",
       "      <th>new_deaths</th>\n",
       "      <th>new_recoveries</th>\n",
       "    </tr>\n",
       "  </thead>\n",
       "  <tbody>\n",
       "    <tr>\n",
       "      <th>150031</th>\n",
       "      <td>Ireland</td>\n",
       "      <td>2021-08-25</td>\n",
       "      <td>53.1424</td>\n",
       "      <td>-7.6921</td>\n",
       "      <td>342329</td>\n",
       "      <td>5092</td>\n",
       "      <td>0</td>\n",
       "      <td>337237</td>\n",
       "      <td>2051</td>\n",
       "      <td>18</td>\n",
       "      <td>0</td>\n",
       "    </tr>\n",
       "    <tr>\n",
       "      <th>150289</th>\n",
       "      <td>Ireland</td>\n",
       "      <td>2021-08-26</td>\n",
       "      <td>53.1424</td>\n",
       "      <td>-7.6921</td>\n",
       "      <td>344195</td>\n",
       "      <td>5092</td>\n",
       "      <td>0</td>\n",
       "      <td>339103</td>\n",
       "      <td>1866</td>\n",
       "      <td>0</td>\n",
       "      <td>0</td>\n",
       "    </tr>\n",
       "    <tr>\n",
       "      <th>150547</th>\n",
       "      <td>Ireland</td>\n",
       "      <td>2021-08-27</td>\n",
       "      <td>53.1424</td>\n",
       "      <td>-7.6921</td>\n",
       "      <td>346070</td>\n",
       "      <td>5092</td>\n",
       "      <td>0</td>\n",
       "      <td>340978</td>\n",
       "      <td>1875</td>\n",
       "      <td>0</td>\n",
       "      <td>0</td>\n",
       "    </tr>\n",
       "    <tr>\n",
       "      <th>150805</th>\n",
       "      <td>Ireland</td>\n",
       "      <td>2021-08-28</td>\n",
       "      <td>53.1424</td>\n",
       "      <td>-7.6921</td>\n",
       "      <td>348067</td>\n",
       "      <td>5092</td>\n",
       "      <td>0</td>\n",
       "      <td>342975</td>\n",
       "      <td>1997</td>\n",
       "      <td>0</td>\n",
       "      <td>0</td>\n",
       "    </tr>\n",
       "    <tr>\n",
       "      <th>151063</th>\n",
       "      <td>Ireland</td>\n",
       "      <td>2021-08-29</td>\n",
       "      <td>53.1424</td>\n",
       "      <td>-7.6921</td>\n",
       "      <td>349773</td>\n",
       "      <td>5092</td>\n",
       "      <td>0</td>\n",
       "      <td>344681</td>\n",
       "      <td>1706</td>\n",
       "      <td>0</td>\n",
       "      <td>0</td>\n",
       "    </tr>\n",
       "  </tbody>\n",
       "</table>\n",
       "</div>"
      ],
      "text/plain": [
       "        country        date      Lat    Long  confirmed  deaths  recoveries  \\\n",
       "150031  Ireland  2021-08-25  53.1424 -7.6921     342329    5092           0   \n",
       "150289  Ireland  2021-08-26  53.1424 -7.6921     344195    5092           0   \n",
       "150547  Ireland  2021-08-27  53.1424 -7.6921     346070    5092           0   \n",
       "150805  Ireland  2021-08-28  53.1424 -7.6921     348067    5092           0   \n",
       "151063  Ireland  2021-08-29  53.1424 -7.6921     349773    5092           0   \n",
       "\n",
       "        active  new_cases  new_deaths  new_recoveries  \n",
       "150031  337237       2051          18               0  \n",
       "150289  339103       1866           0               0  \n",
       "150547  340978       1875           0               0  \n",
       "150805  342975       1997           0               0  \n",
       "151063  344681       1706           0               0  "
      ]
     },
     "execution_count": 66,
     "metadata": {},
     "output_type": "execute_result"
    }
   ],
   "source": [
    "data4.tail()"
   ]
  },
  {
   "cell_type": "code",
   "execution_count": 67,
   "metadata": {},
   "outputs": [
    {
     "data": {
      "text/plain": [
       "(586, 11)"
      ]
     },
     "execution_count": 67,
     "metadata": {},
     "output_type": "execute_result"
    }
   ],
   "source": [
    "data4.shape"
   ]
  },
  {
   "cell_type": "code",
   "execution_count": 68,
   "metadata": {},
   "outputs": [],
   "source": [
    "# # Extract confirmed cases for Ireland by date\n",
    "# data2 = data[data['country'] == 'Ireland'].groupby('date').sum()[['confirmed']]"
   ]
  },
  {
   "cell_type": "code",
   "execution_count": 69,
   "metadata": {},
   "outputs": [],
   "source": [
    "# Extract confirmed cases for Ireland by date\n",
    "data5=data4.groupby('date').sum()[['confirmed']]"
   ]
  },
  {
   "cell_type": "code",
   "execution_count": 70,
   "metadata": {},
   "outputs": [
    {
     "data": {
      "text/html": [
       "<div>\n",
       "<style scoped>\n",
       "    .dataframe tbody tr th:only-of-type {\n",
       "        vertical-align: middle;\n",
       "    }\n",
       "\n",
       "    .dataframe tbody tr th {\n",
       "        vertical-align: top;\n",
       "    }\n",
       "\n",
       "    .dataframe thead th {\n",
       "        text-align: right;\n",
       "    }\n",
       "</style>\n",
       "<table border=\"1\" class=\"dataframe\">\n",
       "  <thead>\n",
       "    <tr style=\"text-align: right;\">\n",
       "      <th></th>\n",
       "      <th>confirmed</th>\n",
       "    </tr>\n",
       "    <tr>\n",
       "      <th>date</th>\n",
       "      <th></th>\n",
       "    </tr>\n",
       "  </thead>\n",
       "  <tbody>\n",
       "    <tr>\n",
       "      <th>2020-01-22</th>\n",
       "      <td>0</td>\n",
       "    </tr>\n",
       "    <tr>\n",
       "      <th>2020-01-23</th>\n",
       "      <td>0</td>\n",
       "    </tr>\n",
       "    <tr>\n",
       "      <th>2020-01-24</th>\n",
       "      <td>0</td>\n",
       "    </tr>\n",
       "    <tr>\n",
       "      <th>2020-01-25</th>\n",
       "      <td>0</td>\n",
       "    </tr>\n",
       "    <tr>\n",
       "      <th>2020-01-26</th>\n",
       "      <td>0</td>\n",
       "    </tr>\n",
       "  </tbody>\n",
       "</table>\n",
       "</div>"
      ],
      "text/plain": [
       "            confirmed\n",
       "date                 \n",
       "2020-01-22          0\n",
       "2020-01-23          0\n",
       "2020-01-24          0\n",
       "2020-01-25          0\n",
       "2020-01-26          0"
      ]
     },
     "execution_count": 70,
     "metadata": {},
     "output_type": "execute_result"
    }
   ],
   "source": [
    "data5.head()"
   ]
  },
  {
   "cell_type": "code",
   "execution_count": 71,
   "metadata": {},
   "outputs": [
    {
     "data": {
      "text/plain": [
       "(586, 1)"
      ]
     },
     "execution_count": 71,
     "metadata": {},
     "output_type": "execute_result"
    }
   ],
   "source": [
    "data5.shape"
   ]
  },
  {
   "cell_type": "code",
   "execution_count": 72,
   "metadata": {},
   "outputs": [
    {
     "data": {
      "text/plain": [
       "confirmed    int64\n",
       "dtype: object"
      ]
     },
     "execution_count": 72,
     "metadata": {},
     "output_type": "execute_result"
    }
   ],
   "source": [
    "data5.dtypes"
   ]
  },
  {
   "cell_type": "code",
   "execution_count": 73,
   "metadata": {},
   "outputs": [],
   "source": [
    "data5=data5.reset_index()"
   ]
  },
  {
   "cell_type": "code",
   "execution_count": 74,
   "metadata": {},
   "outputs": [],
   "source": [
    "data5['date'] = pd.to_datetime(data5['date'])#to change date column to datetime format as it is of type object"
   ]
  },
  {
   "cell_type": "code",
   "execution_count": 75,
   "metadata": {},
   "outputs": [],
   "source": [
    "data5.index = data5['date']"
   ]
  },
  {
   "cell_type": "markdown",
   "metadata": {},
   "source": [
    "### Plotting Time Series"
   ]
  },
  {
   "cell_type": "code",
   "execution_count": 76,
   "metadata": {},
   "outputs": [
    {
     "data": {
      "image/png": "[encoded data removed]",
      "text/plain": [
       "<Figure size 864x576 with 1 Axes>"
      ]
     },
     "metadata": {
      "needs_background": "light"
     },
     "output_type": "display_data"
    }
   ],
   "source": [
    "plt.figure(figsize=(12,8))\n",
    "\n",
    "plt.plot(data5.index , data5['confirmed'], label='Train')\n",
    "plt.legend(loc='best')\n",
    "plt.show()"
   ]
  },
  {
   "cell_type": "markdown",
   "metadata": {},
   "source": [
    "- Clearly this data has upward trend. \n",
    "- Let us find out if there are outliers"
   ]
  },
  {
   "cell_type": "markdown",
   "metadata": {},
   "source": [
    "### Checking for Outliers in the Data"
   ]
  },
  {
   "cell_type": "code",
   "execution_count": 77,
   "metadata": {},
   "outputs": [
    {
     "data": {
      "text/plain": [
       "count       586.000000\n",
       "mean     119105.740614\n",
       "std      112330.197741\n",
       "min           0.000000\n",
       "25%       25335.750000\n",
       "50%       65774.000000\n",
       "75%      238386.500000\n",
       "max      349773.000000\n",
       "Name: confirmed, dtype: float64"
      ]
     },
     "execution_count": 77,
     "metadata": {},
     "output_type": "execute_result"
    }
   ],
   "source": [
    "data5['confirmed'].describe()"
   ]
  },
  {
   "cell_type": "code",
   "execution_count": 78,
   "metadata": {},
   "outputs": [
    {
     "name": "stdout",
     "output_type": "stream",
     "text": [
      "Value at 25th percentile: 25335.75\n",
      "Value at 50th percentile: 65774.0\n",
      "Value at 75th percentile: 238386.5\n",
      "Value at 95th percentile: 300619.25\n",
      "Value at 97th percentile: 317983.84999999986\n",
      "Value at 99th percentile: 338942.64999999997\n"
     ]
    }
   ],
   "source": [
    "print('Value at 25th percentile:', (np.percentile(data5['confirmed'], 25)))\n",
    "print('Value at 50th percentile:', (np.percentile(data5['confirmed'], 50)))\n",
    "print('Value at 75th percentile:', (np.percentile(data5['confirmed'], 75)))\n",
    "print('Value at 95th percentile:', (np.percentile(data5['confirmed'], 95)))\n",
    "print('Value at 97th percentile:', (np.percentile(data5['confirmed'], 97)))\n",
    "print('Value at 99th percentile:', (np.percentile(data5['confirmed'], 99)))"
   ]
  },
  {
   "cell_type": "code",
   "execution_count": 79,
   "metadata": {},
   "outputs": [
    {
     "data": {
      "text/plain": [
       "<AxesSubplot:xlabel='confirmed'>"
      ]
     },
     "execution_count": 79,
     "metadata": {},
     "output_type": "execute_result"
    },
    {
     "data": {
      "image/png": "[encoded data removed]",
      "text/plain": [
       "<Figure size 432x288 with 1 Axes>"
      ]
     },
     "metadata": {
      "needs_background": "light"
     },
     "output_type": "display_data"
    }
   ],
   "source": [
    "#no datapoint is observed to lie outside the box\n",
    "sns.boxplot(data5['confirmed'])"
   ]
  },
  {
   "cell_type": "code",
   "execution_count": 80,
   "metadata": {},
   "outputs": [
    {
     "data": {
      "text/plain": [
       "557962.625"
      ]
     },
     "execution_count": 80,
     "metadata": {},
     "output_type": "execute_result"
    }
   ],
   "source": [
    "#calculating whisker value\n",
    "IQR = (np.percentile(data5['confirmed'], 75)) - (np.percentile(data5['confirmed'], 25))\n",
    "whisker_val = (np.percentile(data5['confirmed'], 75)) + (1.5*(IQR))\n",
    "whisker_val"
   ]
  },
  {
   "cell_type": "code",
   "execution_count": 81,
   "metadata": {},
   "outputs": [
    {
     "data": {
      "text/plain": [
       "(0, 2)"
      ]
     },
     "execution_count": 81,
     "metadata": {},
     "output_type": "execute_result"
    }
   ],
   "source": [
    "# number of values greater than whisker value is observed to be none\n",
    "data5.loc[data5['confirmed']>whisker_val].shape"
   ]
  },
  {
   "cell_type": "markdown",
   "metadata": {},
   "source": [
    "<!-- - We can use either the 95th percentile value or whisker value to select outliers -->\n",
    "- There are no points greater than the whisker value\n",
    "- These series of checks have confirmed no outlier in the data\n",
    "<!-- - Replace the outliers with bfill or ffill -->"
   ]
  },
  {
   "cell_type": "markdown",
   "metadata": {},
   "source": [
    "### Checking for missing Date Values in Data"
   ]
  },
  {
   "cell_type": "code",
   "execution_count": 82,
   "metadata": {},
   "outputs": [
    {
     "data": {
      "text/plain": [
       "(Timestamp('2020-01-22 00:00:00'), Timestamp('2021-08-29 00:00:00'))"
      ]
     },
     "execution_count": 82,
     "metadata": {},
     "output_type": "execute_result"
    }
   ],
   "source": [
    "data5['date'].min(), data5['date'].max()"
   ]
  },
  {
   "cell_type": "code",
   "execution_count": 83,
   "metadata": {},
   "outputs": [
    {
     "name": "stdout",
     "output_type": "stream",
     "text": [
      "Total days between 22-jan-20 to 28-Aug-29: 585\n",
      "Number of rows present in the data are: 586\n"
     ]
    }
   ],
   "source": [
    "print('Total days between 22-jan-20 to 28-Aug-29:', (data5['date'].max() - data5['date'].min()).days)\n",
    "print('Number of rows present in the data are:', data5.shape[0])"
   ]
  },
  {
   "cell_type": "code",
   "execution_count": 84,
   "metadata": {},
   "outputs": [
    {
     "data": {
      "text/plain": [
       "78.0"
      ]
     },
     "execution_count": 84,
     "metadata": {},
     "output_type": "execute_result"
    }
   ],
   "source": [
    "546/7 #number of weeks in the data is 78"
   ]
  },
  {
   "cell_type": "code",
   "execution_count": 85,
   "metadata": {},
   "outputs": [
    {
     "data": {
      "text/plain": [
       "DatetimeIndex(['2020-01-22', '2020-01-23', '2020-01-24', '2020-01-25',\n",
       "               '2020-01-26', '2020-01-27', '2020-01-28', '2020-01-29',\n",
       "               '2020-01-30', '2020-01-31',\n",
       "               ...\n",
       "               '2021-08-20', '2021-08-21', '2021-08-22', '2021-08-23',\n",
       "               '2021-08-24', '2021-08-25', '2021-08-26', '2021-08-27',\n",
       "               '2021-08-28', '2021-08-29'],\n",
       "              dtype='datetime64[ns]', length=586, freq='D')"
      ]
     },
     "execution_count": 85,
     "metadata": {},
     "output_type": "execute_result"
    }
   ],
   "source": [
    "pd.date_range(start = '2020-01-22', end = '2021-08-29' )#.difference(data2.index)# list dates bw a range of dates"
   ]
  },
  {
   "cell_type": "code",
   "execution_count": 86,
   "metadata": {},
   "outputs": [
    {
     "data": {
      "text/plain": [
       "DatetimeIndex([], dtype='datetime64[ns]', freq=None)"
      ]
     },
     "execution_count": 86,
     "metadata": {},
     "output_type": "execute_result"
    }
   ],
   "source": [
    "pd.date_range(start = '2020-01-22', end = '2021-08-29' ).difference(data5.date) #checking for dates missing bw the range"
   ]
  },
  {
   "cell_type": "code",
   "execution_count": 88,
   "metadata": {},
   "outputs": [],
   "source": [
    "start_date = '2020-01-22'\n",
    "end_date = '2021-08-29'"
   ]
  },
  {
   "cell_type": "code",
   "execution_count": 89,
   "metadata": {},
   "outputs": [],
   "source": [
    "missing_dates = pd.DataFrame(data = pd.date_range(start = start_date, end = end_date).difference(data5.index), \n",
    "                             columns= ['date']) #to find missing dates within a range and place in a dataframe"
   ]
  },
  {
   "cell_type": "code",
   "execution_count": 90,
   "metadata": {},
   "outputs": [
    {
     "data": {
      "text/html": [
       "<div>\n",
       "<style scoped>\n",
       "    .dataframe tbody tr th:only-of-type {\n",
       "        vertical-align: middle;\n",
       "    }\n",
       "\n",
       "    .dataframe tbody tr th {\n",
       "        vertical-align: top;\n",
       "    }\n",
       "\n",
       "    .dataframe thead th {\n",
       "        text-align: right;\n",
       "    }\n",
       "</style>\n",
       "<table border=\"1\" class=\"dataframe\">\n",
       "  <thead>\n",
       "    <tr style=\"text-align: right;\">\n",
       "      <th></th>\n",
       "      <th>date</th>\n",
       "    </tr>\n",
       "  </thead>\n",
       "  <tbody>\n",
       "  </tbody>\n",
       "</table>\n",
       "</div>"
      ],
      "text/plain": [
       "Empty DataFrame\n",
       "Columns: [date]\n",
       "Index: []"
      ]
     },
     "execution_count": 90,
     "metadata": {},
     "output_type": "execute_result"
    }
   ],
   "source": [
    "missing_dates.head() #no date found missing"
   ]
  },
  {
   "cell_type": "code",
   "execution_count": 91,
   "metadata": {},
   "outputs": [],
   "source": [
    "# meant to add missing dates to the data if any\n",
    "idx = pd.date_range('2020-01-22', '2021-08-29')\n",
    "data5 = data5.reindex(idx)"
   ]
  },
  {
   "cell_type": "code",
   "execution_count": 92,
   "metadata": {},
   "outputs": [
    {
     "data": {
      "text/html": [
       "<div>\n",
       "<style scoped>\n",
       "    .dataframe tbody tr th:only-of-type {\n",
       "        vertical-align: middle;\n",
       "    }\n",
       "\n",
       "    .dataframe tbody tr th {\n",
       "        vertical-align: top;\n",
       "    }\n",
       "\n",
       "    .dataframe thead th {\n",
       "        text-align: right;\n",
       "    }\n",
       "</style>\n",
       "<table border=\"1\" class=\"dataframe\">\n",
       "  <thead>\n",
       "    <tr style=\"text-align: right;\">\n",
       "      <th></th>\n",
       "      <th>date</th>\n",
       "      <th>confirmed</th>\n",
       "    </tr>\n",
       "  </thead>\n",
       "  <tbody>\n",
       "    <tr>\n",
       "      <th>2021-08-28</th>\n",
       "      <td>2021-08-28</td>\n",
       "      <td>348067</td>\n",
       "    </tr>\n",
       "    <tr>\n",
       "      <th>2021-08-29</th>\n",
       "      <td>2021-08-29</td>\n",
       "      <td>349773</td>\n",
       "    </tr>\n",
       "  </tbody>\n",
       "</table>\n",
       "</div>"
      ],
      "text/plain": [
       "                 date  confirmed\n",
       "2021-08-28 2021-08-28     348067\n",
       "2021-08-29 2021-08-29     349773"
      ]
     },
     "execution_count": 92,
     "metadata": {},
     "output_type": "execute_result"
    }
   ],
   "source": [
    "data5.tail(2)"
   ]
  },
  {
   "cell_type": "code",
   "execution_count": 93,
   "metadata": {},
   "outputs": [
    {
     "data": {
      "text/plain": [
       "(586, 3)"
      ]
     },
     "execution_count": 93,
     "metadata": {},
     "output_type": "execute_result"
    }
   ],
   "source": [
    "# extract weekday from the dates\n",
    "data5['date'] = data5.index\n",
    "data5['weekday_name'] = data5['date'].dt.strftime(\"%A\")\n",
    "data5.shape"
   ]
  },
  {
   "cell_type": "code",
   "execution_count": 94,
   "metadata": {},
   "outputs": [
    {
     "data": {
      "text/html": [
       "<div>\n",
       "<style scoped>\n",
       "    .dataframe tbody tr th:only-of-type {\n",
       "        vertical-align: middle;\n",
       "    }\n",
       "\n",
       "    .dataframe tbody tr th {\n",
       "        vertical-align: top;\n",
       "    }\n",
       "\n",
       "    .dataframe thead th {\n",
       "        text-align: right;\n",
       "    }\n",
       "</style>\n",
       "<table border=\"1\" class=\"dataframe\">\n",
       "  <thead>\n",
       "    <tr style=\"text-align: right;\">\n",
       "      <th></th>\n",
       "      <th>date</th>\n",
       "      <th>confirmed</th>\n",
       "      <th>weekday_name</th>\n",
       "    </tr>\n",
       "  </thead>\n",
       "  <tbody>\n",
       "    <tr>\n",
       "      <th>2021-08-28</th>\n",
       "      <td>2021-08-28</td>\n",
       "      <td>348067</td>\n",
       "      <td>Saturday</td>\n",
       "    </tr>\n",
       "    <tr>\n",
       "      <th>2021-08-29</th>\n",
       "      <td>2021-08-29</td>\n",
       "      <td>349773</td>\n",
       "      <td>Sunday</td>\n",
       "    </tr>\n",
       "  </tbody>\n",
       "</table>\n",
       "</div>"
      ],
      "text/plain": [
       "                 date  confirmed weekday_name\n",
       "2021-08-28 2021-08-28     348067     Saturday\n",
       "2021-08-29 2021-08-29     349773       Sunday"
      ]
     },
     "execution_count": 94,
     "metadata": {},
     "output_type": "execute_result"
    }
   ],
   "source": [
    "data5.tail(2)"
   ]
  },
  {
   "cell_type": "code",
   "execution_count": null,
   "metadata": {},
   "outputs": [],
   "source": []
  },
  {
   "cell_type": "markdown",
   "metadata": {},
   "source": [
    "# Structure of the Notebook\n",
    "\n",
    "1. Problem Statement\n",
    "2. Data Loading and Preprocessing\n",
    "3. Feature extraction and exploration\n",
    "4. Data Split into Training, Validation and Test data\n",
    "5. Time Series Forecasting models\n",
    "6. Machine Learning models"
   ]
  },
  {
   "cell_type": "markdown",
   "metadata": {},
   "source": [
    "# 3. Feature Extraction and Exploration"
   ]
  },
  {
   "cell_type": "markdown",
   "metadata": {},
   "source": [
    "### Decompose Series"
   ]
  },
  {
   "cell_type": "code",
   "execution_count": 95,
   "metadata": {},
   "outputs": [
    {
     "data": {
      "text/plain": [
       "DatetimeIndex(['2020-01-22', '2020-01-23', '2020-01-24', '2020-01-25',\n",
       "               '2020-01-26', '2020-01-27', '2020-01-28', '2020-01-29',\n",
       "               '2020-01-30', '2020-01-31',\n",
       "               ...\n",
       "               '2021-08-20', '2021-08-21', '2021-08-22', '2021-08-23',\n",
       "               '2021-08-24', '2021-08-25', '2021-08-26', '2021-08-27',\n",
       "               '2021-08-28', '2021-08-29'],\n",
       "              dtype='datetime64[ns]', length=586, freq='D')"
      ]
     },
     "execution_count": 95,
     "metadata": {},
     "output_type": "execute_result"
    }
   ],
   "source": [
    "data5.index"
   ]
  },
  {
   "cell_type": "code",
   "execution_count": 96,
   "metadata": {},
   "outputs": [
    {
     "data": {
      "text/plain": [
       "<AxesSubplot:>"
      ]
     },
     "execution_count": 96,
     "metadata": {},
     "output_type": "execute_result"
    },
    {
     "data": {
      "image/png": "[encoded data removed]",
      "text/plain": [
       "<Figure size 720x504 with 1 Axes>"
      ]
     },
     "metadata": {
      "needs_background": "light"
     },
     "output_type": "display_data"
    }
   ],
   "source": [
    "#viz\n",
    "data5['confirmed'].plot(figsize=(10,7), legend=True)"
   ]
  },
  {
   "cell_type": "markdown",
   "metadata": {},
   "source": [
    "- Based on the plot we consider this time series as additive in nature as the series shows increasing trend\n",
    "- They are two forms of time series, additive and multiplicative\n",
    "\n",
    "\n",
    "Multiplicative:\n",
    "- Multiplicative series shows significant difference in amplitutude of peaks and troughs (i.e spikes and dips)\n",
    "- Here the Trend is multiplied with the Seasonal variation i.e Trend * Seasonality * Residual\n",
    "\n",
    "Additive:\n",
    "- The spikes and dips in the series have almost equal size peaks and troughs\n",
    "- In additive series the components of the series are added i.e Trend + Seasonality + Residuals"
   ]
  },
  {
   "cell_type": "code",
   "execution_count": null,
   "metadata": {},
   "outputs": [],
   "source": []
  },
  {
   "cell_type": "code",
   "execution_count": 97,
   "metadata": {},
   "outputs": [],
   "source": [
    "#library\n",
    "from statsmodels.tsa.seasonal import seasonal_decompose"
   ]
  },
  {
   "cell_type": "code",
   "execution_count": 98,
   "metadata": {},
   "outputs": [],
   "source": [
    "#decomposition\n",
    "decomposed_series = seasonal_decompose(data5['confirmed'])"
   ]
  },
  {
   "cell_type": "code",
   "execution_count": 99,
   "metadata": {},
   "outputs": [
    {
     "data": {
      "image/png": "[encoded data removed]",
      "text/plain": [
       "<Figure size 432x288 with 4 Axes>"
      ]
     },
     "metadata": {
      "needs_background": "light"
     },
     "output_type": "display_data"
    }
   ],
   "source": [
    "decomposed_series.plot(); #colon ; is to prevent two graphs from displaying\n",
    "plt.show()"
   ]
  },
  {
   "cell_type": "code",
   "execution_count": 100,
   "metadata": {},
   "outputs": [
    {
     "data": {
      "text/plain": [
       "<AxesSubplot:>"
      ]
     },
     "execution_count": 100,
     "metadata": {},
     "output_type": "execute_result"
    },
    {
     "data": {
      "image/png": "[encoded data removed]",
      "text/plain": [
       "<Figure size 432x288 with 1 Axes>"
      ]
     },
     "metadata": {
      "needs_background": "light"
     },
     "output_type": "display_data"
    }
   ],
   "source": [
    "# considering 30 days a month \n",
    "#this is the seasonal component for 30days or 1 month\n",
    "#a repeating pattern is observed, and it is repeating 4 times in a month\n",
    "#so it can be concluded that this is a weekly seasonality in the data\n",
    "\n",
    "decomposed_series.seasonal[0:30].plot() #i.e plotting the first 30 datapoints"
   ]
  },
  {
   "cell_type": "markdown",
   "metadata": {},
   "source": [
    "- Plot above shows pattern repeating 4 times in a month\n",
    "- This suggests weekly seasonality in the data"
   ]
  },
  {
   "cell_type": "code",
   "execution_count": 101,
   "metadata": {},
   "outputs": [
    {
     "data": {
      "text/html": [
       "<div>\n",
       "<style scoped>\n",
       "    .dataframe tbody tr th:only-of-type {\n",
       "        vertical-align: middle;\n",
       "    }\n",
       "\n",
       "    .dataframe tbody tr th {\n",
       "        vertical-align: top;\n",
       "    }\n",
       "\n",
       "    .dataframe thead th {\n",
       "        text-align: right;\n",
       "    }\n",
       "</style>\n",
       "<table border=\"1\" class=\"dataframe\">\n",
       "  <thead>\n",
       "    <tr style=\"text-align: right;\">\n",
       "      <th></th>\n",
       "      <th>date</th>\n",
       "      <th>confirmed</th>\n",
       "      <th>weekday_name</th>\n",
       "    </tr>\n",
       "  </thead>\n",
       "  <tbody>\n",
       "    <tr>\n",
       "      <th>2020-01-22</th>\n",
       "      <td>2020-01-22</td>\n",
       "      <td>0</td>\n",
       "      <td>Wednesday</td>\n",
       "    </tr>\n",
       "    <tr>\n",
       "      <th>2020-01-23</th>\n",
       "      <td>2020-01-23</td>\n",
       "      <td>0</td>\n",
       "      <td>Thursday</td>\n",
       "    </tr>\n",
       "  </tbody>\n",
       "</table>\n",
       "</div>"
      ],
      "text/plain": [
       "                 date  confirmed weekday_name\n",
       "2020-01-22 2020-01-22          0    Wednesday\n",
       "2020-01-23 2020-01-23          0     Thursday"
      ]
     },
     "execution_count": 101,
     "metadata": {},
     "output_type": "execute_result"
    }
   ],
   "source": [
    "data5.head(2)"
   ]
  },
  {
   "cell_type": "code",
   "execution_count": 102,
   "metadata": {},
   "outputs": [],
   "source": [
    "data_feat = pd.DataFrame({\"year\": data5['date'].dt.year,\n",
    "                          \"month\": data5['date'].dt.month,\n",
    "                          \"day\": data5['date'].dt.day,\n",
    "                          \"weekday\": data5['date'].dt.dayofweek,\n",
    "                          \"weekday_name\":data5['date'].dt.strftime(\"%A\"),\n",
    "                          \"dayofyear\": data5['date'].dt.dayofyear,\n",
    "                          \"week\": data5['date'].dt.week,\n",
    "                          \"quarter\": data5['date'].dt.quarter,\n",
    "                         })"
   ]
  },
  {
   "cell_type": "code",
   "execution_count": 103,
   "metadata": {},
   "outputs": [
    {
     "data": {
      "text/html": [
       "<div>\n",
       "<style scoped>\n",
       "    .dataframe tbody tr th:only-of-type {\n",
       "        vertical-align: middle;\n",
       "    }\n",
       "\n",
       "    .dataframe tbody tr th {\n",
       "        vertical-align: top;\n",
       "    }\n",
       "\n",
       "    .dataframe thead th {\n",
       "        text-align: right;\n",
       "    }\n",
       "</style>\n",
       "<table border=\"1\" class=\"dataframe\">\n",
       "  <thead>\n",
       "    <tr style=\"text-align: right;\">\n",
       "      <th></th>\n",
       "      <th>year</th>\n",
       "      <th>month</th>\n",
       "      <th>day</th>\n",
       "      <th>weekday</th>\n",
       "      <th>weekday_name</th>\n",
       "      <th>dayofyear</th>\n",
       "      <th>week</th>\n",
       "      <th>quarter</th>\n",
       "    </tr>\n",
       "  </thead>\n",
       "  <tbody>\n",
       "    <tr>\n",
       "      <th>2020-01-22</th>\n",
       "      <td>2020</td>\n",
       "      <td>1</td>\n",
       "      <td>22</td>\n",
       "      <td>2</td>\n",
       "      <td>Wednesday</td>\n",
       "      <td>22</td>\n",
       "      <td>4</td>\n",
       "      <td>1</td>\n",
       "    </tr>\n",
       "    <tr>\n",
       "      <th>2020-01-23</th>\n",
       "      <td>2020</td>\n",
       "      <td>1</td>\n",
       "      <td>23</td>\n",
       "      <td>3</td>\n",
       "      <td>Thursday</td>\n",
       "      <td>23</td>\n",
       "      <td>4</td>\n",
       "      <td>1</td>\n",
       "    </tr>\n",
       "  </tbody>\n",
       "</table>\n",
       "</div>"
      ],
      "text/plain": [
       "            year  month  day  weekday weekday_name  dayofyear  week  quarter\n",
       "2020-01-22  2020      1   22        2    Wednesday         22     4        1\n",
       "2020-01-23  2020      1   23        3     Thursday         23     4        1"
      ]
     },
     "execution_count": 103,
     "metadata": {},
     "output_type": "execute_result"
    }
   ],
   "source": [
    "data_feat.head(2)"
   ]
  },
  {
   "cell_type": "code",
   "execution_count": 104,
   "metadata": {},
   "outputs": [
    {
     "data": {
      "text/html": [
       "<div>\n",
       "<style scoped>\n",
       "    .dataframe tbody tr th:only-of-type {\n",
       "        vertical-align: middle;\n",
       "    }\n",
       "\n",
       "    .dataframe tbody tr th {\n",
       "        vertical-align: top;\n",
       "    }\n",
       "\n",
       "    .dataframe thead th {\n",
       "        text-align: right;\n",
       "    }\n",
       "</style>\n",
       "<table border=\"1\" class=\"dataframe\">\n",
       "  <thead>\n",
       "    <tr style=\"text-align: right;\">\n",
       "      <th></th>\n",
       "      <th>year</th>\n",
       "      <th>month</th>\n",
       "      <th>day</th>\n",
       "      <th>weekday</th>\n",
       "      <th>weekday_name</th>\n",
       "      <th>dayofyear</th>\n",
       "      <th>week</th>\n",
       "      <th>quarter</th>\n",
       "      <th>date</th>\n",
       "      <th>confirmed</th>\n",
       "    </tr>\n",
       "  </thead>\n",
       "  <tbody>\n",
       "    <tr>\n",
       "      <th>2020-01-22</th>\n",
       "      <td>2020</td>\n",
       "      <td>1</td>\n",
       "      <td>22</td>\n",
       "      <td>2</td>\n",
       "      <td>Wednesday</td>\n",
       "      <td>22</td>\n",
       "      <td>4</td>\n",
       "      <td>1</td>\n",
       "      <td>2020-01-22</td>\n",
       "      <td>0</td>\n",
       "    </tr>\n",
       "    <tr>\n",
       "      <th>2020-01-23</th>\n",
       "      <td>2020</td>\n",
       "      <td>1</td>\n",
       "      <td>23</td>\n",
       "      <td>3</td>\n",
       "      <td>Thursday</td>\n",
       "      <td>23</td>\n",
       "      <td>4</td>\n",
       "      <td>1</td>\n",
       "      <td>2020-01-23</td>\n",
       "      <td>0</td>\n",
       "    </tr>\n",
       "    <tr>\n",
       "      <th>2020-01-24</th>\n",
       "      <td>2020</td>\n",
       "      <td>1</td>\n",
       "      <td>24</td>\n",
       "      <td>4</td>\n",
       "      <td>Friday</td>\n",
       "      <td>24</td>\n",
       "      <td>4</td>\n",
       "      <td>1</td>\n",
       "      <td>2020-01-24</td>\n",
       "      <td>0</td>\n",
       "    </tr>\n",
       "    <tr>\n",
       "      <th>2020-01-25</th>\n",
       "      <td>2020</td>\n",
       "      <td>1</td>\n",
       "      <td>25</td>\n",
       "      <td>5</td>\n",
       "      <td>Saturday</td>\n",
       "      <td>25</td>\n",
       "      <td>4</td>\n",
       "      <td>1</td>\n",
       "      <td>2020-01-25</td>\n",
       "      <td>0</td>\n",
       "    </tr>\n",
       "    <tr>\n",
       "      <th>2020-01-26</th>\n",
       "      <td>2020</td>\n",
       "      <td>1</td>\n",
       "      <td>26</td>\n",
       "      <td>6</td>\n",
       "      <td>Sunday</td>\n",
       "      <td>26</td>\n",
       "      <td>4</td>\n",
       "      <td>1</td>\n",
       "      <td>2020-01-26</td>\n",
       "      <td>0</td>\n",
       "    </tr>\n",
       "  </tbody>\n",
       "</table>\n",
       "</div>"
      ],
      "text/plain": [
       "            year  month  day  weekday weekday_name  dayofyear  week  quarter  \\\n",
       "2020-01-22  2020      1   22        2    Wednesday         22     4        1   \n",
       "2020-01-23  2020      1   23        3     Thursday         23     4        1   \n",
       "2020-01-24  2020      1   24        4       Friday         24     4        1   \n",
       "2020-01-25  2020      1   25        5     Saturday         25     4        1   \n",
       "2020-01-26  2020      1   26        6       Sunday         26     4        1   \n",
       "\n",
       "                 date  confirmed  \n",
       "2020-01-22 2020-01-22          0  \n",
       "2020-01-23 2020-01-23          0  \n",
       "2020-01-24 2020-01-24          0  \n",
       "2020-01-25 2020-01-25          0  \n",
       "2020-01-26 2020-01-26          0  "
      ]
     },
     "execution_count": 104,
     "metadata": {},
     "output_type": "execute_result"
    }
   ],
   "source": [
    "complete_data = pd.concat([data_feat, data5[['date','confirmed']]], axis=1)\n",
    "complete_data.head()"
   ]
  },
  {
   "cell_type": "code",
   "execution_count": 105,
   "metadata": {},
   "outputs": [
    {
     "data": {
      "image/png": "[encoded data removed]",
      "text/plain": [
       "<Figure size 720x432 with 1 Axes>"
      ]
     },
     "metadata": {
      "needs_background": "light"
     },
     "output_type": "display_data"
    }
   ],
   "source": [
    "# boxplot for yearly Case\n",
    "plt.figure(figsize=(10,6))\n",
    "\n",
    "sns.boxplot(x=complete_data['year'], y=complete_data['confirmed'], )\n",
    "plt.title('Yearly Cases')\n",
    "plt.show()"
   ]
  },
  {
   "cell_type": "markdown",
   "metadata": {},
   "source": [
    "- It can be observed that cases have increased in 2021 as compared to 2020"
   ]
  },
  {
   "cell_type": "code",
   "execution_count": 106,
   "metadata": {},
   "outputs": [
    {
     "data": {
      "image/png": "[encoded data removed]",
      "text/plain": [
       "<Figure size 720x432 with 1 Axes>"
      ]
     },
     "metadata": {
      "needs_background": "light"
     },
     "output_type": "display_data"
    }
   ],
   "source": [
    "# boxplot for week's cases\n",
    "plt.figure(figsize=(10,6))\n",
    "\n",
    "sns.boxplot(x=complete_data['weekday_name'], y=complete_data['confirmed'], )\n",
    "plt.title('Weekly confirmed cases')\n",
    "plt.show()"
   ]
  },
  {
   "cell_type": "markdown",
   "metadata": {},
   "source": [
    "- the data have same median almost everyday\n",
    "- no particular day has a very high case throughout the dataset"
   ]
  },
  {
   "cell_type": "code",
   "execution_count": 107,
   "metadata": {},
   "outputs": [
    {
     "data": {
      "image/png": "[encoded data removed]",
      "text/plain": [
       "<Figure size 432x288 with 1 Axes>"
      ]
     },
     "metadata": {
      "needs_background": "light"
     },
     "output_type": "display_data"
    },
    {
     "data": {
      "image/png": "[encoded data removed]",
      "text/plain": [
       "<Figure size 432x288 with 1 Axes>"
      ]
     },
     "metadata": {
      "needs_background": "light"
     },
     "output_type": "display_data"
    }
   ],
   "source": [
    "#seasonality graphs\n",
    "from statsmodels.graphics.tsaplots import month_plot, quarter_plot\n",
    "month_plot(data5.confirmed.resample(rule='MS').mean())#compute mean for each month. MS means month stats\n",
    "quarter_plot(data5.confirmed.resample(rule='Q').mean());#compute mean for each quarter. Q means quarter stats"
   ]
  },
  {
   "cell_type": "markdown",
   "metadata": {},
   "source": [
    "- the black lines represents the volatality of that given month\n",
    "- overall trend shows monthly and quarterly increasing trend "
   ]
  },
  {
   "cell_type": "markdown",
   "metadata": {},
   "source": [
    "#### Summarising observations:\n",
    "- cases are comparatively higher in 2021\n",
    "- All weekdays have similar trend on cases\n",
    "- Average num. of cases are higher each consecutive month"
   ]
  },
  {
   "cell_type": "code",
   "execution_count": null,
   "metadata": {},
   "outputs": [],
   "source": []
  },
  {
   "cell_type": "markdown",
   "metadata": {},
   "source": [
    "# Structure of the Notebook\n",
    "\n",
    "1. Problem Statement\n",
    "2. Data Preprocessing(Outliers & Missing values)\n",
    "3. Feature extraction and exploration\n",
    "4. Data Split into Training, Validation and Test data\n",
    "5. Time Series Forecasting models\n",
    "6. Machine Learning models"
   ]
  },
  {
   "cell_type": "markdown",
   "metadata": {},
   "source": [
    "# 4. Data Split"
   ]
  },
  {
   "cell_type": "code",
   "execution_count": 108,
   "metadata": {},
   "outputs": [
    {
     "data": {
      "text/html": [
       "<div>\n",
       "<style scoped>\n",
       "    .dataframe tbody tr th:only-of-type {\n",
       "        vertical-align: middle;\n",
       "    }\n",
       "\n",
       "    .dataframe tbody tr th {\n",
       "        vertical-align: top;\n",
       "    }\n",
       "\n",
       "    .dataframe thead th {\n",
       "        text-align: right;\n",
       "    }\n",
       "</style>\n",
       "<table border=\"1\" class=\"dataframe\">\n",
       "  <thead>\n",
       "    <tr style=\"text-align: right;\">\n",
       "      <th></th>\n",
       "      <th>year</th>\n",
       "      <th>month</th>\n",
       "      <th>day</th>\n",
       "      <th>weekday</th>\n",
       "      <th>weekday_name</th>\n",
       "      <th>dayofyear</th>\n",
       "      <th>week</th>\n",
       "      <th>quarter</th>\n",
       "      <th>date</th>\n",
       "      <th>confirmed</th>\n",
       "    </tr>\n",
       "  </thead>\n",
       "  <tbody>\n",
       "    <tr>\n",
       "      <th>2020-01-22</th>\n",
       "      <td>2020</td>\n",
       "      <td>1</td>\n",
       "      <td>22</td>\n",
       "      <td>2</td>\n",
       "      <td>Wednesday</td>\n",
       "      <td>22</td>\n",
       "      <td>4</td>\n",
       "      <td>1</td>\n",
       "      <td>2020-01-22</td>\n",
       "      <td>0</td>\n",
       "    </tr>\n",
       "    <tr>\n",
       "      <th>2020-01-23</th>\n",
       "      <td>2020</td>\n",
       "      <td>1</td>\n",
       "      <td>23</td>\n",
       "      <td>3</td>\n",
       "      <td>Thursday</td>\n",
       "      <td>23</td>\n",
       "      <td>4</td>\n",
       "      <td>1</td>\n",
       "      <td>2020-01-23</td>\n",
       "      <td>0</td>\n",
       "    </tr>\n",
       "    <tr>\n",
       "      <th>2020-01-24</th>\n",
       "      <td>2020</td>\n",
       "      <td>1</td>\n",
       "      <td>24</td>\n",
       "      <td>4</td>\n",
       "      <td>Friday</td>\n",
       "      <td>24</td>\n",
       "      <td>4</td>\n",
       "      <td>1</td>\n",
       "      <td>2020-01-24</td>\n",
       "      <td>0</td>\n",
       "    </tr>\n",
       "    <tr>\n",
       "      <th>2020-01-25</th>\n",
       "      <td>2020</td>\n",
       "      <td>1</td>\n",
       "      <td>25</td>\n",
       "      <td>5</td>\n",
       "      <td>Saturday</td>\n",
       "      <td>25</td>\n",
       "      <td>4</td>\n",
       "      <td>1</td>\n",
       "      <td>2020-01-25</td>\n",
       "      <td>0</td>\n",
       "    </tr>\n",
       "    <tr>\n",
       "      <th>2020-01-26</th>\n",
       "      <td>2020</td>\n",
       "      <td>1</td>\n",
       "      <td>26</td>\n",
       "      <td>6</td>\n",
       "      <td>Sunday</td>\n",
       "      <td>26</td>\n",
       "      <td>4</td>\n",
       "      <td>1</td>\n",
       "      <td>2020-01-26</td>\n",
       "      <td>0</td>\n",
       "    </tr>\n",
       "  </tbody>\n",
       "</table>\n",
       "</div>"
      ],
      "text/plain": [
       "            year  month  day  weekday weekday_name  dayofyear  week  quarter  \\\n",
       "2020-01-22  2020      1   22        2    Wednesday         22     4        1   \n",
       "2020-01-23  2020      1   23        3     Thursday         23     4        1   \n",
       "2020-01-24  2020      1   24        4       Friday         24     4        1   \n",
       "2020-01-25  2020      1   25        5     Saturday         25     4        1   \n",
       "2020-01-26  2020      1   26        6       Sunday         26     4        1   \n",
       "\n",
       "                 date  confirmed  \n",
       "2020-01-22 2020-01-22          0  \n",
       "2020-01-23 2020-01-23          0  \n",
       "2020-01-24 2020-01-24          0  \n",
       "2020-01-25 2020-01-25          0  \n",
       "2020-01-26 2020-01-26          0  "
      ]
     },
     "execution_count": 108,
     "metadata": {},
     "output_type": "execute_result"
    }
   ],
   "source": [
    "# complete_data=complete_data.reset_index(drop=False)\n",
    "complete_data.head()"
   ]
  },
  {
   "cell_type": "code",
   "execution_count": 109,
   "metadata": {},
   "outputs": [
    {
     "data": {
      "text/plain": [
       "(586, 10)"
      ]
     },
     "execution_count": 109,
     "metadata": {},
     "output_type": "execute_result"
    }
   ],
   "source": [
    "complete_data.shape"
   ]
  },
  {
   "cell_type": "code",
   "execution_count": 110,
   "metadata": {},
   "outputs": [],
   "source": [
    "# dividing into train and test sets\n",
    "\n",
    "test_len = int(len(complete_data) * 0.16)\n",
    "data_train, data_test = complete_data.iloc[:-test_len], complete_data.iloc[-test_len:]"
   ]
  },
  {
   "cell_type": "code",
   "execution_count": 111,
   "metadata": {},
   "outputs": [
    {
     "data": {
      "text/plain": [
       "((493, 10), (93, 10))"
      ]
     },
     "execution_count": 111,
     "metadata": {},
     "output_type": "execute_result"
    }
   ],
   "source": [
    "data_train.shape, data_test.shape"
   ]
  },
  {
   "cell_type": "code",
   "execution_count": 115,
   "metadata": {},
   "outputs": [
    {
     "data": {
      "text/html": [
       "<div>\n",
       "<style scoped>\n",
       "    .dataframe tbody tr th:only-of-type {\n",
       "        vertical-align: middle;\n",
       "    }\n",
       "\n",
       "    .dataframe tbody tr th {\n",
       "        vertical-align: top;\n",
       "    }\n",
       "\n",
       "    .dataframe thead th {\n",
       "        text-align: right;\n",
       "    }\n",
       "</style>\n",
       "<table border=\"1\" class=\"dataframe\">\n",
       "  <thead>\n",
       "    <tr style=\"text-align: right;\">\n",
       "      <th></th>\n",
       "      <th>year</th>\n",
       "      <th>month</th>\n",
       "      <th>day</th>\n",
       "      <th>weekday</th>\n",
       "      <th>weekday_name</th>\n",
       "      <th>dayofyear</th>\n",
       "      <th>week</th>\n",
       "      <th>quarter</th>\n",
       "      <th>date</th>\n",
       "      <th>confirmed</th>\n",
       "    </tr>\n",
       "  </thead>\n",
       "  <tbody>\n",
       "    <tr>\n",
       "      <th>2020-01-22</th>\n",
       "      <td>2020</td>\n",
       "      <td>1</td>\n",
       "      <td>22</td>\n",
       "      <td>2</td>\n",
       "      <td>Wednesday</td>\n",
       "      <td>22</td>\n",
       "      <td>4</td>\n",
       "      <td>1</td>\n",
       "      <td>2020-01-22</td>\n",
       "      <td>0</td>\n",
       "    </tr>\n",
       "    <tr>\n",
       "      <th>2020-01-23</th>\n",
       "      <td>2020</td>\n",
       "      <td>1</td>\n",
       "      <td>23</td>\n",
       "      <td>3</td>\n",
       "      <td>Thursday</td>\n",
       "      <td>23</td>\n",
       "      <td>4</td>\n",
       "      <td>1</td>\n",
       "      <td>2020-01-23</td>\n",
       "      <td>0</td>\n",
       "    </tr>\n",
       "  </tbody>\n",
       "</table>\n",
       "</div>"
      ],
      "text/plain": [
       "            year  month  day  weekday weekday_name  dayofyear  week  quarter  \\\n",
       "2020-01-22  2020      1   22        2    Wednesday         22     4        1   \n",
       "2020-01-23  2020      1   23        3     Thursday         23     4        1   \n",
       "\n",
       "                 date  confirmed  \n",
       "2020-01-22 2020-01-22          0  \n",
       "2020-01-23 2020-01-23          0  "
      ]
     },
     "execution_count": 115,
     "metadata": {},
     "output_type": "execute_result"
    }
   ],
   "source": [
    "data_train.head(2)"
   ]
  },
  {
   "cell_type": "code",
   "execution_count": 116,
   "metadata": {},
   "outputs": [
    {
     "data": {
      "text/html": [
       "<div>\n",
       "<style scoped>\n",
       "    .dataframe tbody tr th:only-of-type {\n",
       "        vertical-align: middle;\n",
       "    }\n",
       "\n",
       "    .dataframe tbody tr th {\n",
       "        vertical-align: top;\n",
       "    }\n",
       "\n",
       "    .dataframe thead th {\n",
       "        text-align: right;\n",
       "    }\n",
       "</style>\n",
       "<table border=\"1\" class=\"dataframe\">\n",
       "  <thead>\n",
       "    <tr style=\"text-align: right;\">\n",
       "      <th></th>\n",
       "      <th>year</th>\n",
       "      <th>month</th>\n",
       "      <th>day</th>\n",
       "      <th>weekday</th>\n",
       "      <th>weekday_name</th>\n",
       "      <th>dayofyear</th>\n",
       "      <th>week</th>\n",
       "      <th>quarter</th>\n",
       "      <th>date</th>\n",
       "      <th>confirmed</th>\n",
       "    </tr>\n",
       "  </thead>\n",
       "  <tbody>\n",
       "    <tr>\n",
       "      <th>2021-05-27</th>\n",
       "      <td>2021</td>\n",
       "      <td>5</td>\n",
       "      <td>27</td>\n",
       "      <td>3</td>\n",
       "      <td>Thursday</td>\n",
       "      <td>147</td>\n",
       "      <td>21</td>\n",
       "      <td>2</td>\n",
       "      <td>2021-05-27</td>\n",
       "      <td>260389</td>\n",
       "    </tr>\n",
       "    <tr>\n",
       "      <th>2021-05-28</th>\n",
       "      <td>2021</td>\n",
       "      <td>5</td>\n",
       "      <td>28</td>\n",
       "      <td>4</td>\n",
       "      <td>Friday</td>\n",
       "      <td>148</td>\n",
       "      <td>21</td>\n",
       "      <td>2</td>\n",
       "      <td>2021-05-28</td>\n",
       "      <td>260850</td>\n",
       "    </tr>\n",
       "  </tbody>\n",
       "</table>\n",
       "</div>"
      ],
      "text/plain": [
       "            year  month  day  weekday weekday_name  dayofyear  week  quarter  \\\n",
       "2021-05-27  2021      5   27        3     Thursday        147    21        2   \n",
       "2021-05-28  2021      5   28        4       Friday        148    21        2   \n",
       "\n",
       "                 date  confirmed  \n",
       "2021-05-27 2021-05-27     260389  \n",
       "2021-05-28 2021-05-28     260850  "
      ]
     },
     "execution_count": 116,
     "metadata": {},
     "output_type": "execute_result"
    }
   ],
   "source": [
    "data_train.tail(2)"
   ]
  },
  {
   "cell_type": "code",
   "execution_count": 117,
   "metadata": {},
   "outputs": [
    {
     "data": {
      "text/html": [
       "<div>\n",
       "<style scoped>\n",
       "    .dataframe tbody tr th:only-of-type {\n",
       "        vertical-align: middle;\n",
       "    }\n",
       "\n",
       "    .dataframe tbody tr th {\n",
       "        vertical-align: top;\n",
       "    }\n",
       "\n",
       "    .dataframe thead th {\n",
       "        text-align: right;\n",
       "    }\n",
       "</style>\n",
       "<table border=\"1\" class=\"dataframe\">\n",
       "  <thead>\n",
       "    <tr style=\"text-align: right;\">\n",
       "      <th></th>\n",
       "      <th>year</th>\n",
       "      <th>month</th>\n",
       "      <th>day</th>\n",
       "      <th>weekday</th>\n",
       "      <th>weekday_name</th>\n",
       "      <th>dayofyear</th>\n",
       "      <th>week</th>\n",
       "      <th>quarter</th>\n",
       "      <th>date</th>\n",
       "      <th>confirmed</th>\n",
       "    </tr>\n",
       "  </thead>\n",
       "  <tbody>\n",
       "    <tr>\n",
       "      <th>2021-05-29</th>\n",
       "      <td>2021</td>\n",
       "      <td>5</td>\n",
       "      <td>29</td>\n",
       "      <td>5</td>\n",
       "      <td>Saturday</td>\n",
       "      <td>149</td>\n",
       "      <td>21</td>\n",
       "      <td>2</td>\n",
       "      <td>2021-05-29</td>\n",
       "      <td>261306</td>\n",
       "    </tr>\n",
       "    <tr>\n",
       "      <th>2021-05-30</th>\n",
       "      <td>2021</td>\n",
       "      <td>5</td>\n",
       "      <td>30</td>\n",
       "      <td>6</td>\n",
       "      <td>Sunday</td>\n",
       "      <td>150</td>\n",
       "      <td>21</td>\n",
       "      <td>2</td>\n",
       "      <td>2021-05-30</td>\n",
       "      <td>261673</td>\n",
       "    </tr>\n",
       "  </tbody>\n",
       "</table>\n",
       "</div>"
      ],
      "text/plain": [
       "            year  month  day  weekday weekday_name  dayofyear  week  quarter  \\\n",
       "2021-05-29  2021      5   29        5     Saturday        149    21        2   \n",
       "2021-05-30  2021      5   30        6       Sunday        150    21        2   \n",
       "\n",
       "                 date  confirmed  \n",
       "2021-05-29 2021-05-29     261306  \n",
       "2021-05-30 2021-05-30     261673  "
      ]
     },
     "execution_count": 117,
     "metadata": {},
     "output_type": "execute_result"
    }
   ],
   "source": [
    "data_test.head(2)"
   ]
  },
  {
   "cell_type": "code",
   "execution_count": 118,
   "metadata": {},
   "outputs": [
    {
     "data": {
      "text/html": [
       "<div>\n",
       "<style scoped>\n",
       "    .dataframe tbody tr th:only-of-type {\n",
       "        vertical-align: middle;\n",
       "    }\n",
       "\n",
       "    .dataframe tbody tr th {\n",
       "        vertical-align: top;\n",
       "    }\n",
       "\n",
       "    .dataframe thead th {\n",
       "        text-align: right;\n",
       "    }\n",
       "</style>\n",
       "<table border=\"1\" class=\"dataframe\">\n",
       "  <thead>\n",
       "    <tr style=\"text-align: right;\">\n",
       "      <th></th>\n",
       "      <th>year</th>\n",
       "      <th>month</th>\n",
       "      <th>day</th>\n",
       "      <th>weekday</th>\n",
       "      <th>weekday_name</th>\n",
       "      <th>dayofyear</th>\n",
       "      <th>week</th>\n",
       "      <th>quarter</th>\n",
       "      <th>date</th>\n",
       "      <th>confirmed</th>\n",
       "    </tr>\n",
       "  </thead>\n",
       "  <tbody>\n",
       "    <tr>\n",
       "      <th>2021-08-28</th>\n",
       "      <td>2021</td>\n",
       "      <td>8</td>\n",
       "      <td>28</td>\n",
       "      <td>5</td>\n",
       "      <td>Saturday</td>\n",
       "      <td>240</td>\n",
       "      <td>34</td>\n",
       "      <td>3</td>\n",
       "      <td>2021-08-28</td>\n",
       "      <td>348067</td>\n",
       "    </tr>\n",
       "    <tr>\n",
       "      <th>2021-08-29</th>\n",
       "      <td>2021</td>\n",
       "      <td>8</td>\n",
       "      <td>29</td>\n",
       "      <td>6</td>\n",
       "      <td>Sunday</td>\n",
       "      <td>241</td>\n",
       "      <td>34</td>\n",
       "      <td>3</td>\n",
       "      <td>2021-08-29</td>\n",
       "      <td>349773</td>\n",
       "    </tr>\n",
       "  </tbody>\n",
       "</table>\n",
       "</div>"
      ],
      "text/plain": [
       "            year  month  day  weekday weekday_name  dayofyear  week  quarter  \\\n",
       "2021-08-28  2021      8   28        5     Saturday        240    34        3   \n",
       "2021-08-29  2021      8   29        6       Sunday        241    34        3   \n",
       "\n",
       "                 date  confirmed  \n",
       "2021-08-28 2021-08-28     348067  \n",
       "2021-08-29 2021-08-29     349773  "
      ]
     },
     "execution_count": 118,
     "metadata": {},
     "output_type": "execute_result"
    }
   ],
   "source": [
    "data_test.tail(2)"
   ]
  },
  {
   "cell_type": "markdown",
   "metadata": {},
   "source": [
    "# Structure of Notebook\n",
    "\n",
    "1. Problem Statement\n",
    "2. Data Preprocessing(Outliers & Missing values)\n",
    "3. Feature extraction and exploration\n",
    "4. Data Split into Training, Validation and Test data\n",
    "5. Time Series Forecasting models\n",
    "6. Machine Learning models"
   ]
  },
  {
   "cell_type": "markdown",
   "metadata": {},
   "source": [
    "# 5. Time Series Forecasting models"
   ]
  },
  {
   "cell_type": "markdown",
   "metadata": {},
   "source": [
    "#### Defining performance metrics"
   ]
  },
  {
   "cell_type": "code",
   "execution_count": 119,
   "metadata": {},
   "outputs": [],
   "source": [
    "#Defining RMSLE function to provide error metrics and assess the model performance\n",
    "def rmsle(actual, preds):\n",
    "    for i in range(0,len(preds)):\n",
    "        if preds[i]<0:\n",
    "            preds[i] = 0\n",
    "        else:\n",
    "            pass\n",
    "    \n",
    "    error = (sqrt(mean_squared_log_error(actual, preds)))*100 ##multiplying by 100 since the error comes in decimal places\n",
    "    return error"
   ]
  },
  {
   "cell_type": "code",
   "execution_count": 120,
   "metadata": {},
   "outputs": [],
   "source": [
    "#MAPE function\n",
    "def MAPE(y_true, y_pred):\n",
    "  y_true, y_pred = np.array(y_true), np.array(y_pred)\n",
    "  return np.mean(np.abs((y_true - y_pred) / y_true)) * 100"
   ]
  },
  {
   "cell_type": "markdown",
   "metadata": {},
   "source": [
    "### A. Holt's Winters (aka triple exponential smoothing)"
   ]
  },
  {
   "cell_type": "markdown",
   "metadata": {},
   "source": [
    "Holt-Winters makes use of exponential smoothing to compute historical values in order to make predictions of current and future  values (or average) (Solarwind, 2019). Exponential smoothing is when we assign increasing weights to observations in an exponentially increasing manner from oldest to newest observations(Stephanie, 2018).\n",
    "It is a model of timeseries behaviour."
   ]
  },
  {
   "cell_type": "code",
   "execution_count": 121,
   "metadata": {},
   "outputs": [
    {
     "data": {
      "text/plain": [
       "((493, 10), (93, 10))"
      ]
     },
     "execution_count": 121,
     "metadata": {},
     "output_type": "execute_result"
    }
   ],
   "source": [
    "data_train.shape, data_test.shape"
   ]
  },
  {
   "cell_type": "code",
   "execution_count": 122,
   "metadata": {},
   "outputs": [
    {
     "data": {
      "text/html": [
       "<div>\n",
       "<style scoped>\n",
       "    .dataframe tbody tr th:only-of-type {\n",
       "        vertical-align: middle;\n",
       "    }\n",
       "\n",
       "    .dataframe tbody tr th {\n",
       "        vertical-align: top;\n",
       "    }\n",
       "\n",
       "    .dataframe thead th {\n",
       "        text-align: right;\n",
       "    }\n",
       "</style>\n",
       "<table border=\"1\" class=\"dataframe\">\n",
       "  <thead>\n",
       "    <tr style=\"text-align: right;\">\n",
       "      <th></th>\n",
       "      <th>year</th>\n",
       "      <th>month</th>\n",
       "      <th>day</th>\n",
       "      <th>weekday</th>\n",
       "      <th>weekday_name</th>\n",
       "      <th>dayofyear</th>\n",
       "      <th>week</th>\n",
       "      <th>quarter</th>\n",
       "      <th>date</th>\n",
       "      <th>confirmed</th>\n",
       "    </tr>\n",
       "  </thead>\n",
       "  <tbody>\n",
       "    <tr>\n",
       "      <th>2020-01-22</th>\n",
       "      <td>2020</td>\n",
       "      <td>1</td>\n",
       "      <td>22</td>\n",
       "      <td>2</td>\n",
       "      <td>Wednesday</td>\n",
       "      <td>22</td>\n",
       "      <td>4</td>\n",
       "      <td>1</td>\n",
       "      <td>2020-01-22</td>\n",
       "      <td>0</td>\n",
       "    </tr>\n",
       "  </tbody>\n",
       "</table>\n",
       "</div>"
      ],
      "text/plain": [
       "            year  month  day  weekday weekday_name  dayofyear  week  quarter  \\\n",
       "2020-01-22  2020      1   22        2    Wednesday         22     4        1   \n",
       "\n",
       "                 date  confirmed  \n",
       "2020-01-22 2020-01-22          0  "
      ]
     },
     "execution_count": 122,
     "metadata": {},
     "output_type": "execute_result"
    }
   ],
   "source": [
    "data_train.head(1)"
   ]
  },
  {
   "cell_type": "code",
   "execution_count": 123,
   "metadata": {},
   "outputs": [
    {
     "data": {
      "text/html": [
       "<div>\n",
       "<style scoped>\n",
       "    .dataframe tbody tr th:only-of-type {\n",
       "        vertical-align: middle;\n",
       "    }\n",
       "\n",
       "    .dataframe tbody tr th {\n",
       "        vertical-align: top;\n",
       "    }\n",
       "\n",
       "    .dataframe thead th {\n",
       "        text-align: right;\n",
       "    }\n",
       "</style>\n",
       "<table border=\"1\" class=\"dataframe\">\n",
       "  <thead>\n",
       "    <tr style=\"text-align: right;\">\n",
       "      <th></th>\n",
       "      <th>year</th>\n",
       "      <th>month</th>\n",
       "      <th>day</th>\n",
       "      <th>weekday</th>\n",
       "      <th>weekday_name</th>\n",
       "      <th>dayofyear</th>\n",
       "      <th>week</th>\n",
       "      <th>quarter</th>\n",
       "      <th>date</th>\n",
       "      <th>confirmed</th>\n",
       "    </tr>\n",
       "  </thead>\n",
       "  <tbody>\n",
       "    <tr>\n",
       "      <th>2021-08-29</th>\n",
       "      <td>2021</td>\n",
       "      <td>8</td>\n",
       "      <td>29</td>\n",
       "      <td>6</td>\n",
       "      <td>Sunday</td>\n",
       "      <td>241</td>\n",
       "      <td>34</td>\n",
       "      <td>3</td>\n",
       "      <td>2021-08-29</td>\n",
       "      <td>349773</td>\n",
       "    </tr>\n",
       "  </tbody>\n",
       "</table>\n",
       "</div>"
      ],
      "text/plain": [
       "            year  month  day  weekday weekday_name  dayofyear  week  quarter  \\\n",
       "2021-08-29  2021      8   29        6       Sunday        241    34        3   \n",
       "\n",
       "                 date  confirmed  \n",
       "2021-08-29 2021-08-29     349773  "
      ]
     },
     "execution_count": 123,
     "metadata": {},
     "output_type": "execute_result"
    }
   ],
   "source": [
    "data_test.tail(1)"
   ]
  },
  {
   "cell_type": "code",
   "execution_count": 124,
   "metadata": {},
   "outputs": [],
   "source": [
    "# train_hw = data_train[['confirmed','date','weekday_name']]\n",
    "# test_hw = data_test[['confirmed','date','weekday_name']]\n",
    "\n",
    "train_hw = data_train[['confirmed','date']]\n",
    "test_hw = data_test[['confirmed','date']]"
   ]
  },
  {
   "cell_type": "code",
   "execution_count": 125,
   "metadata": {},
   "outputs": [
    {
     "data": {
      "text/plain": [
       "(confirmed             int64\n",
       " date         datetime64[ns]\n",
       " dtype: object,\n",
       " confirmed             int64\n",
       " date         datetime64[ns]\n",
       " dtype: object)"
      ]
     },
     "execution_count": 125,
     "metadata": {},
     "output_type": "execute_result"
    }
   ],
   "source": [
    "train_hw.dtypes, test_hw.dtypes"
   ]
  },
  {
   "cell_type": "code",
   "execution_count": 126,
   "metadata": {},
   "outputs": [],
   "source": [
    "# train_df['date'] = pd.to_datetime(train_df['date'])\n",
    "# train_df['date'] = pd.to_datetime(train_df['date'])"
   ]
  },
  {
   "cell_type": "code",
   "execution_count": 127,
   "metadata": {},
   "outputs": [
    {
     "data": {
      "text/html": [
       "<div>\n",
       "<style scoped>\n",
       "    .dataframe tbody tr th:only-of-type {\n",
       "        vertical-align: middle;\n",
       "    }\n",
       "\n",
       "    .dataframe tbody tr th {\n",
       "        vertical-align: top;\n",
       "    }\n",
       "\n",
       "    .dataframe thead th {\n",
       "        text-align: right;\n",
       "    }\n",
       "</style>\n",
       "<table border=\"1\" class=\"dataframe\">\n",
       "  <thead>\n",
       "    <tr style=\"text-align: right;\">\n",
       "      <th></th>\n",
       "      <th>confirmed</th>\n",
       "      <th>date</th>\n",
       "    </tr>\n",
       "  </thead>\n",
       "  <tbody>\n",
       "    <tr>\n",
       "      <th>2020-01-22</th>\n",
       "      <td>0</td>\n",
       "      <td>2020-01-22</td>\n",
       "    </tr>\n",
       "    <tr>\n",
       "      <th>2020-01-23</th>\n",
       "      <td>0</td>\n",
       "      <td>2020-01-23</td>\n",
       "    </tr>\n",
       "    <tr>\n",
       "      <th>2020-01-24</th>\n",
       "      <td>0</td>\n",
       "      <td>2020-01-24</td>\n",
       "    </tr>\n",
       "    <tr>\n",
       "      <th>2020-01-25</th>\n",
       "      <td>0</td>\n",
       "      <td>2020-01-25</td>\n",
       "    </tr>\n",
       "    <tr>\n",
       "      <th>2020-01-26</th>\n",
       "      <td>0</td>\n",
       "      <td>2020-01-26</td>\n",
       "    </tr>\n",
       "  </tbody>\n",
       "</table>\n",
       "</div>"
      ],
      "text/plain": [
       "            confirmed       date\n",
       "2020-01-22          0 2020-01-22\n",
       "2020-01-23          0 2020-01-23\n",
       "2020-01-24          0 2020-01-24\n",
       "2020-01-25          0 2020-01-25\n",
       "2020-01-26          0 2020-01-26"
      ]
     },
     "execution_count": 127,
     "metadata": {},
     "output_type": "execute_result"
    }
   ],
   "source": [
    "# # set the time as index\n",
    "# train.set_index('date',inplace=True)\n",
    "# valid.set_index('date',inplace=True)\n",
    "train_hw.head()"
   ]
  },
  {
   "cell_type": "code",
   "execution_count": 128,
   "metadata": {},
   "outputs": [
    {
     "data": {
      "image/png": "[encoded data removed]",
      "text/plain": [
       "<Figure size 864x576 with 1 Axes>"
      ]
     },
     "metadata": {
      "needs_background": "light"
     },
     "output_type": "display_data"
    }
   ],
   "source": [
    "#viz\n",
    "plt.figure(figsize=(12,8))\n",
    "\n",
    "plt.plot(train_hw.index, train_hw['confirmed'], label='Train')\n",
    "plt.plot(test_hw.index, test_hw['confirmed'], label='Test')\n",
    "plt.legend(loc='best')\n",
    "plt.title(\"Holt Winter\")\n",
    "plt.show()"
   ]
  },
  {
   "cell_type": "code",
   "execution_count": 129,
   "metadata": {},
   "outputs": [],
   "source": [
    "#importing module\n",
    "from statsmodels.tsa.api import ExponentialSmoothing"
   ]
  },
  {
   "cell_type": "code",
   "execution_count": 130,
   "metadata": {},
   "outputs": [],
   "source": [
    "#training the model\n",
    "model = ExponentialSmoothing(np.asarray(train_hw['confirmed']), seasonal_periods=7, trend='add', seasonal='add')\n",
    "model = model.fit(smoothing_level=0.2, smoothing_slope=0.001, smoothing_seasonal=0.2)# providing random parameter values"
   ]
  },
  {
   "cell_type": "markdown",
   "metadata": {},
   "source": [
    "##### Model assessment"
   ]
  },
  {
   "cell_type": "code",
   "execution_count": 131,
   "metadata": {},
   "outputs": [
    {
     "name": "stdout",
     "output_type": "stream",
     "text": [
      "RMSLE for Holt Winter is: 4.250603826363878\n"
     ]
    }
   ],
   "source": [
    "# predictions and evaluation\n",
    "preds = model.forecast(len(test_hw)) \n",
    "score = rmsle(test_hw['confirmed'], preds)\n",
    "\n",
    "# results\n",
    "print('RMSLE for Holt Winter is:', score)"
   ]
  },
  {
   "cell_type": "code",
   "execution_count": 132,
   "metadata": {},
   "outputs": [
    {
     "name": "stdout",
     "output_type": "stream",
     "text": [
      "MAPE for Holt Winter is: 2.996114145256824\n"
     ]
    }
   ],
   "source": [
    "# MAPE(valid_df['confirmed'], preds)\n",
    "print('MAPE for Holt Winter is:', MAPE(test_hw['confirmed'], preds))"
   ]
  },
  {
   "cell_type": "code",
   "execution_count": 133,
   "metadata": {},
   "outputs": [],
   "source": [
    "# # # calculating RMSE \n",
    "# rmse = sqrt(mean_squared_error(rmsle(valid_df['confirmed'], preds))\n",
    "# print(rmse)"
   ]
  },
  {
   "cell_type": "code",
   "execution_count": 134,
   "metadata": {},
   "outputs": [],
   "source": [
    "# # #MAE\n",
    "# print('The RMSE value for Holt Winter is', round(mean_absolute_error(rmsle(valid_df['confirmed'], preds),0)))"
   ]
  },
  {
   "cell_type": "markdown",
   "metadata": {},
   "source": [
    "## Grid search"
   ]
  },
  {
   "cell_type": "code",
   "execution_count": 135,
   "metadata": {},
   "outputs": [],
   "source": [
    "from itertools import product\n",
    "from tqdm import tqdm_notebook"
   ]
  },
  {
   "cell_type": "code",
   "execution_count": 136,
   "metadata": {},
   "outputs": [
    {
     "data": {
      "text/plain": [
       "120"
      ]
     },
     "execution_count": 136,
     "metadata": {},
     "output_type": "execute_result"
    }
   ],
   "source": [
    "# setting initial values and some bounds for them\n",
    "level = [0.1, 0.2, 0.3, 0.4, 0.5, 0.6, 0.7, 0.8]\n",
    "smoothing_slope = [0.0001, 0.001, 0.05] \n",
    "smoothing_seasonal = [0.2, 0.3, 0.4, 0.5, 0.6]\n",
    "\n",
    "# creating list with all the possible combinations of parameters\n",
    "parameters = product(level, smoothing_slope, smoothing_seasonal)\n",
    "parameters_list = list(parameters)\n",
    "len(parameters_list)"
   ]
  },
  {
   "cell_type": "code",
   "execution_count": 137,
   "metadata": {},
   "outputs": [],
   "source": [
    "def grid_search(parameters_list):\n",
    "    \n",
    "    results = []\n",
    "    best_error_ = float(\"inf\")\n",
    "\n",
    "    for param in tqdm_notebook(parameters_list):\n",
    "        #training the model\n",
    "        model = ExponentialSmoothing(np.asarray(train_hw['confirmed']), seasonal_periods=7, trend='add', seasonal='add')\n",
    "        model = model.fit(smoothing_level=param[0], smoothing_slope=param[1], smoothing_seasonal=param[2])\n",
    "\n",
    "        # predictions and evaluation\n",
    "        preds = model.forecast(len(test_hw)) \n",
    "        score = rmsle(test_hw['confirmed'], preds)\n",
    "        \n",
    "        # saving best model, rmse and parameters\n",
    "        if score < best_error_:\n",
    "            best_model = model\n",
    "            best_error_ = score\n",
    "            best_param = param\n",
    "        results.append([param, score])\n",
    "        \n",
    "    result_table = pd.DataFrame(results)\n",
    "    result_table.columns = ['parameters', 'RMSLE']\n",
    "    \n",
    "    \n",
    "    # sorting in ascending order, the lower rmse is - the better\n",
    "    result_table = result_table.sort_values(by='RMSLE', ascending=True).reset_index(drop=True)\n",
    "    \n",
    "    return result_table"
   ]
  },
  {
   "cell_type": "code",
   "execution_count": 138,
   "metadata": {},
   "outputs": [
    {
     "data": {
      "application/vnd.jupyter.widget-view+json": {
       "model_id": "537c1aa58d0546e9976d8e5a1d0a7802",
       "version_major": 2,
       "version_minor": 0
      },
      "text/plain": [
       "HBox(children=(HTML(value=''), FloatProgress(value=0.0, max=120.0), HTML(value='')))"
      ]
     },
     "metadata": {},
     "output_type": "display_data"
    },
    {
     "name": "stdout",
     "output_type": "stream",
     "text": [
      "\n"
     ]
    }
   ],
   "source": [
    "result_table = grid_search(parameters_list)"
   ]
  },
  {
   "cell_type": "code",
   "execution_count": 139,
   "metadata": {},
   "outputs": [
    {
     "data": {
      "text/plain": [
       "(0.1, 0.001, 0.2)"
      ]
     },
     "execution_count": 139,
     "metadata": {},
     "output_type": "execute_result"
    }
   ],
   "source": [
    "result_table.parameters[0] #best parameter"
   ]
  },
  {
   "cell_type": "code",
   "execution_count": 140,
   "metadata": {},
   "outputs": [],
   "source": [
    "#training the model\n",
    "model = ExponentialSmoothing(np.asarray(train_hw['confirmed']), seasonal_periods=7, trend='add', seasonal='add')\n",
    "model = model.fit(smoothing_level=0.1, smoothing_slope=0.001, smoothing_seasonal=0.2)"
   ]
  },
  {
   "cell_type": "markdown",
   "metadata": {},
   "source": [
    "##### Model assessment"
   ]
  },
  {
   "cell_type": "code",
   "execution_count": 141,
   "metadata": {},
   "outputs": [
    {
     "name": "stdout",
     "output_type": "stream",
     "text": [
      "RMSLE for Holt Winter is: 4.196828351487393\n"
     ]
    }
   ],
   "source": [
    "# predictions and evaluation\n",
    "preds = model.forecast(len(test_hw)) \n",
    "score = rmsle(test_hw['confirmed'], preds)\n",
    "\n",
    "# results\n",
    "print('RMSLE for Holt Winter is:', score)"
   ]
  },
  {
   "cell_type": "code",
   "execution_count": 142,
   "metadata": {},
   "outputs": [
    {
     "name": "stdout",
     "output_type": "stream",
     "text": [
      "MAPE for Holt Winter is: 3.0314948570063773\n"
     ]
    }
   ],
   "source": [
    "# MAPE(valid_df['confirmed'], preds)\n",
    "print('MAPE for Holt Winter is:', MAPE(test_hw['confirmed'], preds))"
   ]
  },
  {
   "cell_type": "code",
   "execution_count": 143,
   "metadata": {},
   "outputs": [
    {
     "data": {
      "image/png": "[encoded data removed]",
      "text/plain": [
       "<Figure size 864x576 with 1 Axes>"
      ]
     },
     "metadata": {
      "needs_background": "light"
     },
     "output_type": "display_data"
    }
   ],
   "source": [
    "plt.figure(figsize = (12,8))\n",
    "\n",
    "plt.plot(train_hw.index , train_hw['confirmed'], label = 'train')\n",
    "plt.plot(test_hw.index , test_hw['confirmed'], label = 'test')\n",
    "plt.plot(test_hw.index , preds, label = 'predicted')\n",
    "plt.legend(loc='best')\n",
    "\n",
    "plt.title(\"Holt Winter\")\n",
    "plt.show()"
   ]
  },
  {
   "cell_type": "markdown",
   "metadata": {},
   "source": [
    "- Holt-Winter plot shows good performance for the model as the predicted values are very close to the validation data"
   ]
  },
  {
   "cell_type": "code",
   "execution_count": null,
   "metadata": {},
   "outputs": [],
   "source": []
  },
  {
   "cell_type": "markdown",
   "metadata": {},
   "source": [
    "### B. Building ARIMA and SARIMA"
   ]
  },
  {
   "cell_type": "code",
   "execution_count": 144,
   "metadata": {},
   "outputs": [],
   "source": [
    "#libraries\n",
    "import numpy as np\n",
    "import pandas as pd\n",
    "import matplotlib.pyplot as plt\n",
    "import seaborn as sns\n",
    "# statmodels\n",
    "from statsmodels.graphics.tsaplots import plot_acf, plot_pacf\n",
    "from statsmodels.tsa.arima_model import ARMA, ARIMA\n",
    "# datetime\n",
    "from datetime import datetime"
   ]
  },
  {
   "cell_type": "markdown",
   "metadata": {},
   "source": [
    "##### ARIMA"
   ]
  },
  {
   "cell_type": "markdown",
   "metadata": {},
   "source": [
    "##### Get the data"
   ]
  },
  {
   "cell_type": "code",
   "execution_count": 145,
   "metadata": {},
   "outputs": [],
   "source": [
    "train_ar = data_train[['confirmed','date']]\n",
    "test_ar = data_test[['confirmed','date']]"
   ]
  },
  {
   "cell_type": "code",
   "execution_count": 146,
   "metadata": {},
   "outputs": [
    {
     "data": {
      "text/html": [
       "<div>\n",
       "<style scoped>\n",
       "    .dataframe tbody tr th:only-of-type {\n",
       "        vertical-align: middle;\n",
       "    }\n",
       "\n",
       "    .dataframe tbody tr th {\n",
       "        vertical-align: top;\n",
       "    }\n",
       "\n",
       "    .dataframe thead th {\n",
       "        text-align: right;\n",
       "    }\n",
       "</style>\n",
       "<table border=\"1\" class=\"dataframe\">\n",
       "  <thead>\n",
       "    <tr style=\"text-align: right;\">\n",
       "      <th></th>\n",
       "      <th>confirmed</th>\n",
       "      <th>date</th>\n",
       "    </tr>\n",
       "  </thead>\n",
       "  <tbody>\n",
       "    <tr>\n",
       "      <th>2020-01-22</th>\n",
       "      <td>0</td>\n",
       "      <td>2020-01-22</td>\n",
       "    </tr>\n",
       "    <tr>\n",
       "      <th>2020-01-23</th>\n",
       "      <td>0</td>\n",
       "      <td>2020-01-23</td>\n",
       "    </tr>\n",
       "    <tr>\n",
       "      <th>2020-01-24</th>\n",
       "      <td>0</td>\n",
       "      <td>2020-01-24</td>\n",
       "    </tr>\n",
       "    <tr>\n",
       "      <th>2020-01-25</th>\n",
       "      <td>0</td>\n",
       "      <td>2020-01-25</td>\n",
       "    </tr>\n",
       "    <tr>\n",
       "      <th>2020-01-26</th>\n",
       "      <td>0</td>\n",
       "      <td>2020-01-26</td>\n",
       "    </tr>\n",
       "  </tbody>\n",
       "</table>\n",
       "</div>"
      ],
      "text/plain": [
       "            confirmed       date\n",
       "2020-01-22          0 2020-01-22\n",
       "2020-01-23          0 2020-01-23\n",
       "2020-01-24          0 2020-01-24\n",
       "2020-01-25          0 2020-01-25\n",
       "2020-01-26          0 2020-01-26"
      ]
     },
     "execution_count": 146,
     "metadata": {},
     "output_type": "execute_result"
    }
   ],
   "source": [
    "train_ar.head()"
   ]
  },
  {
   "cell_type": "code",
   "execution_count": null,
   "metadata": {},
   "outputs": [],
   "source": []
  },
  {
   "cell_type": "code",
   "execution_count": 147,
   "metadata": {},
   "outputs": [],
   "source": [
    "#Libraries\n",
    "from pmdarima import auto_arima"
   ]
  },
  {
   "cell_type": "code",
   "execution_count": 148,
   "metadata": {},
   "outputs": [],
   "source": [
    "#forecasting model\n",
    "model = auto_arima(y = train_ar['confirmed'],\n",
    "                   m = 7, #seasonal perod of 7 days\n",
    "                   seasonal = True,\n",
    "                   stepwise = False)"
   ]
  },
  {
   "cell_type": "code",
   "execution_count": 149,
   "metadata": {},
   "outputs": [
    {
     "data": {
      "text/html": [
       "<table class=\"simpletable\">\n",
       "<caption>SARIMAX Results</caption>\n",
       "<tr>\n",
       "  <th>Dep. Variable:</th>           <td>y</td>        <th>  No. Observations:  </th>    <td>493</td>   \n",
       "</tr>\n",
       "<tr>\n",
       "  <th>Model:</th>           <td>SARIMAX(3, 2, 2)</td> <th>  Log Likelihood     </th> <td>-3479.556</td>\n",
       "</tr>\n",
       "<tr>\n",
       "  <th>Date:</th>            <td>Tue, 07 Sep 2021</td> <th>  AIC                </th> <td>6971.112</td> \n",
       "</tr>\n",
       "<tr>\n",
       "  <th>Time:</th>                <td>06:38:47</td>     <th>  BIC                </th> <td>6996.291</td> \n",
       "</tr>\n",
       "<tr>\n",
       "  <th>Sample:</th>                  <td>0</td>        <th>  HQIC               </th> <td>6981.000</td> \n",
       "</tr>\n",
       "<tr>\n",
       "  <th></th>                      <td> - 493</td>      <th>                     </th>     <td> </td>    \n",
       "</tr>\n",
       "<tr>\n",
       "  <th>Covariance Type:</th>        <td>opg</td>       <th>                     </th>     <td> </td>    \n",
       "</tr>\n",
       "</table>\n",
       "<table class=\"simpletable\">\n",
       "<tr>\n",
       "     <td></td>       <th>coef</th>     <th>std err</th>      <th>z</th>      <th>P>|z|</th>  <th>[0.025</th>    <th>0.975]</th>  \n",
       "</tr>\n",
       "<tr>\n",
       "  <th>ar.L1</th>  <td>    1.0923</td> <td>    0.038</td> <td>   28.989</td> <td> 0.000</td> <td>    1.018</td> <td>    1.166</td>\n",
       "</tr>\n",
       "<tr>\n",
       "  <th>ar.L2</th>  <td>   -0.1011</td> <td>    0.028</td> <td>   -3.648</td> <td> 0.000</td> <td>   -0.155</td> <td>   -0.047</td>\n",
       "</tr>\n",
       "<tr>\n",
       "  <th>ar.L3</th>  <td>   -0.3557</td> <td>    0.019</td> <td>  -18.540</td> <td> 0.000</td> <td>   -0.393</td> <td>   -0.318</td>\n",
       "</tr>\n",
       "<tr>\n",
       "  <th>ma.L1</th>  <td>   -1.4830</td> <td>    0.034</td> <td>  -44.203</td> <td> 0.000</td> <td>   -1.549</td> <td>   -1.417</td>\n",
       "</tr>\n",
       "<tr>\n",
       "  <th>ma.L2</th>  <td>    0.8361</td> <td>    0.025</td> <td>   34.025</td> <td> 0.000</td> <td>    0.788</td> <td>    0.884</td>\n",
       "</tr>\n",
       "<tr>\n",
       "  <th>sigma2</th> <td> 8.364e+04</td> <td> 1732.863</td> <td>   48.264</td> <td> 0.000</td> <td> 8.02e+04</td> <td>  8.7e+04</td>\n",
       "</tr>\n",
       "</table>\n",
       "<table class=\"simpletable\">\n",
       "<tr>\n",
       "  <th>Ljung-Box (L1) (Q):</th>     <td>0.13</td>  <th>  Jarque-Bera (JB):  </th> <td>21768.20</td>\n",
       "</tr>\n",
       "<tr>\n",
       "  <th>Prob(Q):</th>                <td>0.72</td>  <th>  Prob(JB):          </th>   <td>0.00</td>  \n",
       "</tr>\n",
       "<tr>\n",
       "  <th>Heteroskedasticity (H):</th> <td>12.38</td> <th>  Skew:              </th>   <td>-0.95</td> \n",
       "</tr>\n",
       "<tr>\n",
       "  <th>Prob(H) (two-sided):</th>    <td>0.00</td>  <th>  Kurtosis:          </th>   <td>35.56</td> \n",
       "</tr>\n",
       "</table><br/><br/>Warnings:<br/>[1] Covariance matrix calculated using the outer product of gradients (complex-step)."
      ],
      "text/plain": [
       "<class 'statsmodels.iolib.summary.Summary'>\n",
       "\"\"\"\n",
       "                               SARIMAX Results                                \n",
       "==============================================================================\n",
       "Dep. Variable:                      y   No. Observations:                  493\n",
       "Model:               SARIMAX(3, 2, 2)   Log Likelihood               -3479.556\n",
       "Date:                Tue, 07 Sep 2021   AIC                           6971.112\n",
       "Time:                        06:38:47   BIC                           6996.291\n",
       "Sample:                             0   HQIC                          6981.000\n",
       "                                - 493                                         \n",
       "Covariance Type:                  opg                                         \n",
       "==============================================================================\n",
       "                 coef    std err          z      P>|z|      [0.025      0.975]\n",
       "------------------------------------------------------------------------------\n",
       "ar.L1          1.0923      0.038     28.989      0.000       1.018       1.166\n",
       "ar.L2         -0.1011      0.028     -3.648      0.000      -0.155      -0.047\n",
       "ar.L3         -0.3557      0.019    -18.540      0.000      -0.393      -0.318\n",
       "ma.L1         -1.4830      0.034    -44.203      0.000      -1.549      -1.417\n",
       "ma.L2          0.8361      0.025     34.025      0.000       0.788       0.884\n",
       "sigma2      8.364e+04   1732.863     48.264      0.000    8.02e+04     8.7e+04\n",
       "===================================================================================\n",
       "Ljung-Box (L1) (Q):                   0.13   Jarque-Bera (JB):             21768.20\n",
       "Prob(Q):                              0.72   Prob(JB):                         0.00\n",
       "Heteroskedasticity (H):              12.38   Skew:                            -0.95\n",
       "Prob(H) (two-sided):                  0.00   Kurtosis:                        35.56\n",
       "===================================================================================\n",
       "\n",
       "Warnings:\n",
       "[1] Covariance matrix calculated using the outer product of gradients (complex-step).\n",
       "\"\"\""
      ]
     },
     "execution_count": 149,
     "metadata": {},
     "output_type": "execute_result"
    }
   ],
   "source": [
    "#summary\n",
    "model.summary()"
   ]
  },
  {
   "cell_type": "code",
   "execution_count": 150,
   "metadata": {},
   "outputs": [],
   "source": [
    "# fit model\n",
    "model = ARIMA(train_ar['confirmed'], order=(3,2,2))\n",
    "model_fit = model.fit()"
   ]
  },
  {
   "cell_type": "code",
   "execution_count": 151,
   "metadata": {},
   "outputs": [
    {
     "data": {
      "text/plain": [
       "(93, 2)"
      ]
     },
     "execution_count": 151,
     "metadata": {},
     "output_type": "execute_result"
    }
   ],
   "source": [
    "test_ar.shape"
   ]
  },
  {
   "cell_type": "code",
   "execution_count": 152,
   "metadata": {},
   "outputs": [],
   "source": [
    "# generate forecasts\n",
    "output = model_fit.forecast(93) "
   ]
  },
  {
   "cell_type": "code",
   "execution_count": 153,
   "metadata": {},
   "outputs": [],
   "source": [
    "test_ar['arima'] = (pd.DataFrame(output[0])).values"
   ]
  },
  {
   "cell_type": "code",
   "execution_count": 154,
   "metadata": {},
   "outputs": [
    {
     "data": {
      "text/html": [
       "<div>\n",
       "<style scoped>\n",
       "    .dataframe tbody tr th:only-of-type {\n",
       "        vertical-align: middle;\n",
       "    }\n",
       "\n",
       "    .dataframe tbody tr th {\n",
       "        vertical-align: top;\n",
       "    }\n",
       "\n",
       "    .dataframe thead th {\n",
       "        text-align: right;\n",
       "    }\n",
       "</style>\n",
       "<table border=\"1\" class=\"dataframe\">\n",
       "  <thead>\n",
       "    <tr style=\"text-align: right;\">\n",
       "      <th></th>\n",
       "      <th>confirmed</th>\n",
       "      <th>date</th>\n",
       "      <th>arima</th>\n",
       "    </tr>\n",
       "  </thead>\n",
       "  <tbody>\n",
       "    <tr>\n",
       "      <th>2021-08-25</th>\n",
       "      <td>342329</td>\n",
       "      <td>2021-08-25</td>\n",
       "      <td>310617.224458</td>\n",
       "    </tr>\n",
       "    <tr>\n",
       "      <th>2021-08-26</th>\n",
       "      <td>344195</td>\n",
       "      <td>2021-08-26</td>\n",
       "      <td>311223.657313</td>\n",
       "    </tr>\n",
       "    <tr>\n",
       "      <th>2021-08-27</th>\n",
       "      <td>346070</td>\n",
       "      <td>2021-08-27</td>\n",
       "      <td>311831.135952</td>\n",
       "    </tr>\n",
       "    <tr>\n",
       "      <th>2021-08-28</th>\n",
       "      <td>348067</td>\n",
       "      <td>2021-08-28</td>\n",
       "      <td>312439.660092</td>\n",
       "    </tr>\n",
       "    <tr>\n",
       "      <th>2021-08-29</th>\n",
       "      <td>349773</td>\n",
       "      <td>2021-08-29</td>\n",
       "      <td>313049.229674</td>\n",
       "    </tr>\n",
       "  </tbody>\n",
       "</table>\n",
       "</div>"
      ],
      "text/plain": [
       "            confirmed       date          arima\n",
       "2021-08-25     342329 2021-08-25  310617.224458\n",
       "2021-08-26     344195 2021-08-26  311223.657313\n",
       "2021-08-27     346070 2021-08-27  311831.135952\n",
       "2021-08-28     348067 2021-08-28  312439.660092\n",
       "2021-08-29     349773 2021-08-29  313049.229674"
      ]
     },
     "execution_count": 154,
     "metadata": {},
     "output_type": "execute_result"
    }
   ],
   "source": [
    "test_ar.tail()"
   ]
  },
  {
   "cell_type": "code",
   "execution_count": 155,
   "metadata": {},
   "outputs": [
    {
     "data": {
      "image/png": "[encoded data removed]",
      "text/plain": [
       "<Figure size 864x576 with 1 Axes>"
      ]
     },
     "metadata": {
      "needs_background": "light"
     },
     "output_type": "display_data"
    }
   ],
   "source": [
    "plt.figure(figsize=(12,8))\n",
    "\n",
    "plt.plot(train_ar.index, train_ar['confirmed'], label='train')\n",
    "plt.plot(test_ar.index, test_ar['confirmed'], label='test')\n",
    "plt.plot(test_ar.index, test_ar['arima'], label='predicted')\n",
    "\n",
    "plt.legend(loc='best')\n",
    "plt.title(\"ARIMA model\")\n",
    "plt.show()"
   ]
  },
  {
   "cell_type": "markdown",
   "metadata": {},
   "source": [
    "- Arima plot also shows good performance for the model as the predicted values and the validation data are very close"
   ]
  },
  {
   "cell_type": "markdown",
   "metadata": {},
   "source": [
    "##### Model assessment"
   ]
  },
  {
   "cell_type": "code",
   "execution_count": 156,
   "metadata": {},
   "outputs": [
    {
     "name": "stdout",
     "output_type": "stream",
     "text": [
      "RMSLE for Arima is: 4.0651147740355515\n"
     ]
    }
   ],
   "source": [
    "# predictions and evaluation\n",
    "\n",
    "score = rmsle(test_ar['confirmed'], test_ar['arima'])\n",
    "\n",
    "# results\n",
    "print('RMSLE for Arima is:', score)"
   ]
  },
  {
   "cell_type": "code",
   "execution_count": 157,
   "metadata": {},
   "outputs": [
    {
     "name": "stdout",
     "output_type": "stream",
     "text": [
      "MAPE for Arima is: 2.7977059429985496\n"
     ]
    }
   ],
   "source": [
    "#MAPE\n",
    "# MAPE(valid_ar['confirmed'], valid_ar['Arima'])\n",
    "print('MAPE for Arima is:', MAPE(test_ar['confirmed'], test_ar['arima']))"
   ]
  },
  {
   "cell_type": "code",
   "execution_count": null,
   "metadata": {},
   "outputs": [],
   "source": []
  },
  {
   "cell_type": "code",
   "execution_count": null,
   "metadata": {},
   "outputs": [],
   "source": []
  },
  {
   "cell_type": "code",
   "execution_count": null,
   "metadata": {},
   "outputs": [],
   "source": []
  },
  {
   "cell_type": "markdown",
   "metadata": {},
   "source": [
    "### SARIMA"
   ]
  },
  {
   "cell_type": "code",
   "execution_count": 158,
   "metadata": {},
   "outputs": [],
   "source": [
    "from statsmodels.tsa.statespace import sarimax\n",
    "from statsmodels.graphics.tsaplots import plot_acf, plot_pacf"
   ]
  },
  {
   "cell_type": "code",
   "execution_count": 159,
   "metadata": {},
   "outputs": [],
   "source": [
    "train_sa = data_train[['confirmed','date']]\n",
    "test_sa = data_test[['confirmed','date']]"
   ]
  },
  {
   "cell_type": "code",
   "execution_count": 160,
   "metadata": {},
   "outputs": [
    {
     "name": "stdout",
     "output_type": "stream",
     "text": [
      " ARIMA(0,2,0)(0,0,0)[7]             : AIC=7082.020, Time=0.02 sec\n",
      " ARIMA(0,2,0)(0,0,1)[7]             : AIC=7083.881, Time=0.12 sec\n",
      " ARIMA(0,2,0)(0,0,2)[7]             : AIC=7085.075, Time=0.41 sec\n",
      " ARIMA(0,2,0)(1,0,0)[7]             : AIC=7083.943, Time=0.05 sec\n",
      " ARIMA(0,2,0)(1,0,1)[7]             : AIC=inf, Time=0.42 sec\n",
      " ARIMA(0,2,0)(1,0,2)[7]             : AIC=inf, Time=2.13 sec\n",
      " ARIMA(0,2,0)(2,0,0)[7]             : AIC=7085.250, Time=0.06 sec\n",
      " ARIMA(0,2,0)(2,0,1)[7]             : AIC=7086.988, Time=0.63 sec\n",
      " ARIMA(0,2,0)(2,0,2)[7]             : AIC=inf, Time=2.57 sec\n",
      " ARIMA(0,2,1)(0,0,0)[7]             : AIC=7033.476, Time=0.04 sec\n",
      " ARIMA(0,2,1)(0,0,1)[7]             : AIC=7035.363, Time=0.18 sec\n",
      " ARIMA(0,2,1)(0,0,2)[7]             : AIC=7036.806, Time=0.38 sec\n",
      " ARIMA(0,2,1)(1,0,0)[7]             : AIC=7035.476, Time=0.06 sec\n",
      " ARIMA(0,2,1)(1,0,1)[7]             : AIC=inf, Time=0.78 sec\n",
      " ARIMA(0,2,1)(1,0,2)[7]             : AIC=7038.922, Time=0.48 sec\n",
      " ARIMA(0,2,1)(2,0,0)[7]             : AIC=7036.901, Time=0.07 sec\n",
      " ARIMA(0,2,1)(2,0,1)[7]             : AIC=7038.891, Time=0.21 sec\n",
      " ARIMA(0,2,1)(2,0,2)[7]             : AIC=7040.357, Time=1.77 sec\n",
      " ARIMA(0,2,2)(0,0,0)[7]             : AIC=6989.959, Time=0.08 sec\n",
      " ARIMA(0,2,2)(0,0,1)[7]             : AIC=6990.819, Time=0.15 sec\n",
      " ARIMA(0,2,2)(0,0,2)[7]             : AIC=6992.301, Time=0.38 sec\n",
      " ARIMA(0,2,2)(1,0,0)[7]             : AIC=6990.901, Time=0.13 sec\n",
      " ARIMA(0,2,2)(1,0,1)[7]             : AIC=6992.699, Time=0.15 sec\n",
      " ARIMA(0,2,2)(1,0,2)[7]             : AIC=6994.296, Time=0.75 sec\n",
      " ARIMA(0,2,2)(2,0,0)[7]             : AIC=6992.277, Time=0.23 sec\n",
      " ARIMA(0,2,2)(2,0,1)[7]             : AIC=6994.256, Time=0.37 sec\n",
      " ARIMA(0,2,3)(0,0,0)[7]             : AIC=6989.075, Time=0.11 sec\n",
      " ARIMA(0,2,3)(0,0,1)[7]             : AIC=6989.889, Time=0.22 sec\n",
      " ARIMA(0,2,3)(0,0,2)[7]             : AIC=6991.384, Time=0.45 sec\n",
      " ARIMA(0,2,3)(1,0,0)[7]             : AIC=6990.452, Time=0.07 sec\n",
      " ARIMA(0,2,3)(1,0,1)[7]             : AIC=6991.531, Time=0.38 sec\n",
      " ARIMA(0,2,3)(2,0,0)[7]             : AIC=6991.363, Time=0.29 sec\n",
      " ARIMA(0,2,4)(0,0,0)[7]             : AIC=6975.046, Time=0.16 sec\n",
      " ARIMA(0,2,4)(0,0,1)[7]             : AIC=6973.917, Time=0.25 sec\n",
      " ARIMA(0,2,4)(1,0,0)[7]             : AIC=6973.822, Time=0.23 sec\n",
      " ARIMA(0,2,5)(0,0,0)[7]             : AIC=6973.744, Time=0.14 sec\n",
      " ARIMA(1,2,0)(0,0,0)[7]             : AIC=7007.103, Time=0.01 sec\n",
      " ARIMA(1,2,0)(0,0,1)[7]             : AIC=7008.984, Time=0.04 sec\n",
      " ARIMA(1,2,0)(0,0,2)[7]             : AIC=7010.659, Time=0.15 sec\n",
      " ARIMA(1,2,0)(1,0,0)[7]             : AIC=7008.990, Time=0.03 sec\n",
      " ARIMA(1,2,0)(1,0,1)[7]             : AIC=7010.884, Time=0.13 sec\n",
      " ARIMA(1,2,0)(1,0,2)[7]             : AIC=7012.648, Time=0.38 sec\n",
      " ARIMA(1,2,0)(2,0,0)[7]             : AIC=7010.630, Time=0.06 sec\n",
      " ARIMA(1,2,0)(2,0,1)[7]             : AIC=7012.620, Time=0.27 sec\n",
      " ARIMA(1,2,0)(2,0,2)[7]             : AIC=7013.973, Time=1.55 sec\n",
      " ARIMA(1,2,1)(0,0,0)[7]             : AIC=6995.066, Time=0.05 sec\n",
      " ARIMA(1,2,1)(0,0,1)[7]             : AIC=6995.183, Time=0.08 sec\n",
      " ARIMA(1,2,1)(0,0,2)[7]             : AIC=6996.994, Time=0.24 sec\n",
      " ARIMA(1,2,1)(1,0,0)[7]             : AIC=6995.160, Time=0.16 sec\n",
      " ARIMA(1,2,1)(1,0,1)[7]             : AIC=6996.925, Time=0.39 sec\n",
      " ARIMA(1,2,1)(1,0,2)[7]             : AIC=6998.869, Time=0.70 sec\n",
      " ARIMA(1,2,1)(2,0,0)[7]             : AIC=6996.971, Time=0.15 sec\n",
      " ARIMA(1,2,1)(2,0,1)[7]             : AIC=6998.846, Time=0.66 sec\n",
      " ARIMA(1,2,2)(0,0,0)[7]             : AIC=6986.749, Time=0.16 sec\n",
      " ARIMA(1,2,2)(0,0,1)[7]             : AIC=6987.387, Time=0.15 sec\n",
      " ARIMA(1,2,2)(0,0,2)[7]             : AIC=6988.904, Time=0.64 sec\n",
      " ARIMA(1,2,2)(1,0,0)[7]             : AIC=6987.185, Time=0.25 sec\n",
      " ARIMA(1,2,2)(1,0,1)[7]             : AIC=6988.931, Time=0.46 sec\n",
      " ARIMA(1,2,2)(2,0,0)[7]             : AIC=6988.911, Time=0.65 sec\n",
      " ARIMA(1,2,3)(0,0,0)[7]             : AIC=6987.879, Time=0.26 sec\n",
      " ARIMA(1,2,3)(0,0,1)[7]             : AIC=6988.401, Time=0.49 sec\n",
      " ARIMA(1,2,3)(1,0,0)[7]             : AIC=6988.462, Time=0.45 sec\n",
      " ARIMA(1,2,4)(0,0,0)[7]             : AIC=6973.504, Time=0.18 sec\n",
      " ARIMA(2,2,0)(0,0,0)[7]             : AIC=6991.895, Time=0.03 sec\n",
      " ARIMA(2,2,0)(0,0,1)[7]             : AIC=6991.338, Time=0.06 sec\n",
      " ARIMA(2,2,0)(0,0,2)[7]             : AIC=6993.121, Time=0.22 sec\n",
      " ARIMA(2,2,0)(1,0,0)[7]             : AIC=6991.474, Time=0.05 sec\n",
      " ARIMA(2,2,0)(1,0,1)[7]             : AIC=6993.153, Time=0.13 sec\n",
      " ARIMA(2,2,0)(1,0,2)[7]             : AIC=6995.119, Time=0.37 sec\n",
      " ARIMA(2,2,0)(2,0,0)[7]             : AIC=6993.126, Time=0.10 sec\n",
      " ARIMA(2,2,0)(2,0,1)[7]             : AIC=6995.104, Time=0.33 sec\n",
      " ARIMA(2,2,1)(0,0,0)[7]             : AIC=6986.713, Time=0.06 sec\n",
      " ARIMA(2,2,1)(0,0,1)[7]             : AIC=6987.072, Time=0.12 sec\n",
      " ARIMA(2,2,1)(0,0,2)[7]             : AIC=6988.983, Time=0.26 sec\n",
      " ARIMA(2,2,1)(1,0,0)[7]             : AIC=6987.128, Time=0.10 sec\n",
      " ARIMA(2,2,1)(1,0,1)[7]             : AIC=6988.987, Time=0.15 sec\n",
      " ARIMA(2,2,1)(2,0,0)[7]             : AIC=6988.996, Time=0.21 sec\n",
      " ARIMA(2,2,2)(0,0,0)[7]             : AIC=6986.676, Time=0.11 sec\n",
      " ARIMA(2,2,2)(0,0,1)[7]             : AIC=6987.271, Time=0.18 sec\n",
      " ARIMA(2,2,2)(1,0,0)[7]             : AIC=6987.145, Time=0.33 sec\n",
      " ARIMA(2,2,3)(0,0,0)[7]             : AIC=6980.942, Time=0.20 sec\n",
      " ARIMA(3,2,0)(0,0,0)[7]             : AIC=6991.613, Time=0.03 sec\n",
      " ARIMA(3,2,0)(0,0,1)[7]             : AIC=6991.150, Time=0.06 sec\n",
      " ARIMA(3,2,0)(0,0,2)[7]             : AIC=6992.913, Time=0.25 sec\n",
      " ARIMA(3,2,0)(1,0,0)[7]             : AIC=6991.285, Time=0.07 sec\n",
      " ARIMA(3,2,0)(1,0,1)[7]             : AIC=6992.938, Time=0.16 sec\n",
      " ARIMA(3,2,0)(2,0,0)[7]             : AIC=6992.929, Time=0.15 sec\n",
      " ARIMA(3,2,1)(0,0,0)[7]             : AIC=6988.486, Time=0.09 sec\n",
      " ARIMA(3,2,1)(0,0,1)[7]             : AIC=6988.938, Time=0.13 sec\n",
      " ARIMA(3,2,1)(1,0,0)[7]             : AIC=6988.875, Time=0.28 sec\n",
      " ARIMA(3,2,2)(0,0,0)[7]             : AIC=6971.112, Time=0.29 sec\n",
      " ARIMA(4,2,0)(0,0,0)[7]             : AIC=6976.637, Time=0.04 sec\n",
      " ARIMA(4,2,0)(0,0,1)[7]             : AIC=6977.141, Time=0.08 sec\n",
      " ARIMA(4,2,0)(1,0,0)[7]             : AIC=6977.155, Time=0.09 sec\n",
      " ARIMA(4,2,1)(0,0,0)[7]             : AIC=6978.571, Time=0.08 sec\n",
      " ARIMA(5,2,0)(0,0,0)[7]             : AIC=6978.433, Time=0.05 sec\n",
      "\n",
      "Best model:  ARIMA(3,2,2)(0,0,0)[7]          \n",
      "Total fit time: 28.633 seconds\n"
     ]
    }
   ],
   "source": [
    "#forecasting model\n",
    "model = auto_arima(y = train_sa['confirmed'],\n",
    "                   m = 7, #seasonal perod of 7 days\n",
    "                   seasonal = True,\n",
    "                   stepwise = False,\n",
    "                  trace=True)"
   ]
  },
  {
   "cell_type": "code",
   "execution_count": 161,
   "metadata": {},
   "outputs": [],
   "source": [
    "#training the model\n",
    "model = sarimax.SARIMAX(train_sa['confirmed'], seasonal_order=(0,0,0,7), order=(3,2,2))\n",
    "fit1 = model.fit()"
   ]
  },
  {
   "cell_type": "code",
   "execution_count": 162,
   "metadata": {},
   "outputs": [
    {
     "data": {
      "text/html": [
       "<div>\n",
       "<style scoped>\n",
       "    .dataframe tbody tr th:only-of-type {\n",
       "        vertical-align: middle;\n",
       "    }\n",
       "\n",
       "    .dataframe tbody tr th {\n",
       "        vertical-align: top;\n",
       "    }\n",
       "\n",
       "    .dataframe thead th {\n",
       "        text-align: right;\n",
       "    }\n",
       "</style>\n",
       "<table border=\"1\" class=\"dataframe\">\n",
       "  <thead>\n",
       "    <tr style=\"text-align: right;\">\n",
       "      <th></th>\n",
       "      <th>confirmed</th>\n",
       "      <th>date</th>\n",
       "    </tr>\n",
       "  </thead>\n",
       "  <tbody>\n",
       "    <tr>\n",
       "      <th>2021-05-29</th>\n",
       "      <td>261306</td>\n",
       "      <td>2021-05-29</td>\n",
       "    </tr>\n",
       "    <tr>\n",
       "      <th>2021-05-30</th>\n",
       "      <td>261673</td>\n",
       "      <td>2021-05-30</td>\n",
       "    </tr>\n",
       "    <tr>\n",
       "      <th>2021-05-31</th>\n",
       "      <td>262043</td>\n",
       "      <td>2021-05-31</td>\n",
       "    </tr>\n",
       "    <tr>\n",
       "      <th>2021-06-01</th>\n",
       "      <td>262380</td>\n",
       "      <td>2021-06-01</td>\n",
       "    </tr>\n",
       "    <tr>\n",
       "      <th>2021-06-02</th>\n",
       "      <td>262787</td>\n",
       "      <td>2021-06-02</td>\n",
       "    </tr>\n",
       "  </tbody>\n",
       "</table>\n",
       "</div>"
      ],
      "text/plain": [
       "            confirmed       date\n",
       "2021-05-29     261306 2021-05-29\n",
       "2021-05-30     261673 2021-05-30\n",
       "2021-05-31     262043 2021-05-31\n",
       "2021-06-01     262380 2021-06-01\n",
       "2021-06-02     262787 2021-06-02"
      ]
     },
     "execution_count": 162,
     "metadata": {},
     "output_type": "execute_result"
    }
   ],
   "source": [
    "test_sa.head()"
   ]
  },
  {
   "cell_type": "code",
   "execution_count": 163,
   "metadata": {},
   "outputs": [
    {
     "data": {
      "text/html": [
       "<div>\n",
       "<style scoped>\n",
       "    .dataframe tbody tr th:only-of-type {\n",
       "        vertical-align: middle;\n",
       "    }\n",
       "\n",
       "    .dataframe tbody tr th {\n",
       "        vertical-align: top;\n",
       "    }\n",
       "\n",
       "    .dataframe thead th {\n",
       "        text-align: right;\n",
       "    }\n",
       "</style>\n",
       "<table border=\"1\" class=\"dataframe\">\n",
       "  <thead>\n",
       "    <tr style=\"text-align: right;\">\n",
       "      <th></th>\n",
       "      <th>confirmed</th>\n",
       "      <th>date</th>\n",
       "    </tr>\n",
       "  </thead>\n",
       "  <tbody>\n",
       "    <tr>\n",
       "      <th>2021-08-25</th>\n",
       "      <td>342329</td>\n",
       "      <td>2021-08-25</td>\n",
       "    </tr>\n",
       "    <tr>\n",
       "      <th>2021-08-26</th>\n",
       "      <td>344195</td>\n",
       "      <td>2021-08-26</td>\n",
       "    </tr>\n",
       "    <tr>\n",
       "      <th>2021-08-27</th>\n",
       "      <td>346070</td>\n",
       "      <td>2021-08-27</td>\n",
       "    </tr>\n",
       "    <tr>\n",
       "      <th>2021-08-28</th>\n",
       "      <td>348067</td>\n",
       "      <td>2021-08-28</td>\n",
       "    </tr>\n",
       "    <tr>\n",
       "      <th>2021-08-29</th>\n",
       "      <td>349773</td>\n",
       "      <td>2021-08-29</td>\n",
       "    </tr>\n",
       "  </tbody>\n",
       "</table>\n",
       "</div>"
      ],
      "text/plain": [
       "            confirmed       date\n",
       "2021-08-25     342329 2021-08-25\n",
       "2021-08-26     344195 2021-08-26\n",
       "2021-08-27     346070 2021-08-27\n",
       "2021-08-28     348067 2021-08-28\n",
       "2021-08-29     349773 2021-08-29"
      ]
     },
     "execution_count": 163,
     "metadata": {},
     "output_type": "execute_result"
    }
   ],
   "source": [
    "test_sa.tail()"
   ]
  },
  {
   "cell_type": "code",
   "execution_count": 164,
   "metadata": {},
   "outputs": [],
   "source": [
    "# make predictions\n",
    "test_sa['sarima'] = fit1.predict(start=\"2021-05-29\", end=\"2021-08-29\", dynamic=True)"
   ]
  },
  {
   "cell_type": "markdown",
   "metadata": {},
   "source": [
    "##### model assessment"
   ]
  },
  {
   "cell_type": "code",
   "execution_count": 165,
   "metadata": {},
   "outputs": [
    {
     "data": {
      "image/png": "[encoded data removed]",
      "text/plain": [
       "<Figure size 864x576 with 1 Axes>"
      ]
     },
     "metadata": {
      "needs_background": "light"
     },
     "output_type": "display_data"
    }
   ],
   "source": [
    "plt.figure(figsize=(12,8))\n",
    "\n",
    "plt.plot(train_sa['confirmed'],  label='train') \n",
    "plt.plot(test_sa['confirmed'],  label='test')\n",
    "plt.plot(test_sa['sarima'],  label='predicted') \n",
    "plt.legend(loc='best') \n",
    "plt.title(\"SARIMA model\")\n",
    "plt.show()"
   ]
  },
  {
   "cell_type": "markdown",
   "metadata": {},
   "source": [
    "- plot for Sarima model shows good performance as the predicted values are close to the validation data"
   ]
  },
  {
   "cell_type": "code",
   "execution_count": 166,
   "metadata": {},
   "outputs": [],
   "source": [
    "# # calculating RMSE \n",
    "# rmse = round(sqrt(mean_squared_error(valid_sar['confirmed'], valid_sar['SARIMA'])))\n",
    "# print('The RMSE value for SARIMA is', rmse)"
   ]
  },
  {
   "cell_type": "code",
   "execution_count": 167,
   "metadata": {},
   "outputs": [
    {
     "name": "stdout",
     "output_type": "stream",
     "text": [
      "RMSLE for Sarima is: 4.623716743711346\n"
     ]
    }
   ],
   "source": [
    "# predictions and evaluation\n",
    "\n",
    "score = rmsle(test_sa['confirmed'], test_sa['sarima'])\n",
    "\n",
    "# sarima results\n",
    "print('RMSLE for Sarima is:', score)"
   ]
  },
  {
   "cell_type": "code",
   "execution_count": 168,
   "metadata": {},
   "outputs": [
    {
     "name": "stdout",
     "output_type": "stream",
     "text": [
      "MAPE for Sarima is: 3.0564190637283177\n"
     ]
    }
   ],
   "source": [
    "#MAPE\n",
    "# MAPE(valid_ar['confirmed'], valid_ar['Arima'])\n",
    "print('MAPE for Sarima is:', MAPE(test_sa['confirmed'], test_sa['sarima']))"
   ]
  },
  {
   "cell_type": "code",
   "execution_count": null,
   "metadata": {},
   "outputs": [],
   "source": []
  },
  {
   "cell_type": "markdown",
   "metadata": {},
   "source": [
    "# Structure of the Notebook\n",
    "\n",
    "1. Problem Statement\n",
    "2. Data Preprocessing(Outliers & Missing values)\n",
    "3. Feature extraction and exploration\n",
    "4. Data Split into Training, Validation and Test data\n",
    "5. Time Series Forecasting models\n",
    "6. Machine Learning models\n",
    "7. Forecast for next 3 months"
   ]
  },
  {
   "cell_type": "markdown",
   "metadata": {},
   "source": [
    "# 6. Building ML Models"
   ]
  },
  {
   "cell_type": "code",
   "execution_count": 169,
   "metadata": {},
   "outputs": [
    {
     "data": {
      "text/html": [
       "<div>\n",
       "<style scoped>\n",
       "    .dataframe tbody tr th:only-of-type {\n",
       "        vertical-align: middle;\n",
       "    }\n",
       "\n",
       "    .dataframe tbody tr th {\n",
       "        vertical-align: top;\n",
       "    }\n",
       "\n",
       "    .dataframe thead th {\n",
       "        text-align: right;\n",
       "    }\n",
       "</style>\n",
       "<table border=\"1\" class=\"dataframe\">\n",
       "  <thead>\n",
       "    <tr style=\"text-align: right;\">\n",
       "      <th></th>\n",
       "      <th>year</th>\n",
       "      <th>month</th>\n",
       "      <th>day</th>\n",
       "      <th>weekday</th>\n",
       "      <th>weekday_name</th>\n",
       "      <th>dayofyear</th>\n",
       "      <th>week</th>\n",
       "      <th>quarter</th>\n",
       "      <th>date</th>\n",
       "      <th>confirmed</th>\n",
       "    </tr>\n",
       "  </thead>\n",
       "  <tbody>\n",
       "    <tr>\n",
       "      <th>2020-01-22</th>\n",
       "      <td>2020</td>\n",
       "      <td>1</td>\n",
       "      <td>22</td>\n",
       "      <td>2</td>\n",
       "      <td>Wednesday</td>\n",
       "      <td>22</td>\n",
       "      <td>4</td>\n",
       "      <td>1</td>\n",
       "      <td>2020-01-22</td>\n",
       "      <td>0</td>\n",
       "    </tr>\n",
       "    <tr>\n",
       "      <th>2020-01-23</th>\n",
       "      <td>2020</td>\n",
       "      <td>1</td>\n",
       "      <td>23</td>\n",
       "      <td>3</td>\n",
       "      <td>Thursday</td>\n",
       "      <td>23</td>\n",
       "      <td>4</td>\n",
       "      <td>1</td>\n",
       "      <td>2020-01-23</td>\n",
       "      <td>0</td>\n",
       "    </tr>\n",
       "    <tr>\n",
       "      <th>2020-01-24</th>\n",
       "      <td>2020</td>\n",
       "      <td>1</td>\n",
       "      <td>24</td>\n",
       "      <td>4</td>\n",
       "      <td>Friday</td>\n",
       "      <td>24</td>\n",
       "      <td>4</td>\n",
       "      <td>1</td>\n",
       "      <td>2020-01-24</td>\n",
       "      <td>0</td>\n",
       "    </tr>\n",
       "    <tr>\n",
       "      <th>2020-01-25</th>\n",
       "      <td>2020</td>\n",
       "      <td>1</td>\n",
       "      <td>25</td>\n",
       "      <td>5</td>\n",
       "      <td>Saturday</td>\n",
       "      <td>25</td>\n",
       "      <td>4</td>\n",
       "      <td>1</td>\n",
       "      <td>2020-01-25</td>\n",
       "      <td>0</td>\n",
       "    </tr>\n",
       "    <tr>\n",
       "      <th>2020-01-26</th>\n",
       "      <td>2020</td>\n",
       "      <td>1</td>\n",
       "      <td>26</td>\n",
       "      <td>6</td>\n",
       "      <td>Sunday</td>\n",
       "      <td>26</td>\n",
       "      <td>4</td>\n",
       "      <td>1</td>\n",
       "      <td>2020-01-26</td>\n",
       "      <td>0</td>\n",
       "    </tr>\n",
       "  </tbody>\n",
       "</table>\n",
       "</div>"
      ],
      "text/plain": [
       "            year  month  day  weekday weekday_name  dayofyear  week  quarter  \\\n",
       "2020-01-22  2020      1   22        2    Wednesday         22     4        1   \n",
       "2020-01-23  2020      1   23        3     Thursday         23     4        1   \n",
       "2020-01-24  2020      1   24        4       Friday         24     4        1   \n",
       "2020-01-25  2020      1   25        5     Saturday         25     4        1   \n",
       "2020-01-26  2020      1   26        6       Sunday         26     4        1   \n",
       "\n",
       "                 date  confirmed  \n",
       "2020-01-22 2020-01-22          0  \n",
       "2020-01-23 2020-01-23          0  \n",
       "2020-01-24 2020-01-24          0  \n",
       "2020-01-25 2020-01-25          0  \n",
       "2020-01-26 2020-01-26          0  "
      ]
     },
     "execution_count": 169,
     "metadata": {},
     "output_type": "execute_result"
    }
   ],
   "source": [
    "#Table contains valuable features extracted from the data in order to find out the data patterns and explore the data\n",
    "#We will use those features for this model\n",
    "#So this is considered as feature-based timeseries data and build ML models using these features\n",
    "complete_data.head()"
   ]
  },
  {
   "cell_type": "code",
   "execution_count": 170,
   "metadata": {},
   "outputs": [],
   "source": [
    "# complete_data['date'] = pd.to_datetime(complete_data['date'])\n",
    "# # valid['date'] = pd.to_datetime(valid['date'])"
   ]
  },
  {
   "cell_type": "code",
   "execution_count": 171,
   "metadata": {},
   "outputs": [
    {
     "data": {
      "text/plain": [
       "year                     int64\n",
       "month                    int64\n",
       "day                      int64\n",
       "weekday                  int64\n",
       "weekday_name            object\n",
       "dayofyear                int64\n",
       "week                     int64\n",
       "quarter                  int64\n",
       "date            datetime64[ns]\n",
       "confirmed                int64\n",
       "dtype: object"
      ]
     },
     "execution_count": 171,
     "metadata": {},
     "output_type": "execute_result"
    }
   ],
   "source": [
    "complete_data.dtypes"
   ]
  },
  {
   "cell_type": "code",
   "execution_count": 172,
   "metadata": {},
   "outputs": [],
   "source": [
    "#train, validation, data_test"
   ]
  },
  {
   "cell_type": "code",
   "execution_count": 173,
   "metadata": {},
   "outputs": [
    {
     "data": {
      "text/html": [
       "<div>\n",
       "<style scoped>\n",
       "    .dataframe tbody tr th:only-of-type {\n",
       "        vertical-align: middle;\n",
       "    }\n",
       "\n",
       "    .dataframe tbody tr th {\n",
       "        vertical-align: top;\n",
       "    }\n",
       "\n",
       "    .dataframe thead th {\n",
       "        text-align: right;\n",
       "    }\n",
       "</style>\n",
       "<table border=\"1\" class=\"dataframe\">\n",
       "  <thead>\n",
       "    <tr style=\"text-align: right;\">\n",
       "      <th></th>\n",
       "      <th>year</th>\n",
       "      <th>month</th>\n",
       "      <th>day</th>\n",
       "      <th>weekday</th>\n",
       "      <th>weekday_name</th>\n",
       "      <th>dayofyear</th>\n",
       "      <th>week</th>\n",
       "      <th>quarter</th>\n",
       "      <th>date</th>\n",
       "      <th>confirmed</th>\n",
       "    </tr>\n",
       "  </thead>\n",
       "  <tbody>\n",
       "    <tr>\n",
       "      <th>2020-01-22</th>\n",
       "      <td>2020</td>\n",
       "      <td>1</td>\n",
       "      <td>22</td>\n",
       "      <td>2</td>\n",
       "      <td>Wednesday</td>\n",
       "      <td>22</td>\n",
       "      <td>4</td>\n",
       "      <td>1</td>\n",
       "      <td>2020-01-22</td>\n",
       "      <td>0</td>\n",
       "    </tr>\n",
       "    <tr>\n",
       "      <th>2020-01-23</th>\n",
       "      <td>2020</td>\n",
       "      <td>1</td>\n",
       "      <td>23</td>\n",
       "      <td>3</td>\n",
       "      <td>Thursday</td>\n",
       "      <td>23</td>\n",
       "      <td>4</td>\n",
       "      <td>1</td>\n",
       "      <td>2020-01-23</td>\n",
       "      <td>0</td>\n",
       "    </tr>\n",
       "  </tbody>\n",
       "</table>\n",
       "</div>"
      ],
      "text/plain": [
       "            year  month  day  weekday weekday_name  dayofyear  week  quarter  \\\n",
       "2020-01-22  2020      1   22        2    Wednesday         22     4        1   \n",
       "2020-01-23  2020      1   23        3     Thursday         23     4        1   \n",
       "\n",
       "                 date  confirmed  \n",
       "2020-01-22 2020-01-22          0  \n",
       "2020-01-23 2020-01-23          0  "
      ]
     },
     "execution_count": 173,
     "metadata": {},
     "output_type": "execute_result"
    }
   ],
   "source": [
    "data_train.head(2)"
   ]
  },
  {
   "cell_type": "code",
   "execution_count": 174,
   "metadata": {},
   "outputs": [
    {
     "data": {
      "text/html": [
       "<div>\n",
       "<style scoped>\n",
       "    .dataframe tbody tr th:only-of-type {\n",
       "        vertical-align: middle;\n",
       "    }\n",
       "\n",
       "    .dataframe tbody tr th {\n",
       "        vertical-align: top;\n",
       "    }\n",
       "\n",
       "    .dataframe thead th {\n",
       "        text-align: right;\n",
       "    }\n",
       "</style>\n",
       "<table border=\"1\" class=\"dataframe\">\n",
       "  <thead>\n",
       "    <tr style=\"text-align: right;\">\n",
       "      <th></th>\n",
       "      <th>year</th>\n",
       "      <th>month</th>\n",
       "      <th>day</th>\n",
       "      <th>weekday</th>\n",
       "      <th>weekday_name</th>\n",
       "      <th>dayofyear</th>\n",
       "      <th>week</th>\n",
       "      <th>quarter</th>\n",
       "      <th>date</th>\n",
       "      <th>confirmed</th>\n",
       "    </tr>\n",
       "  </thead>\n",
       "  <tbody>\n",
       "    <tr>\n",
       "      <th>2021-08-28</th>\n",
       "      <td>2021</td>\n",
       "      <td>8</td>\n",
       "      <td>28</td>\n",
       "      <td>5</td>\n",
       "      <td>Saturday</td>\n",
       "      <td>240</td>\n",
       "      <td>34</td>\n",
       "      <td>3</td>\n",
       "      <td>2021-08-28</td>\n",
       "      <td>348067</td>\n",
       "    </tr>\n",
       "    <tr>\n",
       "      <th>2021-08-29</th>\n",
       "      <td>2021</td>\n",
       "      <td>8</td>\n",
       "      <td>29</td>\n",
       "      <td>6</td>\n",
       "      <td>Sunday</td>\n",
       "      <td>241</td>\n",
       "      <td>34</td>\n",
       "      <td>3</td>\n",
       "      <td>2021-08-29</td>\n",
       "      <td>349773</td>\n",
       "    </tr>\n",
       "  </tbody>\n",
       "</table>\n",
       "</div>"
      ],
      "text/plain": [
       "            year  month  day  weekday weekday_name  dayofyear  week  quarter  \\\n",
       "2021-08-28  2021      8   28        5     Saturday        240    34        3   \n",
       "2021-08-29  2021      8   29        6       Sunday        241    34        3   \n",
       "\n",
       "                 date  confirmed  \n",
       "2021-08-28 2021-08-28     348067  \n",
       "2021-08-29 2021-08-29     349773  "
      ]
     },
     "execution_count": 174,
     "metadata": {},
     "output_type": "execute_result"
    }
   ],
   "source": [
    "data_test.tail(2)"
   ]
  },
  {
   "cell_type": "code",
   "execution_count": 175,
   "metadata": {},
   "outputs": [],
   "source": [
    "# train.set_index('date')\n",
    "# train.set_index('date',inplace=True)\n",
    "# complete_data.index=complete_data['date']"
   ]
  },
  {
   "cell_type": "markdown",
   "metadata": {},
   "source": [
    "### Linear Regression Model"
   ]
  },
  {
   "cell_type": "code",
   "execution_count": 176,
   "metadata": {},
   "outputs": [],
   "source": [
    "from sklearn.linear_model import LinearRegression"
   ]
  },
  {
   "cell_type": "code",
   "execution_count": 177,
   "metadata": {},
   "outputs": [
    {
     "data": {
      "text/html": [
       "<div>\n",
       "<style scoped>\n",
       "    .dataframe tbody tr th:only-of-type {\n",
       "        vertical-align: middle;\n",
       "    }\n",
       "\n",
       "    .dataframe tbody tr th {\n",
       "        vertical-align: top;\n",
       "    }\n",
       "\n",
       "    .dataframe thead th {\n",
       "        text-align: right;\n",
       "    }\n",
       "</style>\n",
       "<table border=\"1\" class=\"dataframe\">\n",
       "  <thead>\n",
       "    <tr style=\"text-align: right;\">\n",
       "      <th></th>\n",
       "      <th>year</th>\n",
       "      <th>month</th>\n",
       "      <th>day</th>\n",
       "      <th>weekday</th>\n",
       "      <th>weekday_name</th>\n",
       "      <th>dayofyear</th>\n",
       "      <th>week</th>\n",
       "      <th>quarter</th>\n",
       "      <th>date</th>\n",
       "      <th>confirmed</th>\n",
       "    </tr>\n",
       "  </thead>\n",
       "  <tbody>\n",
       "    <tr>\n",
       "      <th>2020-01-22</th>\n",
       "      <td>2020</td>\n",
       "      <td>1</td>\n",
       "      <td>22</td>\n",
       "      <td>2</td>\n",
       "      <td>Wednesday</td>\n",
       "      <td>22</td>\n",
       "      <td>4</td>\n",
       "      <td>1</td>\n",
       "      <td>2020-01-22</td>\n",
       "      <td>0</td>\n",
       "    </tr>\n",
       "  </tbody>\n",
       "</table>\n",
       "</div>"
      ],
      "text/plain": [
       "            year  month  day  weekday weekday_name  dayofyear  week  quarter  \\\n",
       "2020-01-22  2020      1   22        2    Wednesday         22     4        1   \n",
       "\n",
       "                 date  confirmed  \n",
       "2020-01-22 2020-01-22          0  "
      ]
     },
     "execution_count": 177,
     "metadata": {},
     "output_type": "execute_result"
    }
   ],
   "source": [
    "#using the train, validation, data_test\n",
    "train_lr=data_train\n",
    "test_lr=data_test\n",
    "\n",
    "\n",
    "train_lr.head(1)"
   ]
  },
  {
   "cell_type": "code",
   "execution_count": 182,
   "metadata": {},
   "outputs": [],
   "source": [
    "# separating features and target variable\n",
    "#here the x-train and y-train separate the features and the target variables\n",
    "#then using the x-train and y-train for model training and making predictions on the validation data\n",
    "#then use the rmsle function to find out the rmsle value for the regression\n",
    "#that results in 44.7\n",
    "x_train = train_lr.drop(['confirmed','date','weekday_name'], axis=1)\n",
    "y_train = train_lr['confirmed']\n",
    "\n",
    "x_test = test_lr.drop(['confirmed','date','weekday_name'], axis=1)\n",
    "y_test = test_lr['confirmed']"
   ]
  },
  {
   "cell_type": "code",
   "execution_count": 183,
   "metadata": {},
   "outputs": [
    {
     "data": {
      "text/html": [
       "<div>\n",
       "<style scoped>\n",
       "    .dataframe tbody tr th:only-of-type {\n",
       "        vertical-align: middle;\n",
       "    }\n",
       "\n",
       "    .dataframe tbody tr th {\n",
       "        vertical-align: top;\n",
       "    }\n",
       "\n",
       "    .dataframe thead th {\n",
       "        text-align: right;\n",
       "    }\n",
       "</style>\n",
       "<table border=\"1\" class=\"dataframe\">\n",
       "  <thead>\n",
       "    <tr style=\"text-align: right;\">\n",
       "      <th></th>\n",
       "      <th>year</th>\n",
       "      <th>month</th>\n",
       "      <th>day</th>\n",
       "      <th>weekday</th>\n",
       "      <th>dayofyear</th>\n",
       "      <th>week</th>\n",
       "      <th>quarter</th>\n",
       "    </tr>\n",
       "  </thead>\n",
       "  <tbody>\n",
       "    <tr>\n",
       "      <th>2020-01-22</th>\n",
       "      <td>2020</td>\n",
       "      <td>1</td>\n",
       "      <td>22</td>\n",
       "      <td>2</td>\n",
       "      <td>22</td>\n",
       "      <td>4</td>\n",
       "      <td>1</td>\n",
       "    </tr>\n",
       "    <tr>\n",
       "      <th>2020-01-23</th>\n",
       "      <td>2020</td>\n",
       "      <td>1</td>\n",
       "      <td>23</td>\n",
       "      <td>3</td>\n",
       "      <td>23</td>\n",
       "      <td>4</td>\n",
       "      <td>1</td>\n",
       "    </tr>\n",
       "  </tbody>\n",
       "</table>\n",
       "</div>"
      ],
      "text/plain": [
       "            year  month  day  weekday  dayofyear  week  quarter\n",
       "2020-01-22  2020      1   22        2         22     4        1\n",
       "2020-01-23  2020      1   23        3         23     4        1"
      ]
     },
     "execution_count": 183,
     "metadata": {},
     "output_type": "execute_result"
    }
   ],
   "source": [
    "x_train.head(2)"
   ]
  },
  {
   "cell_type": "code",
   "execution_count": 184,
   "metadata": {},
   "outputs": [
    {
     "data": {
      "text/plain": [
       "2020-01-22    0\n",
       "2020-01-23    0\n",
       "Freq: D, Name: confirmed, dtype: int64"
      ]
     },
     "execution_count": 184,
     "metadata": {},
     "output_type": "execute_result"
    }
   ],
   "source": [
    "y_train.head(2)"
   ]
  },
  {
   "cell_type": "code",
   "execution_count": 186,
   "metadata": {},
   "outputs": [],
   "source": [
    "#training the model\n",
    "model = LinearRegression(normalize=True)\n",
    "model.fit(x_train, y_train)\n",
    "preds = model.predict(x_test)"
   ]
  },
  {
   "cell_type": "markdown",
   "metadata": {},
   "source": [
    "##### model assessment"
   ]
  },
  {
   "cell_type": "code",
   "execution_count": 187,
   "metadata": {},
   "outputs": [
    {
     "name": "stdout",
     "output_type": "stream",
     "text": [
      "RMSLE for Linear Regression is 13.548106491307593\n"
     ]
    }
   ],
   "source": [
    "# RMSLE results\n",
    "score = rmsle(y_test, preds)\n",
    "\n",
    "print('RMSLE for Linear Regression is', score)"
   ]
  },
  {
   "cell_type": "code",
   "execution_count": 188,
   "metadata": {},
   "outputs": [
    {
     "name": "stdout",
     "output_type": "stream",
     "text": [
      "MAPE for Linear Regression is: 11.031711976085036\n"
     ]
    }
   ],
   "source": [
    "#MAPE\n",
    "print('MAPE for Linear Regression is:', MAPE(y_test, preds))"
   ]
  },
  {
   "cell_type": "code",
   "execution_count": 189,
   "metadata": {},
   "outputs": [
    {
     "data": {
      "text/html": [
       "<div>\n",
       "<style scoped>\n",
       "    .dataframe tbody tr th:only-of-type {\n",
       "        vertical-align: middle;\n",
       "    }\n",
       "\n",
       "    .dataframe tbody tr th {\n",
       "        vertical-align: top;\n",
       "    }\n",
       "\n",
       "    .dataframe thead th {\n",
       "        text-align: right;\n",
       "    }\n",
       "</style>\n",
       "<table border=\"1\" class=\"dataframe\">\n",
       "  <thead>\n",
       "    <tr style=\"text-align: right;\">\n",
       "      <th></th>\n",
       "      <th>Feature</th>\n",
       "      <th>coeff</th>\n",
       "    </tr>\n",
       "  </thead>\n",
       "  <tbody>\n",
       "    <tr>\n",
       "      <th>0</th>\n",
       "      <td>year</td>\n",
       "      <td>213976.927537</td>\n",
       "    </tr>\n",
       "    <tr>\n",
       "      <th>1</th>\n",
       "      <td>month</td>\n",
       "      <td>287030.723979</td>\n",
       "    </tr>\n",
       "    <tr>\n",
       "      <th>2</th>\n",
       "      <td>day</td>\n",
       "      <td>9543.692866</td>\n",
       "    </tr>\n",
       "    <tr>\n",
       "      <th>3</th>\n",
       "      <td>weekday</td>\n",
       "      <td>-22.433948</td>\n",
       "    </tr>\n",
       "    <tr>\n",
       "      <th>4</th>\n",
       "      <td>dayofyear</td>\n",
       "      <td>-8845.719451</td>\n",
       "    </tr>\n",
       "    <tr>\n",
       "      <th>5</th>\n",
       "      <td>week</td>\n",
       "      <td>-1719.571678</td>\n",
       "    </tr>\n",
       "    <tr>\n",
       "      <th>6</th>\n",
       "      <td>quarter</td>\n",
       "      <td>-6282.103706</td>\n",
       "    </tr>\n",
       "  </tbody>\n",
       "</table>\n",
       "</div>"
      ],
      "text/plain": [
       "     Feature          coeff\n",
       "0       year  213976.927537\n",
       "1      month  287030.723979\n",
       "2        day    9543.692866\n",
       "3    weekday     -22.433948\n",
       "4  dayofyear   -8845.719451\n",
       "5       week   -1719.571678\n",
       "6    quarter   -6282.103706"
      ]
     },
     "execution_count": 189,
     "metadata": {},
     "output_type": "execute_result"
    }
   ],
   "source": [
    "#looking at the feature importance which are given by the linear regression model\n",
    "#we observe that the year has the highest coefficient value\n",
    "#that is, it was the most useful feature for making the prediction\n",
    "feature_coeff = pd.DataFrame(zip(x_train.columns, model.coef_), columns=['Feature', 'coeff'])\n",
    "feature_coeff"
   ]
  },
  {
   "cell_type": "code",
   "execution_count": 190,
   "metadata": {},
   "outputs": [
    {
     "data": {
      "text/plain": [
       "<BarContainer object of 7 artists>"
      ]
     },
     "execution_count": 190,
     "metadata": {},
     "output_type": "execute_result"
    },
    {
     "data": {
      "image/png": "[encoded data removed]",
      "text/plain": [
       "<Figure size 432x288 with 1 Axes>"
      ]
     },
     "metadata": {
      "needs_background": "light"
     },
     "output_type": "display_data"
    }
   ],
   "source": [
    "plt.bar(feature_coeff['Feature'], feature_coeff['coeff'])"
   ]
  },
  {
   "cell_type": "code",
   "execution_count": 191,
   "metadata": {},
   "outputs": [
    {
     "data": {
      "image/png": "[encoded data removed]",
      "text/plain": [
       "<Figure size 864x576 with 1 Axes>"
      ]
     },
     "metadata": {
      "needs_background": "light"
     },
     "output_type": "display_data"
    }
   ],
   "source": [
    "\n",
    "plt.figure(figsize=(12,8))\n",
    "plt.plot(train_lr.index, train_lr['confirmed'], label = 'train')\n",
    "plt.plot(test_lr.index, test_lr['confirmed'], label = 'test')\n",
    "plt.plot(test_lr.index, preds, label = 'preds')\n",
    "plt.title(\"Linear Regression model\")\n",
    "plt.show()"
   ]
  },
  {
   "cell_type": "markdown",
   "metadata": {},
   "source": [
    "- The model captures increasing trend as other models but also shows decreasing trend at some points"
   ]
  },
  {
   "cell_type": "code",
   "execution_count": null,
   "metadata": {},
   "outputs": [],
   "source": []
  },
  {
   "cell_type": "markdown",
   "metadata": {},
   "source": [
    "### Random Forest"
   ]
  },
  {
   "cell_type": "code",
   "execution_count": 192,
   "metadata": {},
   "outputs": [],
   "source": [
    "from sklearn.ensemble import RandomForestRegressor"
   ]
  },
  {
   "cell_type": "code",
   "execution_count": 193,
   "metadata": {},
   "outputs": [
    {
     "data": {
      "text/plain": [
       "RandomForestRegressor(max_depth=7, min_samples_split=25, random_state=0)"
      ]
     },
     "execution_count": 193,
     "metadata": {},
     "output_type": "execute_result"
    }
   ],
   "source": [
    "#training the model\n",
    "#train the model on the x-train and the y-train created above\n",
    "model = RandomForestRegressor(n_estimators=100, max_depth=7, min_samples_split = 25, random_state=0)\n",
    "model.fit(x_train, y_train)"
   ]
  },
  {
   "cell_type": "markdown",
   "metadata": {},
   "source": [
    "##### model assessment"
   ]
  },
  {
   "cell_type": "code",
   "execution_count": 194,
   "metadata": {},
   "outputs": [],
   "source": [
    "# predictions and evaluation\n",
    "preds = model.predict(x_test)"
   ]
  },
  {
   "cell_type": "code",
   "execution_count": 195,
   "metadata": {},
   "outputs": [
    {
     "name": "stdout",
     "output_type": "stream",
     "text": [
      "RMSLE for Random Forest Regression is 15.495370783357945\n"
     ]
    }
   ],
   "source": [
    "# RMSLE results\n",
    "score = rmsle(y_test, preds)\n",
    "\n",
    "print('RMSLE for Random Forest Regression is', score)"
   ]
  },
  {
   "cell_type": "code",
   "execution_count": 196,
   "metadata": {},
   "outputs": [
    {
     "name": "stdout",
     "output_type": "stream",
     "text": [
      "MAPE for Random Forest is: 11.735471672568952\n"
     ]
    }
   ],
   "source": [
    "#MAPE\n",
    "print('MAPE for Random Forest is:', MAPE(y_test, preds))"
   ]
  },
  {
   "cell_type": "code",
   "execution_count": 197,
   "metadata": {},
   "outputs": [
    {
     "data": {
      "image/png": "[encoded data removed]",
      "text/plain": [
       "<Figure size 864x576 with 1 Axes>"
      ]
     },
     "metadata": {
      "needs_background": "light"
     },
     "output_type": "display_data"
    }
   ],
   "source": [
    "plt.figure(figsize = (12,8))\n",
    "\n",
    "plt.plot(train_lr.index, train_lr['confirmed'], label = 'train')\n",
    "plt.plot(test_lr.index, test_lr['confirmed'], label = 'test')\n",
    "plt.plot(test_lr.index, preds, label = 'preds')\n",
    "plt.title(\"Random Forest model\")\n",
    "plt.show()"
   ]
  },
  {
   "cell_type": "markdown",
   "metadata": {},
   "source": [
    "- Random Forest is clearly not performing well on the data. It is unable to predict beyond its observation in the train data"
   ]
  },
  {
   "cell_type": "code",
   "execution_count": 198,
   "metadata": {},
   "outputs": [
    {
     "data": {
      "text/plain": [
       "Text(0.5, 0, 'Relative Importance')"
      ]
     },
     "execution_count": 198,
     "metadata": {},
     "output_type": "execute_result"
    },
    {
     "data": {
      "image/png": "[encoded data removed]",
      "text/plain": [
       "<Figure size 432x288 with 1 Axes>"
      ]
     },
     "metadata": {
      "needs_background": "light"
     },
     "output_type": "display_data"
    }
   ],
   "source": [
    "#feature importance\n",
    "features = x_train.columns\n",
    "importances = model.feature_importances_\n",
    "indices = np.argsort(importances)\n",
    "\n",
    "plt.figure()\n",
    "plt.title('Feature Importances')\n",
    "plt.barh(range(len(indices)), importances[indices], color='b', align='center')\n",
    "plt.yticks(range(len(indices)), features[indices])\n",
    "plt.xlabel('Relative Importance')"
   ]
  },
  {
   "cell_type": "markdown",
   "metadata": {},
   "source": [
    "- feature importance shows year as the most important feature"
   ]
  },
  {
   "cell_type": "code",
   "execution_count": null,
   "metadata": {},
   "outputs": [],
   "source": []
  },
  {
   "cell_type": "markdown",
   "metadata": {},
   "source": [
    "### Facebook Prophet"
   ]
  },
  {
   "cell_type": "markdown",
   "metadata": {},
   "source": [
    "- Facebook Prophet Model for timeseries forecasting was introduced by the Facebook research team\n",
    "- FP algorithm includes 3 components, Trend, Seasonality, Holiday. Apart from these, we have some random error\n",
    "- i.e. Forecast = Trend + Seasonality + Holiday + error\n",
    "- Trend componenent models non-periodic changes in time-series(linear, non-linear)\n",
    "- Seasonality represents periodic changes(weekdays, weekends,summer holidays(i.e. regular holidays), yearly etc.)\n",
    "- Holiday for effects of holidays (may be irregular e.g. Thanksgiving, Easter), which do not occur in exact fixed period.\n",
    "- error is the information not explained by the model"
   ]
  },
  {
   "cell_type": "code",
   "execution_count": 199,
   "metadata": {},
   "outputs": [],
   "source": [
    "#!pip install fbprophet"
   ]
  },
  {
   "cell_type": "code",
   "execution_count": 200,
   "metadata": {},
   "outputs": [],
   "source": [
    "from fbprophet import Prophet"
   ]
  },
  {
   "cell_type": "code",
   "execution_count": 201,
   "metadata": {},
   "outputs": [],
   "source": [
    "train_fp = data_train[['date','confirmed']]\n",
    "test_fp = data_test[['date','confirmed']]"
   ]
  },
  {
   "cell_type": "code",
   "execution_count": 202,
   "metadata": {},
   "outputs": [
    {
     "data": {
      "text/html": [
       "<div>\n",
       "<style scoped>\n",
       "    .dataframe tbody tr th:only-of-type {\n",
       "        vertical-align: middle;\n",
       "    }\n",
       "\n",
       "    .dataframe tbody tr th {\n",
       "        vertical-align: top;\n",
       "    }\n",
       "\n",
       "    .dataframe thead th {\n",
       "        text-align: right;\n",
       "    }\n",
       "</style>\n",
       "<table border=\"1\" class=\"dataframe\">\n",
       "  <thead>\n",
       "    <tr style=\"text-align: right;\">\n",
       "      <th></th>\n",
       "      <th>date</th>\n",
       "      <th>confirmed</th>\n",
       "    </tr>\n",
       "  </thead>\n",
       "  <tbody>\n",
       "    <tr>\n",
       "      <th>2020-01-22</th>\n",
       "      <td>2020-01-22</td>\n",
       "      <td>0</td>\n",
       "    </tr>\n",
       "    <tr>\n",
       "      <th>2020-01-23</th>\n",
       "      <td>2020-01-23</td>\n",
       "      <td>0</td>\n",
       "    </tr>\n",
       "  </tbody>\n",
       "</table>\n",
       "</div>"
      ],
      "text/plain": [
       "                 date  confirmed\n",
       "2020-01-22 2020-01-22          0\n",
       "2020-01-23 2020-01-23          0"
      ]
     },
     "execution_count": 202,
     "metadata": {},
     "output_type": "execute_result"
    }
   ],
   "source": [
    "train_fp.head(2)"
   ]
  },
  {
   "cell_type": "markdown",
   "metadata": {},
   "source": [
    "- Prophet reqires the input in a specific form\n",
    "- which should be of form two columns in the dataset ds, y\n",
    "- first is the date column and named as ds\n",
    "- second is the target column or variable to forecast and named as y\n",
    "- prophet needs to be installed (pip install fbprophet)"
   ]
  },
  {
   "cell_type": "code",
   "execution_count": 203,
   "metadata": {},
   "outputs": [],
   "source": [
    "\n",
    "dfp = train_fp[['date', 'confirmed']]\n",
    "\n",
    "dfp.columns = ['ds','y'] #converting format to specified format for prophet\n",
    "dfp['ds'] = pd.to_datetime(dfp['ds']) #to ensure ds column is in the datetime format"
   ]
  },
  {
   "cell_type": "code",
   "execution_count": 204,
   "metadata": {},
   "outputs": [
    {
     "data": {
      "text/plain": [
       "ds    datetime64[ns]\n",
       "y              int64\n",
       "dtype: object"
      ]
     },
     "execution_count": 204,
     "metadata": {},
     "output_type": "execute_result"
    }
   ],
   "source": [
    "dfp.dtypes"
   ]
  },
  {
   "cell_type": "code",
   "execution_count": 205,
   "metadata": {},
   "outputs": [
    {
     "data": {
      "text/html": [
       "<div>\n",
       "<style scoped>\n",
       "    .dataframe tbody tr th:only-of-type {\n",
       "        vertical-align: middle;\n",
       "    }\n",
       "\n",
       "    .dataframe tbody tr th {\n",
       "        vertical-align: top;\n",
       "    }\n",
       "\n",
       "    .dataframe thead th {\n",
       "        text-align: right;\n",
       "    }\n",
       "</style>\n",
       "<table border=\"1\" class=\"dataframe\">\n",
       "  <thead>\n",
       "    <tr style=\"text-align: right;\">\n",
       "      <th></th>\n",
       "      <th>ds</th>\n",
       "      <th>y</th>\n",
       "    </tr>\n",
       "  </thead>\n",
       "  <tbody>\n",
       "    <tr>\n",
       "      <th>2020-01-22</th>\n",
       "      <td>2020-01-22</td>\n",
       "      <td>0</td>\n",
       "    </tr>\n",
       "    <tr>\n",
       "      <th>2020-01-23</th>\n",
       "      <td>2020-01-23</td>\n",
       "      <td>0</td>\n",
       "    </tr>\n",
       "    <tr>\n",
       "      <th>2020-01-24</th>\n",
       "      <td>2020-01-24</td>\n",
       "      <td>0</td>\n",
       "    </tr>\n",
       "    <tr>\n",
       "      <th>2020-01-25</th>\n",
       "      <td>2020-01-25</td>\n",
       "      <td>0</td>\n",
       "    </tr>\n",
       "    <tr>\n",
       "      <th>2020-01-26</th>\n",
       "      <td>2020-01-26</td>\n",
       "      <td>0</td>\n",
       "    </tr>\n",
       "  </tbody>\n",
       "</table>\n",
       "</div>"
      ],
      "text/plain": [
       "                   ds  y\n",
       "2020-01-22 2020-01-22  0\n",
       "2020-01-23 2020-01-23  0\n",
       "2020-01-24 2020-01-24  0\n",
       "2020-01-25 2020-01-25  0\n",
       "2020-01-26 2020-01-26  0"
      ]
     },
     "execution_count": 205,
     "metadata": {},
     "output_type": "execute_result"
    }
   ],
   "source": [
    "dfp.head()"
   ]
  },
  {
   "cell_type": "code",
   "execution_count": 206,
   "metadata": {},
   "outputs": [
    {
     "data": {
      "text/plain": [
       "(93, 2)"
      ]
     },
     "execution_count": 206,
     "metadata": {},
     "output_type": "execute_result"
    }
   ],
   "source": [
    "test_fp.shape"
   ]
  },
  {
   "cell_type": "code",
   "execution_count": 207,
   "metadata": {},
   "outputs": [
    {
     "name": "stderr",
     "output_type": "stream",
     "text": [
      "INFO:fbprophet:Disabling yearly seasonality. Run prophet with yearly_seasonality=True to override this.\n",
      "INFO:fbprophet:Disabling daily seasonality. Run prophet with daily_seasonality=True to override this.\n"
     ]
    },
    {
     "data": {
      "text/plain": [
       "<fbprophet.forecaster.Prophet at 0x168b1446d30>"
      ]
     },
     "execution_count": 207,
     "metadata": {},
     "output_type": "execute_result"
    }
   ],
   "source": [
    "#training the model on the given data\n",
    "model = Prophet()#create a class instance with the prophet library\n",
    "model.fit(dfp) #using the fit function to pass in the dataframe"
   ]
  },
  {
   "cell_type": "code",
   "execution_count": 208,
   "metadata": {},
   "outputs": [],
   "source": [
    "\n",
    "future = model.make_future_dataframe(periods=93,freq=\"D\") #making predictions with the trained model\n",
    "forecast = model.predict(future) #using the predict function to make the prediction\n",
    "#periods specifies the number of values to predict. So here the forecast is for the next 91 days\n",
    "#frequency(freq) in the dataset is the daily level frequency. To this I made reference to the documentation\n",
    "#on fp for frequency values. D used here is for daily frequency."
   ]
  },
  {
   "cell_type": "code",
   "execution_count": 209,
   "metadata": {},
   "outputs": [
    {
     "data": {
      "image/png": "[encoded data removed]",
      "text/plain": [
       "<Figure size 720x432 with 1 Axes>"
      ]
     },
     "metadata": {},
     "output_type": "display_data"
    }
   ],
   "source": [
    "fig = model.plot(forecast) #using plot function to plot the predictions"
   ]
  },
  {
   "cell_type": "markdown",
   "metadata": {},
   "source": [
    "- The black line shows the training data and up to the point that it stops\n",
    "- Followed by the point, is the predictions on the validation data\n",
    "- It is also noted here that prophet gives the forecast for the complete training and the validation data\n",
    "- To compare the predictions to original data, both data can be plotted together"
   ]
  },
  {
   "cell_type": "code",
   "execution_count": 210,
   "metadata": {},
   "outputs": [
    {
     "data": {
      "text/plain": [
       "((493, 2), (93, 2))"
      ]
     },
     "execution_count": 210,
     "metadata": {},
     "output_type": "execute_result"
    }
   ],
   "source": [
    "train_fp.shape, test_fp.shape"
   ]
  },
  {
   "cell_type": "code",
   "execution_count": 211,
   "metadata": {},
   "outputs": [
    {
     "data": {
      "text/plain": [
       "93"
      ]
     },
     "execution_count": 211,
     "metadata": {},
     "output_type": "execute_result"
    }
   ],
   "source": [
    "#inorder to extract the forecast only for the validation data, we can select the values after index 364,\n",
    "#which is after the training data\n",
    "#so we have 91 values for our validation data\n",
    "len(forecast['yhat'][493:].values)"
   ]
  },
  {
   "cell_type": "code",
   "execution_count": 212,
   "metadata": {},
   "outputs": [
    {
     "data": {
      "text/html": [
       "<div>\n",
       "<style scoped>\n",
       "    .dataframe tbody tr th:only-of-type {\n",
       "        vertical-align: middle;\n",
       "    }\n",
       "\n",
       "    .dataframe tbody tr th {\n",
       "        vertical-align: top;\n",
       "    }\n",
       "\n",
       "    .dataframe thead th {\n",
       "        text-align: right;\n",
       "    }\n",
       "</style>\n",
       "<table border=\"1\" class=\"dataframe\">\n",
       "  <thead>\n",
       "    <tr style=\"text-align: right;\">\n",
       "      <th></th>\n",
       "      <th>ds</th>\n",
       "      <th>trend</th>\n",
       "      <th>yhat_lower</th>\n",
       "      <th>yhat_upper</th>\n",
       "      <th>trend_lower</th>\n",
       "      <th>trend_upper</th>\n",
       "      <th>additive_terms</th>\n",
       "      <th>additive_terms_lower</th>\n",
       "      <th>additive_terms_upper</th>\n",
       "      <th>weekly</th>\n",
       "      <th>weekly_lower</th>\n",
       "      <th>weekly_upper</th>\n",
       "      <th>multiplicative_terms</th>\n",
       "      <th>multiplicative_terms_lower</th>\n",
       "      <th>multiplicative_terms_upper</th>\n",
       "      <th>yhat</th>\n",
       "    </tr>\n",
       "  </thead>\n",
       "  <tbody>\n",
       "    <tr>\n",
       "      <th>0</th>\n",
       "      <td>2020-01-22</td>\n",
       "      <td>-119.814481</td>\n",
       "      <td>-1660.754558</td>\n",
       "      <td>1400.147899</td>\n",
       "      <td>-119.814481</td>\n",
       "      <td>-119.814481</td>\n",
       "      <td>-42.333807</td>\n",
       "      <td>-42.333807</td>\n",
       "      <td>-42.333807</td>\n",
       "      <td>-42.333807</td>\n",
       "      <td>-42.333807</td>\n",
       "      <td>-42.333807</td>\n",
       "      <td>0.0</td>\n",
       "      <td>0.0</td>\n",
       "      <td>0.0</td>\n",
       "      <td>-162.148289</td>\n",
       "    </tr>\n",
       "    <tr>\n",
       "      <th>1</th>\n",
       "      <td>2020-01-23</td>\n",
       "      <td>-114.794441</td>\n",
       "      <td>-1720.282166</td>\n",
       "      <td>1407.035588</td>\n",
       "      <td>-114.794441</td>\n",
       "      <td>-114.794441</td>\n",
       "      <td>-2.899010</td>\n",
       "      <td>-2.899010</td>\n",
       "      <td>-2.899010</td>\n",
       "      <td>-2.899010</td>\n",
       "      <td>-2.899010</td>\n",
       "      <td>-2.899010</td>\n",
       "      <td>0.0</td>\n",
       "      <td>0.0</td>\n",
       "      <td>0.0</td>\n",
       "      <td>-117.693451</td>\n",
       "    </tr>\n",
       "    <tr>\n",
       "      <th>2</th>\n",
       "      <td>2020-01-24</td>\n",
       "      <td>-109.774401</td>\n",
       "      <td>-1605.799393</td>\n",
       "      <td>1556.194704</td>\n",
       "      <td>-109.774401</td>\n",
       "      <td>-109.774401</td>\n",
       "      <td>36.072333</td>\n",
       "      <td>36.072333</td>\n",
       "      <td>36.072333</td>\n",
       "      <td>36.072333</td>\n",
       "      <td>36.072333</td>\n",
       "      <td>36.072333</td>\n",
       "      <td>0.0</td>\n",
       "      <td>0.0</td>\n",
       "      <td>0.0</td>\n",
       "      <td>-73.702068</td>\n",
       "    </tr>\n",
       "    <tr>\n",
       "      <th>3</th>\n",
       "      <td>2020-01-25</td>\n",
       "      <td>-104.754360</td>\n",
       "      <td>-1568.022928</td>\n",
       "      <td>1686.387704</td>\n",
       "      <td>-104.754360</td>\n",
       "      <td>-104.754360</td>\n",
       "      <td>63.288365</td>\n",
       "      <td>63.288365</td>\n",
       "      <td>63.288365</td>\n",
       "      <td>63.288365</td>\n",
       "      <td>63.288365</td>\n",
       "      <td>63.288365</td>\n",
       "      <td>0.0</td>\n",
       "      <td>0.0</td>\n",
       "      <td>0.0</td>\n",
       "      <td>-41.465996</td>\n",
       "    </tr>\n",
       "    <tr>\n",
       "      <th>4</th>\n",
       "      <td>2020-01-26</td>\n",
       "      <td>-99.734320</td>\n",
       "      <td>-1552.180885</td>\n",
       "      <td>1443.484475</td>\n",
       "      <td>-99.734320</td>\n",
       "      <td>-99.734320</td>\n",
       "      <td>44.968490</td>\n",
       "      <td>44.968490</td>\n",
       "      <td>44.968490</td>\n",
       "      <td>44.968490</td>\n",
       "      <td>44.968490</td>\n",
       "      <td>44.968490</td>\n",
       "      <td>0.0</td>\n",
       "      <td>0.0</td>\n",
       "      <td>0.0</td>\n",
       "      <td>-54.765830</td>\n",
       "    </tr>\n",
       "  </tbody>\n",
       "</table>\n",
       "</div>"
      ],
      "text/plain": [
       "          ds       trend   yhat_lower   yhat_upper  trend_lower  trend_upper  \\\n",
       "0 2020-01-22 -119.814481 -1660.754558  1400.147899  -119.814481  -119.814481   \n",
       "1 2020-01-23 -114.794441 -1720.282166  1407.035588  -114.794441  -114.794441   \n",
       "2 2020-01-24 -109.774401 -1605.799393  1556.194704  -109.774401  -109.774401   \n",
       "3 2020-01-25 -104.754360 -1568.022928  1686.387704  -104.754360  -104.754360   \n",
       "4 2020-01-26  -99.734320 -1552.180885  1443.484475   -99.734320   -99.734320   \n",
       "\n",
       "   additive_terms  additive_terms_lower  additive_terms_upper     weekly  \\\n",
       "0      -42.333807            -42.333807            -42.333807 -42.333807   \n",
       "1       -2.899010             -2.899010             -2.899010  -2.899010   \n",
       "2       36.072333             36.072333             36.072333  36.072333   \n",
       "3       63.288365             63.288365             63.288365  63.288365   \n",
       "4       44.968490             44.968490             44.968490  44.968490   \n",
       "\n",
       "   weekly_lower  weekly_upper  multiplicative_terms  \\\n",
       "0    -42.333807    -42.333807                   0.0   \n",
       "1     -2.899010     -2.899010                   0.0   \n",
       "2     36.072333     36.072333                   0.0   \n",
       "3     63.288365     63.288365                   0.0   \n",
       "4     44.968490     44.968490                   0.0   \n",
       "\n",
       "   multiplicative_terms_lower  multiplicative_terms_upper        yhat  \n",
       "0                         0.0                         0.0 -162.148289  \n",
       "1                         0.0                         0.0 -117.693451  \n",
       "2                         0.0                         0.0  -73.702068  \n",
       "3                         0.0                         0.0  -41.465996  \n",
       "4                         0.0                         0.0  -54.765830  "
      ]
     },
     "execution_count": 212,
     "metadata": {},
     "output_type": "execute_result"
    }
   ],
   "source": [
    "#yhat is the final predictions, yhat_lower and yhat_upper which are the simply the lower and upper expected values\n",
    "#according to the model\n",
    "forecast.head()"
   ]
  },
  {
   "cell_type": "code",
   "execution_count": 213,
   "metadata": {},
   "outputs": [],
   "source": [
    "#saving the forecast in a variable prophet\n",
    "test_fp['prophet'] =  forecast['yhat'][493:].values"
   ]
  },
  {
   "cell_type": "code",
   "execution_count": null,
   "metadata": {},
   "outputs": [],
   "source": []
  },
  {
   "cell_type": "markdown",
   "metadata": {},
   "source": [
    "##### model assessment"
   ]
  },
  {
   "cell_type": "code",
   "execution_count": 214,
   "metadata": {},
   "outputs": [
    {
     "data": {
      "image/png": "[encoded data removed]",
      "text/plain": [
       "<Figure size 864x576 with 1 Axes>"
      ]
     },
     "metadata": {
      "needs_background": "light"
     },
     "output_type": "display_data"
    }
   ],
   "source": [
    "#plotting the forecast along with the original data\n",
    "plt.figure(figsize=(12,8))\n",
    "\n",
    "plt.plot(train_fp['confirmed'],  label='train') \n",
    "plt.plot(test_fp['confirmed'],  label='test') \n",
    "plt.plot(test_fp['prophet'],  label='predicted') \n",
    "plt.legend(loc='best') \n",
    "plt.title(\"Prophet model\")\n",
    "plt.show()"
   ]
  },
  {
   "cell_type": "markdown",
   "metadata": {},
   "source": [
    "- Predicted and validation data of the model are close"
   ]
  },
  {
   "cell_type": "code",
   "execution_count": 215,
   "metadata": {},
   "outputs": [],
   "source": [
    "# # calculating RMSE \n",
    "# rmse = sqrt(mean_squared_error(valid_fp['confirmed'], valid_fp['prophet']))\n",
    "# print('The RMSE value for Prophet is', rmse)"
   ]
  },
  {
   "cell_type": "code",
   "execution_count": 216,
   "metadata": {},
   "outputs": [
    {
     "name": "stdout",
     "output_type": "stream",
     "text": [
      "RMSLE for Prophet is: 4.889751842250679\n"
     ]
    }
   ],
   "source": [
    "# predictions and evaluation\n",
    "\n",
    "score = rmsle(test_fp['confirmed'], test_fp['prophet'])\n",
    "\n",
    "# results\n",
    "print('RMSLE for Prophet is:', score)"
   ]
  },
  {
   "cell_type": "code",
   "execution_count": 217,
   "metadata": {},
   "outputs": [
    {
     "name": "stdout",
     "output_type": "stream",
     "text": [
      "MAPE for Prophet is: 3.307376830116858\n"
     ]
    }
   ],
   "source": [
    "#MAPE\n",
    "print('MAPE for Prophet is:', MAPE(test_fp['confirmed'], test_fp['prophet']))"
   ]
  },
  {
   "cell_type": "markdown",
   "metadata": {},
   "source": [
    "- The low error metrics of the model indicate a very good performance"
   ]
  },
  {
   "cell_type": "code",
   "execution_count": 219,
   "metadata": {},
   "outputs": [],
   "source": []
  },
  {
   "cell_type": "code",
   "execution_count": null,
   "metadata": {},
   "outputs": [],
   "source": []
  },
  {
   "cell_type": "code",
   "execution_count": null,
   "metadata": {},
   "outputs": [],
   "source": []
  },
  {
   "cell_type": "markdown",
   "metadata": {},
   "source": [
    "# Structure of the Notebook\n",
    "\n",
    "1. Problem Statement\n",
    "2. Data Preprocessing(Outliers & Missing values)\n",
    "3. Feature extraction and exploration\n",
    "4. Data Split into Training, Validation and Test data\n",
    "5. Time Series Forecasting models\n",
    "6. Machine Learning models\n",
    "7. Forecast for next 3 months"
   ]
  },
  {
   "cell_type": "markdown",
   "metadata": {},
   "source": [
    "# 7. Forecast for next 3 months"
   ]
  },
  {
   "cell_type": "markdown",
   "metadata": {},
   "source": [
    "### A. using Arima"
   ]
  },
  {
   "cell_type": "code",
   "execution_count": 220,
   "metadata": {},
   "outputs": [
    {
     "data": {
      "text/html": [
       "<div>\n",
       "<style scoped>\n",
       "    .dataframe tbody tr th:only-of-type {\n",
       "        vertical-align: middle;\n",
       "    }\n",
       "\n",
       "    .dataframe tbody tr th {\n",
       "        vertical-align: top;\n",
       "    }\n",
       "\n",
       "    .dataframe thead th {\n",
       "        text-align: right;\n",
       "    }\n",
       "</style>\n",
       "<table border=\"1\" class=\"dataframe\">\n",
       "  <thead>\n",
       "    <tr style=\"text-align: right;\">\n",
       "      <th></th>\n",
       "      <th>confirmed</th>\n",
       "      <th>date</th>\n",
       "    </tr>\n",
       "  </thead>\n",
       "  <tbody>\n",
       "    <tr>\n",
       "      <th>2021-05-24</th>\n",
       "      <td>259159</td>\n",
       "      <td>2021-05-24</td>\n",
       "    </tr>\n",
       "    <tr>\n",
       "      <th>2021-05-25</th>\n",
       "      <td>259512</td>\n",
       "      <td>2021-05-25</td>\n",
       "    </tr>\n",
       "    <tr>\n",
       "      <th>2021-05-26</th>\n",
       "      <td>259957</td>\n",
       "      <td>2021-05-26</td>\n",
       "    </tr>\n",
       "    <tr>\n",
       "      <th>2021-05-27</th>\n",
       "      <td>260389</td>\n",
       "      <td>2021-05-27</td>\n",
       "    </tr>\n",
       "    <tr>\n",
       "      <th>2021-05-28</th>\n",
       "      <td>260850</td>\n",
       "      <td>2021-05-28</td>\n",
       "    </tr>\n",
       "  </tbody>\n",
       "</table>\n",
       "</div>"
      ],
      "text/plain": [
       "            confirmed       date\n",
       "2021-05-24     259159 2021-05-24\n",
       "2021-05-25     259512 2021-05-25\n",
       "2021-05-26     259957 2021-05-26\n",
       "2021-05-27     260389 2021-05-27\n",
       "2021-05-28     260850 2021-05-28"
      ]
     },
     "execution_count": 220,
     "metadata": {},
     "output_type": "execute_result"
    }
   ],
   "source": [
    "#using the training dataset for arima\n",
    "train_ar.tail()"
   ]
  },
  {
   "cell_type": "code",
   "execution_count": 221,
   "metadata": {},
   "outputs": [
    {
     "data": {
      "text/html": [
       "<div>\n",
       "<style scoped>\n",
       "    .dataframe tbody tr th:only-of-type {\n",
       "        vertical-align: middle;\n",
       "    }\n",
       "\n",
       "    .dataframe tbody tr th {\n",
       "        vertical-align: top;\n",
       "    }\n",
       "\n",
       "    .dataframe thead th {\n",
       "        text-align: right;\n",
       "    }\n",
       "</style>\n",
       "<table border=\"1\" class=\"dataframe\">\n",
       "  <thead>\n",
       "    <tr style=\"text-align: right;\">\n",
       "      <th></th>\n",
       "      <th>confirmed</th>\n",
       "      <th>date</th>\n",
       "      <th>arima</th>\n",
       "    </tr>\n",
       "  </thead>\n",
       "  <tbody>\n",
       "    <tr>\n",
       "      <th>2021-08-25</th>\n",
       "      <td>342329</td>\n",
       "      <td>2021-08-25</td>\n",
       "      <td>310617.224458</td>\n",
       "    </tr>\n",
       "    <tr>\n",
       "      <th>2021-08-26</th>\n",
       "      <td>344195</td>\n",
       "      <td>2021-08-26</td>\n",
       "      <td>311223.657313</td>\n",
       "    </tr>\n",
       "    <tr>\n",
       "      <th>2021-08-27</th>\n",
       "      <td>346070</td>\n",
       "      <td>2021-08-27</td>\n",
       "      <td>311831.135952</td>\n",
       "    </tr>\n",
       "    <tr>\n",
       "      <th>2021-08-28</th>\n",
       "      <td>348067</td>\n",
       "      <td>2021-08-28</td>\n",
       "      <td>312439.660092</td>\n",
       "    </tr>\n",
       "    <tr>\n",
       "      <th>2021-08-29</th>\n",
       "      <td>349773</td>\n",
       "      <td>2021-08-29</td>\n",
       "      <td>313049.229674</td>\n",
       "    </tr>\n",
       "  </tbody>\n",
       "</table>\n",
       "</div>"
      ],
      "text/plain": [
       "            confirmed       date          arima\n",
       "2021-08-25     342329 2021-08-25  310617.224458\n",
       "2021-08-26     344195 2021-08-26  311223.657313\n",
       "2021-08-27     346070 2021-08-27  311831.135952\n",
       "2021-08-28     348067 2021-08-28  312439.660092\n",
       "2021-08-29     349773 2021-08-29  313049.229674"
      ]
     },
     "execution_count": 221,
     "metadata": {},
     "output_type": "execute_result"
    }
   ],
   "source": [
    "test_ar.tail()"
   ]
  },
  {
   "cell_type": "code",
   "execution_count": 238,
   "metadata": {},
   "outputs": [],
   "source": [
    "# #generating date range for forecasting\n",
    "future_set = pd.DataFrame(data = pd.date_range(start = '2021-05-29', end= '2021-11-29', freq = 'D'),\n",
    "                        columns=['date'])"
   ]
  },
  {
   "cell_type": "code",
   "execution_count": 239,
   "metadata": {},
   "outputs": [
    {
     "data": {
      "text/html": [
       "<div>\n",
       "<style scoped>\n",
       "    .dataframe tbody tr th:only-of-type {\n",
       "        vertical-align: middle;\n",
       "    }\n",
       "\n",
       "    .dataframe tbody tr th {\n",
       "        vertical-align: top;\n",
       "    }\n",
       "\n",
       "    .dataframe thead th {\n",
       "        text-align: right;\n",
       "    }\n",
       "</style>\n",
       "<table border=\"1\" class=\"dataframe\">\n",
       "  <thead>\n",
       "    <tr style=\"text-align: right;\">\n",
       "      <th></th>\n",
       "      <th>date</th>\n",
       "    </tr>\n",
       "  </thead>\n",
       "  <tbody>\n",
       "    <tr>\n",
       "      <th>0</th>\n",
       "      <td>2021-05-29</td>\n",
       "    </tr>\n",
       "    <tr>\n",
       "      <th>1</th>\n",
       "      <td>2021-05-30</td>\n",
       "    </tr>\n",
       "    <tr>\n",
       "      <th>2</th>\n",
       "      <td>2021-05-31</td>\n",
       "    </tr>\n",
       "    <tr>\n",
       "      <th>3</th>\n",
       "      <td>2021-06-01</td>\n",
       "    </tr>\n",
       "    <tr>\n",
       "      <th>4</th>\n",
       "      <td>2021-06-02</td>\n",
       "    </tr>\n",
       "  </tbody>\n",
       "</table>\n",
       "</div>"
      ],
      "text/plain": [
       "        date\n",
       "0 2021-05-29\n",
       "1 2021-05-30\n",
       "2 2021-05-31\n",
       "3 2021-06-01\n",
       "4 2021-06-02"
      ]
     },
     "execution_count": 239,
     "metadata": {},
     "output_type": "execute_result"
    }
   ],
   "source": [
    "future_set.head()"
   ]
  },
  {
   "cell_type": "code",
   "execution_count": 240,
   "metadata": {},
   "outputs": [],
   "source": [
    "future_arima=future_set"
   ]
  },
  {
   "cell_type": "code",
   "execution_count": 241,
   "metadata": {},
   "outputs": [
    {
     "data": {
      "text/plain": [
       "((493, 2), (185, 1))"
      ]
     },
     "execution_count": 241,
     "metadata": {},
     "output_type": "execute_result"
    }
   ],
   "source": [
    "train_ar.shape, future_arima.shape"
   ]
  },
  {
   "cell_type": "code",
   "execution_count": 242,
   "metadata": {},
   "outputs": [
    {
     "data": {
      "text/html": [
       "<div>\n",
       "<style scoped>\n",
       "    .dataframe tbody tr th:only-of-type {\n",
       "        vertical-align: middle;\n",
       "    }\n",
       "\n",
       "    .dataframe tbody tr th {\n",
       "        vertical-align: top;\n",
       "    }\n",
       "\n",
       "    .dataframe thead th {\n",
       "        text-align: right;\n",
       "    }\n",
       "</style>\n",
       "<table border=\"1\" class=\"dataframe\">\n",
       "  <thead>\n",
       "    <tr style=\"text-align: right;\">\n",
       "      <th></th>\n",
       "      <th>date</th>\n",
       "    </tr>\n",
       "  </thead>\n",
       "  <tbody>\n",
       "    <tr>\n",
       "      <th>0</th>\n",
       "      <td>2021-05-29</td>\n",
       "    </tr>\n",
       "    <tr>\n",
       "      <th>1</th>\n",
       "      <td>2021-05-30</td>\n",
       "    </tr>\n",
       "    <tr>\n",
       "      <th>2</th>\n",
       "      <td>2021-05-31</td>\n",
       "    </tr>\n",
       "    <tr>\n",
       "      <th>3</th>\n",
       "      <td>2021-06-01</td>\n",
       "    </tr>\n",
       "    <tr>\n",
       "      <th>4</th>\n",
       "      <td>2021-06-02</td>\n",
       "    </tr>\n",
       "  </tbody>\n",
       "</table>\n",
       "</div>"
      ],
      "text/plain": [
       "        date\n",
       "0 2021-05-29\n",
       "1 2021-05-30\n",
       "2 2021-05-31\n",
       "3 2021-06-01\n",
       "4 2021-06-02"
      ]
     },
     "execution_count": 242,
     "metadata": {},
     "output_type": "execute_result"
    }
   ],
   "source": [
    "future_arima.head()"
   ]
  },
  {
   "cell_type": "code",
   "execution_count": 243,
   "metadata": {},
   "outputs": [
    {
     "data": {
      "text/html": [
       "<div>\n",
       "<style scoped>\n",
       "    .dataframe tbody tr th:only-of-type {\n",
       "        vertical-align: middle;\n",
       "    }\n",
       "\n",
       "    .dataframe tbody tr th {\n",
       "        vertical-align: top;\n",
       "    }\n",
       "\n",
       "    .dataframe thead th {\n",
       "        text-align: right;\n",
       "    }\n",
       "</style>\n",
       "<table border=\"1\" class=\"dataframe\">\n",
       "  <thead>\n",
       "    <tr style=\"text-align: right;\">\n",
       "      <th></th>\n",
       "      <th>date</th>\n",
       "    </tr>\n",
       "  </thead>\n",
       "  <tbody>\n",
       "    <tr>\n",
       "      <th>180</th>\n",
       "      <td>2021-11-25</td>\n",
       "    </tr>\n",
       "    <tr>\n",
       "      <th>181</th>\n",
       "      <td>2021-11-26</td>\n",
       "    </tr>\n",
       "    <tr>\n",
       "      <th>182</th>\n",
       "      <td>2021-11-27</td>\n",
       "    </tr>\n",
       "    <tr>\n",
       "      <th>183</th>\n",
       "      <td>2021-11-28</td>\n",
       "    </tr>\n",
       "    <tr>\n",
       "      <th>184</th>\n",
       "      <td>2021-11-29</td>\n",
       "    </tr>\n",
       "  </tbody>\n",
       "</table>\n",
       "</div>"
      ],
      "text/plain": [
       "          date\n",
       "180 2021-11-25\n",
       "181 2021-11-26\n",
       "182 2021-11-27\n",
       "183 2021-11-28\n",
       "184 2021-11-29"
      ]
     },
     "execution_count": 243,
     "metadata": {},
     "output_type": "execute_result"
    }
   ],
   "source": [
    "future_arima.tail()"
   ]
  },
  {
   "cell_type": "code",
   "execution_count": 244,
   "metadata": {},
   "outputs": [],
   "source": [
    "#forecasting model\n",
    "model = auto_arima(y = train_ar['confirmed'],\n",
    "                   m = 7, #seasonal perod of 7 days\n",
    "                   seasonal = True,\n",
    "                   stepwise = False)"
   ]
  },
  {
   "cell_type": "code",
   "execution_count": 245,
   "metadata": {},
   "outputs": [
    {
     "data": {
      "text/html": [
       "<table class=\"simpletable\">\n",
       "<caption>SARIMAX Results</caption>\n",
       "<tr>\n",
       "  <th>Dep. Variable:</th>           <td>y</td>        <th>  No. Observations:  </th>    <td>493</td>   \n",
       "</tr>\n",
       "<tr>\n",
       "  <th>Model:</th>           <td>SARIMAX(3, 2, 2)</td> <th>  Log Likelihood     </th> <td>-3479.556</td>\n",
       "</tr>\n",
       "<tr>\n",
       "  <th>Date:</th>            <td>Tue, 07 Sep 2021</td> <th>  AIC                </th> <td>6971.112</td> \n",
       "</tr>\n",
       "<tr>\n",
       "  <th>Time:</th>                <td>07:57:35</td>     <th>  BIC                </th> <td>6996.291</td> \n",
       "</tr>\n",
       "<tr>\n",
       "  <th>Sample:</th>                  <td>0</td>        <th>  HQIC               </th> <td>6981.000</td> \n",
       "</tr>\n",
       "<tr>\n",
       "  <th></th>                      <td> - 493</td>      <th>                     </th>     <td> </td>    \n",
       "</tr>\n",
       "<tr>\n",
       "  <th>Covariance Type:</th>        <td>opg</td>       <th>                     </th>     <td> </td>    \n",
       "</tr>\n",
       "</table>\n",
       "<table class=\"simpletable\">\n",
       "<tr>\n",
       "     <td></td>       <th>coef</th>     <th>std err</th>      <th>z</th>      <th>P>|z|</th>  <th>[0.025</th>    <th>0.975]</th>  \n",
       "</tr>\n",
       "<tr>\n",
       "  <th>ar.L1</th>  <td>    1.0923</td> <td>    0.038</td> <td>   28.989</td> <td> 0.000</td> <td>    1.018</td> <td>    1.166</td>\n",
       "</tr>\n",
       "<tr>\n",
       "  <th>ar.L2</th>  <td>   -0.1011</td> <td>    0.028</td> <td>   -3.648</td> <td> 0.000</td> <td>   -0.155</td> <td>   -0.047</td>\n",
       "</tr>\n",
       "<tr>\n",
       "  <th>ar.L3</th>  <td>   -0.3557</td> <td>    0.019</td> <td>  -18.540</td> <td> 0.000</td> <td>   -0.393</td> <td>   -0.318</td>\n",
       "</tr>\n",
       "<tr>\n",
       "  <th>ma.L1</th>  <td>   -1.4830</td> <td>    0.034</td> <td>  -44.203</td> <td> 0.000</td> <td>   -1.549</td> <td>   -1.417</td>\n",
       "</tr>\n",
       "<tr>\n",
       "  <th>ma.L2</th>  <td>    0.8361</td> <td>    0.025</td> <td>   34.025</td> <td> 0.000</td> <td>    0.788</td> <td>    0.884</td>\n",
       "</tr>\n",
       "<tr>\n",
       "  <th>sigma2</th> <td> 8.364e+04</td> <td> 1732.863</td> <td>   48.264</td> <td> 0.000</td> <td> 8.02e+04</td> <td>  8.7e+04</td>\n",
       "</tr>\n",
       "</table>\n",
       "<table class=\"simpletable\">\n",
       "<tr>\n",
       "  <th>Ljung-Box (L1) (Q):</th>     <td>0.13</td>  <th>  Jarque-Bera (JB):  </th> <td>21768.20</td>\n",
       "</tr>\n",
       "<tr>\n",
       "  <th>Prob(Q):</th>                <td>0.72</td>  <th>  Prob(JB):          </th>   <td>0.00</td>  \n",
       "</tr>\n",
       "<tr>\n",
       "  <th>Heteroskedasticity (H):</th> <td>12.38</td> <th>  Skew:              </th>   <td>-0.95</td> \n",
       "</tr>\n",
       "<tr>\n",
       "  <th>Prob(H) (two-sided):</th>    <td>0.00</td>  <th>  Kurtosis:          </th>   <td>35.56</td> \n",
       "</tr>\n",
       "</table><br/><br/>Warnings:<br/>[1] Covariance matrix calculated using the outer product of gradients (complex-step)."
      ],
      "text/plain": [
       "<class 'statsmodels.iolib.summary.Summary'>\n",
       "\"\"\"\n",
       "                               SARIMAX Results                                \n",
       "==============================================================================\n",
       "Dep. Variable:                      y   No. Observations:                  493\n",
       "Model:               SARIMAX(3, 2, 2)   Log Likelihood               -3479.556\n",
       "Date:                Tue, 07 Sep 2021   AIC                           6971.112\n",
       "Time:                        07:57:35   BIC                           6996.291\n",
       "Sample:                             0   HQIC                          6981.000\n",
       "                                - 493                                         \n",
       "Covariance Type:                  opg                                         \n",
       "==============================================================================\n",
       "                 coef    std err          z      P>|z|      [0.025      0.975]\n",
       "------------------------------------------------------------------------------\n",
       "ar.L1          1.0923      0.038     28.989      0.000       1.018       1.166\n",
       "ar.L2         -0.1011      0.028     -3.648      0.000      -0.155      -0.047\n",
       "ar.L3         -0.3557      0.019    -18.540      0.000      -0.393      -0.318\n",
       "ma.L1         -1.4830      0.034    -44.203      0.000      -1.549      -1.417\n",
       "ma.L2          0.8361      0.025     34.025      0.000       0.788       0.884\n",
       "sigma2      8.364e+04   1732.863     48.264      0.000    8.02e+04     8.7e+04\n",
       "===================================================================================\n",
       "Ljung-Box (L1) (Q):                   0.13   Jarque-Bera (JB):             21768.20\n",
       "Prob(Q):                              0.72   Prob(JB):                         0.00\n",
       "Heteroskedasticity (H):              12.38   Skew:                            -0.95\n",
       "Prob(H) (two-sided):                  0.00   Kurtosis:                        35.56\n",
       "===================================================================================\n",
       "\n",
       "Warnings:\n",
       "[1] Covariance matrix calculated using the outer product of gradients (complex-step).\n",
       "\"\"\""
      ]
     },
     "execution_count": 245,
     "metadata": {},
     "output_type": "execute_result"
    }
   ],
   "source": [
    "#summary\n",
    "model.summary()"
   ]
  },
  {
   "cell_type": "code",
   "execution_count": 246,
   "metadata": {},
   "outputs": [],
   "source": [
    "# fit the arima model\n",
    "model = ARIMA(train_ar['confirmed'], order=(3,2,2))\n",
    "model_fit = model.fit()\n",
    "\n",
    "\n",
    "#training the model\n",
    "# model = sarimax.SARIMAX(train_sa['confirmed'], seasonal_order=(0,0,0,7), order=(3,2,2))\n",
    "# fit1 = model.fit()"
   ]
  },
  {
   "cell_type": "code",
   "execution_count": 247,
   "metadata": {},
   "outputs": [],
   "source": [
    "# generate forecasts\n",
    "output = model_fit.forecast(185)\n",
    "\n",
    "# make predictions\n",
    "# test_sa['sarima'] = fit1.predict(start=\"2021-05-29\", end=\"2021-08-29\", dynamic=True)\n",
    "# future_arima['arima'] = model_fit.predict(start=\"2021-08-30\", end=\"2021-11-30\", dynamic=True)"
   ]
  },
  {
   "cell_type": "code",
   "execution_count": 248,
   "metadata": {},
   "outputs": [],
   "source": [
    "future_arima['arima'] = (pd.DataFrame(output[0])).values"
   ]
  },
  {
   "cell_type": "code",
   "execution_count": 249,
   "metadata": {},
   "outputs": [
    {
     "data": {
      "text/html": [
       "<div>\n",
       "<style scoped>\n",
       "    .dataframe tbody tr th:only-of-type {\n",
       "        vertical-align: middle;\n",
       "    }\n",
       "\n",
       "    .dataframe tbody tr th {\n",
       "        vertical-align: top;\n",
       "    }\n",
       "\n",
       "    .dataframe thead th {\n",
       "        text-align: right;\n",
       "    }\n",
       "</style>\n",
       "<table border=\"1\" class=\"dataframe\">\n",
       "  <thead>\n",
       "    <tr style=\"text-align: right;\">\n",
       "      <th></th>\n",
       "      <th>confirmed</th>\n",
       "      <th>date</th>\n",
       "      <th>arima</th>\n",
       "    </tr>\n",
       "  </thead>\n",
       "  <tbody>\n",
       "    <tr>\n",
       "      <th>2021-05-29</th>\n",
       "      <td>261306</td>\n",
       "      <td>2021-05-29</td>\n",
       "      <td>261306.149829</td>\n",
       "    </tr>\n",
       "    <tr>\n",
       "      <th>2021-05-30</th>\n",
       "      <td>261673</td>\n",
       "      <td>2021-05-30</td>\n",
       "      <td>261791.438290</td>\n",
       "    </tr>\n",
       "    <tr>\n",
       "      <th>2021-05-31</th>\n",
       "      <td>262043</td>\n",
       "      <td>2021-05-31</td>\n",
       "      <td>262299.113616</td>\n",
       "    </tr>\n",
       "    <tr>\n",
       "      <th>2021-06-01</th>\n",
       "      <td>262380</td>\n",
       "      <td>2021-06-01</td>\n",
       "      <td>262830.399001</td>\n",
       "    </tr>\n",
       "    <tr>\n",
       "      <th>2021-06-02</th>\n",
       "      <td>262787</td>\n",
       "      <td>2021-06-02</td>\n",
       "      <td>263375.225524</td>\n",
       "    </tr>\n",
       "  </tbody>\n",
       "</table>\n",
       "</div>"
      ],
      "text/plain": [
       "            confirmed       date          arima\n",
       "2021-05-29     261306 2021-05-29  261306.149829\n",
       "2021-05-30     261673 2021-05-30  261791.438290\n",
       "2021-05-31     262043 2021-05-31  262299.113616\n",
       "2021-06-01     262380 2021-06-01  262830.399001\n",
       "2021-06-02     262787 2021-06-02  263375.225524"
      ]
     },
     "execution_count": 249,
     "metadata": {},
     "output_type": "execute_result"
    }
   ],
   "source": [
    "test_ar.head()"
   ]
  },
  {
   "cell_type": "code",
   "execution_count": 250,
   "metadata": {},
   "outputs": [
    {
     "data": {
      "text/html": [
       "<div>\n",
       "<style scoped>\n",
       "    .dataframe tbody tr th:only-of-type {\n",
       "        vertical-align: middle;\n",
       "    }\n",
       "\n",
       "    .dataframe tbody tr th {\n",
       "        vertical-align: top;\n",
       "    }\n",
       "\n",
       "    .dataframe thead th {\n",
       "        text-align: right;\n",
       "    }\n",
       "</style>\n",
       "<table border=\"1\" class=\"dataframe\">\n",
       "  <thead>\n",
       "    <tr style=\"text-align: right;\">\n",
       "      <th></th>\n",
       "      <th>date</th>\n",
       "      <th>arima</th>\n",
       "    </tr>\n",
       "  </thead>\n",
       "  <tbody>\n",
       "    <tr>\n",
       "      <th>0</th>\n",
       "      <td>2021-05-29</td>\n",
       "      <td>261306.149829</td>\n",
       "    </tr>\n",
       "    <tr>\n",
       "      <th>1</th>\n",
       "      <td>2021-05-30</td>\n",
       "      <td>261791.438290</td>\n",
       "    </tr>\n",
       "    <tr>\n",
       "      <th>2</th>\n",
       "      <td>2021-05-31</td>\n",
       "      <td>262299.113616</td>\n",
       "    </tr>\n",
       "    <tr>\n",
       "      <th>3</th>\n",
       "      <td>2021-06-01</td>\n",
       "      <td>262830.399001</td>\n",
       "    </tr>\n",
       "    <tr>\n",
       "      <th>4</th>\n",
       "      <td>2021-06-02</td>\n",
       "      <td>263375.225524</td>\n",
       "    </tr>\n",
       "  </tbody>\n",
       "</table>\n",
       "</div>"
      ],
      "text/plain": [
       "        date          arima\n",
       "0 2021-05-29  261306.149829\n",
       "1 2021-05-30  261791.438290\n",
       "2 2021-05-31  262299.113616\n",
       "3 2021-06-01  262830.399001\n",
       "4 2021-06-02  263375.225524"
      ]
     },
     "execution_count": 250,
     "metadata": {},
     "output_type": "execute_result"
    }
   ],
   "source": [
    "future_arima.head()"
   ]
  },
  {
   "cell_type": "code",
   "execution_count": 251,
   "metadata": {},
   "outputs": [
    {
     "data": {
      "text/html": [
       "<div>\n",
       "<style scoped>\n",
       "    .dataframe tbody tr th:only-of-type {\n",
       "        vertical-align: middle;\n",
       "    }\n",
       "\n",
       "    .dataframe tbody tr th {\n",
       "        vertical-align: top;\n",
       "    }\n",
       "\n",
       "    .dataframe thead th {\n",
       "        text-align: right;\n",
       "    }\n",
       "</style>\n",
       "<table border=\"1\" class=\"dataframe\">\n",
       "  <thead>\n",
       "    <tr style=\"text-align: right;\">\n",
       "      <th></th>\n",
       "      <th>date</th>\n",
       "      <th>arima</th>\n",
       "    </tr>\n",
       "  </thead>\n",
       "  <tbody>\n",
       "    <tr>\n",
       "      <th>180</th>\n",
       "      <td>2021-11-25</td>\n",
       "      <td>370788.109904</td>\n",
       "    </tr>\n",
       "    <tr>\n",
       "      <th>181</th>\n",
       "      <td>2021-11-26</td>\n",
       "      <td>371490.787707</td>\n",
       "    </tr>\n",
       "    <tr>\n",
       "      <th>182</th>\n",
       "      <td>2021-11-27</td>\n",
       "      <td>372194.511671</td>\n",
       "    </tr>\n",
       "    <tr>\n",
       "      <th>183</th>\n",
       "      <td>2021-11-28</td>\n",
       "      <td>372899.281795</td>\n",
       "    </tr>\n",
       "    <tr>\n",
       "      <th>184</th>\n",
       "      <td>2021-11-29</td>\n",
       "      <td>373605.098080</td>\n",
       "    </tr>\n",
       "  </tbody>\n",
       "</table>\n",
       "</div>"
      ],
      "text/plain": [
       "          date          arima\n",
       "180 2021-11-25  370788.109904\n",
       "181 2021-11-26  371490.787707\n",
       "182 2021-11-27  372194.511671\n",
       "183 2021-11-28  372899.281795\n",
       "184 2021-11-29  373605.098080"
      ]
     },
     "execution_count": 251,
     "metadata": {},
     "output_type": "execute_result"
    }
   ],
   "source": [
    "future_arima.tail()"
   ]
  },
  {
   "cell_type": "code",
   "execution_count": 252,
   "metadata": {},
   "outputs": [
    {
     "data": {
      "image/png": "[encoded data removed]",
      "text/plain": [
       "<Figure size 864x576 with 1 Axes>"
      ]
     },
     "metadata": {
      "needs_background": "light"
     },
     "output_type": "display_data"
    }
   ],
   "source": [
    "plt.figure(figsize=(12,8))\n",
    "\n",
    "plt.plot(train_ar.index, train_ar['confirmed'], label='train')\n",
    "plt.plot(test_ar.index, test_ar['confirmed'], label='test')\n",
    "plt.plot(future_arima.date, future_arima['arima'], label='forecast')\n",
    "\n",
    "plt.legend(loc='best')\n",
    "plt.title(\"ARIMA model Forecast\")\n",
    "plt.show()"
   ]
  },
  {
   "cell_type": "code",
   "execution_count": null,
   "metadata": {},
   "outputs": [],
   "source": []
  },
  {
   "cell_type": "code",
   "execution_count": null,
   "metadata": {},
   "outputs": [],
   "source": []
  },
  {
   "cell_type": "code",
   "execution_count": null,
   "metadata": {},
   "outputs": [],
   "source": []
  },
  {
   "cell_type": "markdown",
   "metadata": {},
   "source": [
    "### B. using Facebook Prophet"
   ]
  },
  {
   "cell_type": "code",
   "execution_count": 253,
   "metadata": {},
   "outputs": [
    {
     "data": {
      "text/plain": [
       "(493, 2)"
      ]
     },
     "execution_count": 253,
     "metadata": {},
     "output_type": "execute_result"
    }
   ],
   "source": [
    "#using the training dataset for facebook prophet\n",
    "train_fp.shape"
   ]
  },
  {
   "cell_type": "code",
   "execution_count": 254,
   "metadata": {},
   "outputs": [
    {
     "data": {
      "text/plain": [
       "(93, 3)"
      ]
     },
     "execution_count": 254,
     "metadata": {},
     "output_type": "execute_result"
    }
   ],
   "source": [
    "test_fp.shape"
   ]
  },
  {
   "cell_type": "code",
   "execution_count": 255,
   "metadata": {},
   "outputs": [
    {
     "data": {
      "text/plain": [
       "(93, 3)"
      ]
     },
     "execution_count": 255,
     "metadata": {},
     "output_type": "execute_result"
    }
   ],
   "source": [
    "test_fp.shape"
   ]
  },
  {
   "cell_type": "code",
   "execution_count": 570,
   "metadata": {},
   "outputs": [],
   "source": [
    "# test_fp.head()"
   ]
  },
  {
   "cell_type": "code",
   "execution_count": 267,
   "metadata": {},
   "outputs": [],
   "source": [
    "#generating date range for prediction\n",
    "future_fp = pd.DataFrame(data = pd.date_range(start = '2021-05-29', end= '2021-11-29', freq = 'D'),\n",
    "                        columns=['date'])\n",
    "\n",
    "\n",
    "# future_fp = pd.DataFrame(data = pd.date_range(start = '2021-08-30', end= '2021-11-30', freq = 'D'),\n",
    "#                         columns=['date'])"
   ]
  },
  {
   "cell_type": "code",
   "execution_count": 268,
   "metadata": {},
   "outputs": [
    {
     "data": {
      "text/plain": [
       "(185, 1)"
      ]
     },
     "execution_count": 268,
     "metadata": {},
     "output_type": "execute_result"
    }
   ],
   "source": [
    "future_fp.shape"
   ]
  },
  {
   "cell_type": "code",
   "execution_count": 269,
   "metadata": {},
   "outputs": [],
   "source": [
    "fpp = train_fp[['date', 'confirmed']]"
   ]
  },
  {
   "cell_type": "code",
   "execution_count": 270,
   "metadata": {},
   "outputs": [],
   "source": [
    "fpp.columns = ['ds','y'] #converting format to specified format for prophet\n",
    "fpp['ds'] = pd.to_datetime(fpp['ds']) #to ensure ds column is in the datetime format"
   ]
  },
  {
   "cell_type": "code",
   "execution_count": 271,
   "metadata": {},
   "outputs": [
    {
     "data": {
      "text/plain": [
       "ds    datetime64[ns]\n",
       "y              int64\n",
       "dtype: object"
      ]
     },
     "execution_count": 271,
     "metadata": {},
     "output_type": "execute_result"
    }
   ],
   "source": [
    "fpp.dtypes"
   ]
  },
  {
   "cell_type": "code",
   "execution_count": 272,
   "metadata": {},
   "outputs": [
    {
     "data": {
      "text/html": [
       "<div>\n",
       "<style scoped>\n",
       "    .dataframe tbody tr th:only-of-type {\n",
       "        vertical-align: middle;\n",
       "    }\n",
       "\n",
       "    .dataframe tbody tr th {\n",
       "        vertical-align: top;\n",
       "    }\n",
       "\n",
       "    .dataframe thead th {\n",
       "        text-align: right;\n",
       "    }\n",
       "</style>\n",
       "<table border=\"1\" class=\"dataframe\">\n",
       "  <thead>\n",
       "    <tr style=\"text-align: right;\">\n",
       "      <th></th>\n",
       "      <th>ds</th>\n",
       "      <th>y</th>\n",
       "    </tr>\n",
       "  </thead>\n",
       "  <tbody>\n",
       "    <tr>\n",
       "      <th>2020-01-22</th>\n",
       "      <td>2020-01-22</td>\n",
       "      <td>0</td>\n",
       "    </tr>\n",
       "    <tr>\n",
       "      <th>2020-01-23</th>\n",
       "      <td>2020-01-23</td>\n",
       "      <td>0</td>\n",
       "    </tr>\n",
       "    <tr>\n",
       "      <th>2020-01-24</th>\n",
       "      <td>2020-01-24</td>\n",
       "      <td>0</td>\n",
       "    </tr>\n",
       "    <tr>\n",
       "      <th>2020-01-25</th>\n",
       "      <td>2020-01-25</td>\n",
       "      <td>0</td>\n",
       "    </tr>\n",
       "    <tr>\n",
       "      <th>2020-01-26</th>\n",
       "      <td>2020-01-26</td>\n",
       "      <td>0</td>\n",
       "    </tr>\n",
       "  </tbody>\n",
       "</table>\n",
       "</div>"
      ],
      "text/plain": [
       "                   ds  y\n",
       "2020-01-22 2020-01-22  0\n",
       "2020-01-23 2020-01-23  0\n",
       "2020-01-24 2020-01-24  0\n",
       "2020-01-25 2020-01-25  0\n",
       "2020-01-26 2020-01-26  0"
      ]
     },
     "execution_count": 272,
     "metadata": {},
     "output_type": "execute_result"
    }
   ],
   "source": [
    "fpp.head()"
   ]
  },
  {
   "cell_type": "code",
   "execution_count": 273,
   "metadata": {},
   "outputs": [
    {
     "name": "stderr",
     "output_type": "stream",
     "text": [
      "INFO:fbprophet:Disabling yearly seasonality. Run prophet with yearly_seasonality=True to override this.\n",
      "INFO:fbprophet:Disabling daily seasonality. Run prophet with daily_seasonality=True to override this.\n"
     ]
    },
    {
     "data": {
      "text/plain": [
       "<fbprophet.forecaster.Prophet at 0x1688c6a0220>"
      ]
     },
     "execution_count": 273,
     "metadata": {},
     "output_type": "execute_result"
    }
   ],
   "source": [
    "#training the model on the given data\n",
    "model = Prophet()#create a class instance with the prophet library\n",
    "model.fit(fpp) #using the fit function to pass in the dataframe"
   ]
  },
  {
   "cell_type": "code",
   "execution_count": 274,
   "metadata": {},
   "outputs": [
    {
     "data": {
      "text/plain": [
       "(185, 1)"
      ]
     },
     "execution_count": 274,
     "metadata": {},
     "output_type": "execute_result"
    }
   ],
   "source": [
    "future_fp.shape"
   ]
  },
  {
   "cell_type": "code",
   "execution_count": 277,
   "metadata": {},
   "outputs": [],
   "source": [
    "future = model.make_future_dataframe(periods=185,freq=\"D\") #making predictions with the trained model\n",
    "forecast = model.predict(future) #using the predict function to make the prediction"
   ]
  },
  {
   "cell_type": "code",
   "execution_count": 278,
   "metadata": {},
   "outputs": [
    {
     "data": {
      "image/png": "[encoded data removed]",
      "text/plain": [
       "<Figure size 720x432 with 1 Axes>"
      ]
     },
     "metadata": {},
     "output_type": "display_data"
    }
   ],
   "source": [
    "fig = model.plot(forecast) #using plot function to plot the predictions"
   ]
  },
  {
   "cell_type": "code",
   "execution_count": 279,
   "metadata": {},
   "outputs": [
    {
     "data": {
      "text/html": [
       "<div>\n",
       "<style scoped>\n",
       "    .dataframe tbody tr th:only-of-type {\n",
       "        vertical-align: middle;\n",
       "    }\n",
       "\n",
       "    .dataframe tbody tr th {\n",
       "        vertical-align: top;\n",
       "    }\n",
       "\n",
       "    .dataframe thead th {\n",
       "        text-align: right;\n",
       "    }\n",
       "</style>\n",
       "<table border=\"1\" class=\"dataframe\">\n",
       "  <thead>\n",
       "    <tr style=\"text-align: right;\">\n",
       "      <th></th>\n",
       "      <th>ds</th>\n",
       "      <th>trend</th>\n",
       "      <th>yhat_lower</th>\n",
       "      <th>yhat_upper</th>\n",
       "      <th>trend_lower</th>\n",
       "      <th>trend_upper</th>\n",
       "      <th>additive_terms</th>\n",
       "      <th>additive_terms_lower</th>\n",
       "      <th>additive_terms_upper</th>\n",
       "      <th>weekly</th>\n",
       "      <th>weekly_lower</th>\n",
       "      <th>weekly_upper</th>\n",
       "      <th>multiplicative_terms</th>\n",
       "      <th>multiplicative_terms_lower</th>\n",
       "      <th>multiplicative_terms_upper</th>\n",
       "      <th>yhat</th>\n",
       "    </tr>\n",
       "  </thead>\n",
       "  <tbody>\n",
       "    <tr>\n",
       "      <th>673</th>\n",
       "      <td>2021-11-25</td>\n",
       "      <td>348685.407351</td>\n",
       "      <td>82813.767284</td>\n",
       "      <td>594903.608225</td>\n",
       "      <td>83161.442814</td>\n",
       "      <td>594686.210656</td>\n",
       "      <td>-2.899010</td>\n",
       "      <td>-2.899010</td>\n",
       "      <td>-2.899010</td>\n",
       "      <td>-2.899010</td>\n",
       "      <td>-2.899010</td>\n",
       "      <td>-2.899010</td>\n",
       "      <td>0.0</td>\n",
       "      <td>0.0</td>\n",
       "      <td>0.0</td>\n",
       "      <td>348682.508341</td>\n",
       "    </tr>\n",
       "    <tr>\n",
       "      <th>674</th>\n",
       "      <td>2021-11-26</td>\n",
       "      <td>349163.010236</td>\n",
       "      <td>80568.361018</td>\n",
       "      <td>597722.477769</td>\n",
       "      <td>80627.220725</td>\n",
       "      <td>597915.986168</td>\n",
       "      <td>36.072333</td>\n",
       "      <td>36.072333</td>\n",
       "      <td>36.072333</td>\n",
       "      <td>36.072333</td>\n",
       "      <td>36.072333</td>\n",
       "      <td>36.072333</td>\n",
       "      <td>0.0</td>\n",
       "      <td>0.0</td>\n",
       "      <td>0.0</td>\n",
       "      <td>349199.082569</td>\n",
       "    </tr>\n",
       "    <tr>\n",
       "      <th>675</th>\n",
       "      <td>2021-11-27</td>\n",
       "      <td>349640.613120</td>\n",
       "      <td>77326.032414</td>\n",
       "      <td>600656.461584</td>\n",
       "      <td>77689.570725</td>\n",
       "      <td>600913.283374</td>\n",
       "      <td>63.288365</td>\n",
       "      <td>63.288365</td>\n",
       "      <td>63.288365</td>\n",
       "      <td>63.288365</td>\n",
       "      <td>63.288365</td>\n",
       "      <td>63.288365</td>\n",
       "      <td>0.0</td>\n",
       "      <td>0.0</td>\n",
       "      <td>0.0</td>\n",
       "      <td>349703.901485</td>\n",
       "    </tr>\n",
       "    <tr>\n",
       "      <th>676</th>\n",
       "      <td>2021-11-28</td>\n",
       "      <td>350118.216005</td>\n",
       "      <td>76081.969986</td>\n",
       "      <td>603330.971260</td>\n",
       "      <td>75210.830392</td>\n",
       "      <td>602334.491672</td>\n",
       "      <td>44.968490</td>\n",
       "      <td>44.968490</td>\n",
       "      <td>44.968490</td>\n",
       "      <td>44.968490</td>\n",
       "      <td>44.968490</td>\n",
       "      <td>44.968490</td>\n",
       "      <td>0.0</td>\n",
       "      <td>0.0</td>\n",
       "      <td>0.0</td>\n",
       "      <td>350163.184495</td>\n",
       "    </tr>\n",
       "    <tr>\n",
       "      <th>677</th>\n",
       "      <td>2021-11-29</td>\n",
       "      <td>350595.818889</td>\n",
       "      <td>72810.595856</td>\n",
       "      <td>605299.079758</td>\n",
       "      <td>73504.173233</td>\n",
       "      <td>604868.989277</td>\n",
       "      <td>-17.092945</td>\n",
       "      <td>-17.092945</td>\n",
       "      <td>-17.092945</td>\n",
       "      <td>-17.092945</td>\n",
       "      <td>-17.092945</td>\n",
       "      <td>-17.092945</td>\n",
       "      <td>0.0</td>\n",
       "      <td>0.0</td>\n",
       "      <td>0.0</td>\n",
       "      <td>350578.725944</td>\n",
       "    </tr>\n",
       "  </tbody>\n",
       "</table>\n",
       "</div>"
      ],
      "text/plain": [
       "            ds          trend    yhat_lower     yhat_upper   trend_lower  \\\n",
       "673 2021-11-25  348685.407351  82813.767284  594903.608225  83161.442814   \n",
       "674 2021-11-26  349163.010236  80568.361018  597722.477769  80627.220725   \n",
       "675 2021-11-27  349640.613120  77326.032414  600656.461584  77689.570725   \n",
       "676 2021-11-28  350118.216005  76081.969986  603330.971260  75210.830392   \n",
       "677 2021-11-29  350595.818889  72810.595856  605299.079758  73504.173233   \n",
       "\n",
       "       trend_upper  additive_terms  additive_terms_lower  \\\n",
       "673  594686.210656       -2.899010             -2.899010   \n",
       "674  597915.986168       36.072333             36.072333   \n",
       "675  600913.283374       63.288365             63.288365   \n",
       "676  602334.491672       44.968490             44.968490   \n",
       "677  604868.989277      -17.092945            -17.092945   \n",
       "\n",
       "     additive_terms_upper     weekly  weekly_lower  weekly_upper  \\\n",
       "673             -2.899010  -2.899010     -2.899010     -2.899010   \n",
       "674             36.072333  36.072333     36.072333     36.072333   \n",
       "675             63.288365  63.288365     63.288365     63.288365   \n",
       "676             44.968490  44.968490     44.968490     44.968490   \n",
       "677            -17.092945 -17.092945    -17.092945    -17.092945   \n",
       "\n",
       "     multiplicative_terms  multiplicative_terms_lower  \\\n",
       "673                   0.0                         0.0   \n",
       "674                   0.0                         0.0   \n",
       "675                   0.0                         0.0   \n",
       "676                   0.0                         0.0   \n",
       "677                   0.0                         0.0   \n",
       "\n",
       "     multiplicative_terms_upper           yhat  \n",
       "673                         0.0  348682.508341  \n",
       "674                         0.0  349199.082569  \n",
       "675                         0.0  349703.901485  \n",
       "676                         0.0  350163.184495  \n",
       "677                         0.0  350578.725944  "
      ]
     },
     "execution_count": 279,
     "metadata": {},
     "output_type": "execute_result"
    }
   ],
   "source": [
    "forecast.tail()"
   ]
  },
  {
   "cell_type": "code",
   "execution_count": null,
   "metadata": {},
   "outputs": [],
   "source": []
  }
 ],
 "metadata": {
  "kernelspec": {
   "display_name": "Python 3",
   "language": "python",
   "name": "python3"
  },
  "language_info": {
   "codemirror_mode": {
    "name": "ipython",
    "version": 3
   },
   "file_extension": ".py",
   "mimetype": "text/x-python",
   "name": "python",
   "nbconvert_exporter": "python",
   "pygments_lexer": "ipython3",
   "version": "3.8.5"
  }
 },
 "nbformat": 4,
 "nbformat_minor": 4
}
